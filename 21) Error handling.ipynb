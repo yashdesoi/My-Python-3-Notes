{
 "cells": [
  {
   "cell_type": "code",
   "execution_count": 2,
   "metadata": {},
   "outputs": [],
   "source": [
    "def add(n1,n2):\n",
    "    return n1 + n2"
   ]
  },
  {
   "cell_type": "code",
   "execution_count": 13,
   "metadata": {
    "scrolled": true
   },
   "outputs": [
    {
     "name": "stdout",
     "output_type": "stream",
     "text": [
      "this 'print' statement will definitely get executed even if there is some kind of error\n",
      "enter a number: 20\n",
      "but this 'print' statement won't get executed if there is some error\n",
      "30\n"
     ]
    }
   ],
   "source": [
    "#ERROR PRONE CODE\n",
    "\n",
    "num1 = 10\n",
    "\n",
    "print(\"this 'print' statement will definitely get executed even if there is some kind of error\")\n",
    "\n",
    "num2 = int(input('enter a number: '))\n",
    "\n",
    "print(\"but this 'print' statement won't get executed if there is some error\")\n",
    "\n",
    "print(add(num1,num2))"
   ]
  },
  {
   "cell_type": "code",
   "execution_count": 14,
   "metadata": {},
   "outputs": [
    {
     "name": "stdout",
     "output_type": "stream",
     "text": [
      "this 'print' statement will definitely get executed even if there is some kind of error\n",
      "Enter a number: twenty\n"
     ]
    },
    {
     "ename": "ValueError",
     "evalue": "invalid literal for int() with base 10: 'twenty'",
     "output_type": "error",
     "traceback": [
      "\u001b[1;31m---------------------------------------------------------------------------\u001b[0m",
      "\u001b[1;31mValueError\u001b[0m                                Traceback (most recent call last)",
      "\u001b[1;32m<ipython-input-14-24fc79e729c6>\u001b[0m in \u001b[0;36m<module>\u001b[1;34m\u001b[0m\n\u001b[0;32m      5\u001b[0m \u001b[0mprint\u001b[0m\u001b[1;33m(\u001b[0m\u001b[1;34m\"this 'print' statement will definitely get executed even if there is some kind of error\"\u001b[0m\u001b[1;33m)\u001b[0m\u001b[1;33m\u001b[0m\u001b[1;33m\u001b[0m\u001b[0m\n\u001b[0;32m      6\u001b[0m \u001b[1;33m\u001b[0m\u001b[0m\n\u001b[1;32m----> 7\u001b[1;33m \u001b[0mnum2\u001b[0m \u001b[1;33m=\u001b[0m \u001b[0mint\u001b[0m\u001b[1;33m(\u001b[0m\u001b[0minput\u001b[0m\u001b[1;33m(\u001b[0m\u001b[1;34m'Enter a number: '\u001b[0m\u001b[1;33m)\u001b[0m\u001b[1;33m)\u001b[0m\u001b[1;33m\u001b[0m\u001b[1;33m\u001b[0m\u001b[0m\n\u001b[0m\u001b[0;32m      8\u001b[0m \u001b[1;33m\u001b[0m\u001b[0m\n\u001b[0;32m      9\u001b[0m \u001b[0mprint\u001b[0m\u001b[1;33m(\u001b[0m\u001b[1;34m\"but this 'print' statement won't get executed if there is some error\"\u001b[0m\u001b[1;33m)\u001b[0m\u001b[1;33m\u001b[0m\u001b[1;33m\u001b[0m\u001b[0m\n",
      "\u001b[1;31mValueError\u001b[0m: invalid literal for int() with base 10: 'twenty'"
     ]
    }
   ],
   "source": [
    "#ERROR PRONE CODE\n",
    "\n",
    "num1 = 10\n",
    "\n",
    "print(\"this 'print' statement will definitely get executed even if there is some kind of error\")\n",
    "\n",
    "num2 = int(input('Enter a number: '))\n",
    "\n",
    "print(\"but this 'print' statement won't get executed if there is some error\")\n",
    "\n",
    "print(add(num1,num2))"
   ]
  },
  {
   "cell_type": "markdown",
   "metadata": {},
   "source": [
    "### <code>try</code>, <code>except</code>, <code>else</code> and <code>finally</code>"
   ]
  },
  {
   "cell_type": "code",
   "execution_count": 19,
   "metadata": {},
   "outputs": [
    {
     "name": "stdout",
     "output_type": "stream",
     "text": [
      "Enter a number: 50\n",
      "10 + 50 = 60\n",
      "*************\n"
     ]
    }
   ],
   "source": [
    "# FOR THIS REASON WE MAKE USE OF FOLLOWING\n",
    "\n",
    "try:\n",
    "    #ERROR PRONE CODE WILL COME HERE\n",
    "    num1 = 10\n",
    "\n",
    "    num2 = int(input('Enter a number: '))\n",
    "    \n",
    "except:\n",
    "    #THIS STATEMENT WILL EXECUTE ONLY IF THERE IS ACTUALLY SOME ERROR IN try STATEMENT\n",
    "    print('<wrong input>')\n",
    "    \n",
    "else:\n",
    "    #THIS STATEMENT WILL EXECUTE IF THERE IS NO ERROR AT ALL IN try STATEMENT\n",
    "    print(f'{num1} + {num2} = {add(num1,num2)}')\n",
    "    \n",
    "finally:\n",
    "    #WHETHER THERE IS ERROR OR NOT, THIS STATEMENT WILL ALWAYS GET EXECUTET\n",
    "    print('*************')"
   ]
  },
  {
   "cell_type": "code",
   "execution_count": 20,
   "metadata": {},
   "outputs": [
    {
     "name": "stdout",
     "output_type": "stream",
     "text": [
      "Enter a number: fifty\n",
      "<wrong input>\n",
      "*************\n"
     ]
    }
   ],
   "source": [
    "# FOR THIS REASON WE MAKE USE OF FOLLOWING\n",
    "\n",
    "try:\n",
    "    #ERROR PRONE CODE WILL COME HERE\n",
    "    num1 = 10\n",
    "\n",
    "    num2 = int(input('Enter a number: '))\n",
    "    \n",
    "except:\n",
    "    #THIS STATEMENT WILL EXECUTE ONLY IF THERE IS ACTUALLY SOME ERROR IN try STATEMENT\n",
    "    print('<wrong input>')\n",
    "    \n",
    "else:\n",
    "    #THIS STATEMENT WILL EXECUTE IF THERE IS NO ERROR AT ALL IN try STATEMENT\n",
    "    print(f'{num1} + {num2} = {add(num1,num2)}')\n",
    "    \n",
    "finally:\n",
    "    #WHETHER THERE IS ERROR OR NOT, THIS STATEMENT WILL ALWAYS GET EXECUTET\n",
    "    print('*************')"
   ]
  },
  {
   "cell_type": "markdown",
   "metadata": {},
   "source": [
    "### <code>try</code>, <code>except</code> and <code>else</code> inside while loop, for valid user-input"
   ]
  },
  {
   "cell_type": "code",
   "execution_count": 22,
   "metadata": {},
   "outputs": [
    {
     "name": "stdout",
     "output_type": "stream",
     "text": [
      "Enter a number: twenty\n",
      "<wrong input>\n",
      "Enter a number: 2O\n",
      "<wrong input>\n",
      "Enter a number: 20\n",
      "10 + 20 = 30\n"
     ]
    }
   ],
   "source": [
    "while True:\n",
    "    \n",
    "    try:\n",
    "        num1 = 10\n",
    "        num2 = int(input('Enter a number: '))\n",
    "    \n",
    "    except:\n",
    "        print('<wrong input>')\n",
    "    \n",
    "    else:\n",
    "        print(f'{num1} + {num2} = {add(num1,num2)}')\n",
    "        break   "
   ]
  },
  {
   "cell_type": "markdown",
   "metadata": {},
   "source": [
    "### Error-type specific <code>except</code> statement"
   ]
  },
  {
   "cell_type": "code",
   "execution_count": 1,
   "metadata": {},
   "outputs": [],
   "source": [
    "def divide(n1,n2):\n",
    "    return (n1/n2)"
   ]
  },
  {
   "cell_type": "code",
   "execution_count": 2,
   "metadata": {
    "scrolled": true
   },
   "outputs": [
    {
     "name": "stdout",
     "output_type": "stream",
     "text": [
      "Enter a number: 5\n",
      "It is a TypeError\n"
     ]
    }
   ],
   "source": [
    "try:\n",
    "    num1 = 10\n",
    "    num2 = input('Enter a number: ')\n",
    "    result = divide(num1,num2)\n",
    "    \n",
    "except TypeError:\n",
    "    print('It is a TypeError')\n",
    "    \n",
    "except ValueError:\n",
    "    print('It is a ValueError')\n",
    "    \n",
    "except ZeroDivisionError:\n",
    "    print('It is a ZeroDivisionError')\n",
    "    \n",
    "else:\n",
    "    print(f'{num1} ÷ {num2} = {result}')"
   ]
  },
  {
   "cell_type": "code",
   "execution_count": 3,
   "metadata": {
    "scrolled": true
   },
   "outputs": [
    {
     "name": "stdout",
     "output_type": "stream",
     "text": [
      "Enter a number: five\n",
      "It is a ValueError\n"
     ]
    }
   ],
   "source": [
    "try:\n",
    "    num1 = 10\n",
    "    num2 = int(input('Enter a number: '))\n",
    "    result = divide(num1,num2)\n",
    "    \n",
    "except TypeError:\n",
    "    print('It is a TypeError')\n",
    "    \n",
    "except ValueError:\n",
    "    print('It is a ValueError')\n",
    "    \n",
    "except ZeroDivisionError:\n",
    "    print('It is a ZeroDivisionError')\n",
    "    \n",
    "else:\n",
    "    print(f'{num1} ÷ {num2} = {result}')"
   ]
  },
  {
   "cell_type": "code",
   "execution_count": 6,
   "metadata": {},
   "outputs": [
    {
     "name": "stdout",
     "output_type": "stream",
     "text": [
      "Enter a number: 0\n",
      "It is a ZeroDivisionError\n"
     ]
    }
   ],
   "source": [
    "try:\n",
    "    num1 = 10\n",
    "    num2 = int(input('Enter a number: '))\n",
    "    result = divide(num1,num2)\n",
    "    \n",
    "except TypeError:\n",
    "    print('It is a TypeError')\n",
    "    \n",
    "except ValueError:\n",
    "    print('It is a ValueError')\n",
    "    \n",
    "except ZeroDivisionError:\n",
    "    print('It is a ZeroDivisionError')\n",
    "    \n",
    "else:\n",
    "    print(f'{num1} ÷ {num2} = {result}')"
   ]
  },
  {
   "cell_type": "code",
   "execution_count": 7,
   "metadata": {},
   "outputs": [
    {
     "name": "stdout",
     "output_type": "stream",
     "text": [
      "Enter a number: 2\n",
      "10 ÷ 2 = 5.0\n"
     ]
    }
   ],
   "source": [
    "try:\n",
    "    num1 = 10\n",
    "    num2 = int(input('Enter a number: '))\n",
    "    result = divide(num1,num2)\n",
    "    \n",
    "except TypeError:\n",
    "    print('It is a TypeError')\n",
    "    \n",
    "except ValueError:\n",
    "    print('It is a ValueError')\n",
    "    \n",
    "except ZeroDivisionError:\n",
    "    print('It is a ZeroDivisionError')\n",
    "    \n",
    "else:\n",
    "    print(f'{num1} ÷ {num2} = {result}')"
   ]
  },
  {
   "cell_type": "code",
   "execution_count": null,
   "metadata": {},
   "outputs": [],
   "source": []
  }
 ],
 "metadata": {
  "kernelspec": {
   "display_name": "Python 3",
   "language": "python",
   "name": "python3"
  },
  "language_info": {
   "codemirror_mode": {
    "name": "ipython",
    "version": 3
   },
   "file_extension": ".py",
   "mimetype": "text/x-python",
   "name": "python",
   "nbconvert_exporter": "python",
   "pygments_lexer": "ipython3",
   "version": "3.7.1"
  }
 },
 "nbformat": 4,
 "nbformat_minor": 4
}
