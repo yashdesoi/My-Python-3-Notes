{
 "cells": [
  {
   "cell_type": "markdown",
   "metadata": {},
   "source": [
    "# Creating Classes"
   ]
  },
  {
   "cell_type": "code",
   "execution_count": 13,
   "metadata": {},
   "outputs": [],
   "source": [
    "class Employee():\n",
    "    pass"
   ]
  },
  {
   "cell_type": "code",
   "execution_count": 14,
   "metadata": {},
   "outputs": [],
   "source": [
    "emp_1 = Employee()"
   ]
  },
  {
   "cell_type": "code",
   "execution_count": 15,
   "metadata": {},
   "outputs": [],
   "source": [
    "emp_2 = Employee()"
   ]
  },
  {
   "cell_type": "code",
   "execution_count": 25,
   "metadata": {},
   "outputs": [],
   "source": [
    "emp_1.first_name = 'Yash'\n",
    "emp_1.last_name = 'Desai'"
   ]
  },
  {
   "cell_type": "code",
   "execution_count": 29,
   "metadata": {},
   "outputs": [],
   "source": [
    "emp_2.first_name = 'Tyler'\n",
    "emp_2.last_name = 'Durden'"
   ]
  },
  {
   "cell_type": "code",
   "execution_count": 26,
   "metadata": {},
   "outputs": [],
   "source": [
    "emp_1.email_id = f'{emp_1.first_name}' + '.' + f'{emp_1.last_name}' + '@company.com'"
   ]
  },
  {
   "cell_type": "code",
   "execution_count": 27,
   "metadata": {},
   "outputs": [],
   "source": [
    "emp_2.salary = 60000"
   ]
  },
  {
   "cell_type": "code",
   "execution_count": 1,
   "metadata": {},
   "outputs": [],
   "source": [
    "#BETTER WAY\n",
    "class Employee():\n",
    "    \n",
    "# 'self' is used to indicate the indicate the instances of the object. self --> emp_1, emp_2, emp_3 etc. \n",
    "#Therefore self.first_name <--> emp_3.first_name holds the reference to particular value of the attribute first_name\n",
    "# belonging to the emp_1\n",
    "\n",
    "    def __init__(self,first_name,last_name):\n",
    "        self.first_name = first_name\n",
    "        self.last_name = last_name\n",
    "        self.email_id = f'{self.first_name}' + '.' + f'{self.last_name}' + '@company.com'\n",
    "    \n",
    "    #Methods automatically take instances as their first arguments\n",
    "    def full_name(self):\n",
    "        return f'{self.first_name} {self.last_name}'"
   ]
  },
  {
   "cell_type": "code",
   "execution_count": 2,
   "metadata": {},
   "outputs": [],
   "source": [
    "emp_3 = Employee('Light','Yagami')\n",
    "emp_4 = Employee('L','Lawliet')"
   ]
  },
  {
   "cell_type": "code",
   "execution_count": 3,
   "metadata": {},
   "outputs": [
    {
     "data": {
      "text/plain": [
       "'Yagami'"
      ]
     },
     "execution_count": 3,
     "metadata": {},
     "output_type": "execute_result"
    }
   ],
   "source": [
    "#here self point towards the value of the last_name specific to emp_3\n",
    "emp_3.last_name"
   ]
  },
  {
   "cell_type": "code",
   "execution_count": 4,
   "metadata": {},
   "outputs": [
    {
     "data": {
      "text/plain": [
       "'L'"
      ]
     },
     "execution_count": 4,
     "metadata": {},
     "output_type": "execute_result"
    }
   ],
   "source": [
    "emp_4.first_name"
   ]
  },
  {
   "cell_type": "code",
   "execution_count": 5,
   "metadata": {},
   "outputs": [
    {
     "data": {
      "text/plain": [
       "'Lawliet'"
      ]
     },
     "execution_count": 5,
     "metadata": {},
     "output_type": "execute_result"
    }
   ],
   "source": [
    "emp_4.last_name"
   ]
  },
  {
   "cell_type": "code",
   "execution_count": 6,
   "metadata": {},
   "outputs": [
    {
     "data": {
      "text/plain": [
       "'L Lawliet'"
      ]
     },
     "execution_count": 6,
     "metadata": {},
     "output_type": "execute_result"
    }
   ],
   "source": [
    "# usuall way to use method\n",
    "emp_4.full_name()"
   ]
  },
  {
   "cell_type": "code",
   "execution_count": 37,
   "metadata": {
    "scrolled": true
   },
   "outputs": [
    {
     "data": {
      "text/plain": [
       "'Light Yagami'"
      ]
     },
     "execution_count": 37,
     "metadata": {},
     "output_type": "execute_result"
    }
   ],
   "source": [
    "# unusuall way to use method\n",
    "Employee.full_name(emp_3)"
   ]
  },
  {
   "cell_type": "markdown",
   "metadata": {},
   "source": [
    "# Class Variable"
   ]
  },
  {
   "cell_type": "code",
   "execution_count": 1,
   "metadata": {},
   "outputs": [],
   "source": [
    "class Employee():\n",
    "    \n",
    "    num_of_emp = 0\n",
    "    pay_raise_amount = 2\n",
    "    \n",
    "    def __init__(self,first,last,pay):\n",
    "        self.first = first\n",
    "        self.last = last\n",
    "        self.pay = pay\n",
    "        self.email = first.lower() + '.' + last.lower() + '@company.com'\n",
    "        \n",
    "        Employee.num_of_emp += 1\n",
    "        \n",
    "    def full_name(self):\n",
    "        return self.first + ' ' + self.last\n",
    "    \n",
    "    # difference between self.class_variable and Class_name.class_variable\n",
    "    def raise_pay_1(self):\n",
    "        self.pay = int(self.pay * self.pay_raise_amount)\n",
    "        \n",
    "    def raise_pay_2(self):\n",
    "        self.pay = int(self.pay * Employee.pay_raise_amount)"
   ]
  },
  {
   "cell_type": "code",
   "execution_count": 2,
   "metadata": {},
   "outputs": [],
   "source": [
    "emp_1 = Employee('Yash','Desai',5)\n",
    "\n",
    "emp_2 = Employee('Kunal','Gaikwad',3)\n",
    "\n",
    "emp_3 = Employee('Arjun','Roy',4)"
   ]
  },
  {
   "cell_type": "code",
   "execution_count": 3,
   "metadata": {},
   "outputs": [
    {
     "data": {
      "text/plain": [
       "3"
      ]
     },
     "execution_count": 3,
     "metadata": {},
     "output_type": "execute_result"
    }
   ],
   "source": [
    "Employee.num_of_emp"
   ]
  },
  {
   "cell_type": "code",
   "execution_count": 4,
   "metadata": {},
   "outputs": [
    {
     "name": "stdout",
     "output_type": "stream",
     "text": [
      "Yash Desai:- 5\n",
      "Kunal Gaikwad:- 3\n",
      "Arjun Roy:- 4\n"
     ]
    }
   ],
   "source": [
    "print(f'{emp_1.full_name()}:- {emp_1.pay}\\n{emp_2.full_name()}:- {emp_2.pay}\\n{emp_3.full_name()}:- {emp_3.pay}')"
   ]
  },
  {
   "cell_type": "code",
   "execution_count": 5,
   "metadata": {},
   "outputs": [],
   "source": [
    "emp_1.raise_pay_2()\n",
    "emp_2.raise_pay_2()\n",
    "emp_3.raise_pay_2()"
   ]
  },
  {
   "cell_type": "code",
   "execution_count": 6,
   "metadata": {},
   "outputs": [
    {
     "name": "stdout",
     "output_type": "stream",
     "text": [
      "Yash Desai:- 10\n",
      "Kunal Gaikwad:- 6\n",
      "Arjun Roy:- 8\n"
     ]
    }
   ],
   "source": [
    "print(f'{emp_1.full_name()}:- {emp_1.pay}\\n{emp_2.full_name()}:- {emp_2.pay}\\n{emp_3.full_name()}:- {emp_3.pay}')"
   ]
  },
  {
   "cell_type": "code",
   "execution_count": 7,
   "metadata": {},
   "outputs": [],
   "source": [
    "# changing value of class_attribute for specific instance only\n",
    "emp_1.pay_raise_amount = 3"
   ]
  },
  {
   "cell_type": "code",
   "execution_count": 8,
   "metadata": {},
   "outputs": [
    {
     "name": "stdout",
     "output_type": "stream",
     "text": [
      "emp_1.pay_raise_amount = 3\n",
      "emp_2.pay_raise_amount = 2\n",
      "emp_3.pay_raise_amount = 2\n",
      "Employee.pay_raise_amount = 2\n"
     ]
    }
   ],
   "source": [
    "print(f'emp_1.pay_raise_amount = {emp_1.pay_raise_amount}')\n",
    "print(f'emp_2.pay_raise_amount = {emp_2.pay_raise_amount}')\n",
    "print(f'emp_3.pay_raise_amount = {emp_3.pay_raise_amount}')\n",
    "print(f'Employee.pay_raise_amount = {Employee.pay_raise_amount}')"
   ]
  },
  {
   "cell_type": "code",
   "execution_count": 9,
   "metadata": {},
   "outputs": [],
   "source": [
    "emp_1.raise_pay_2()\n",
    "emp_2.raise_pay_2()\n",
    "emp_3.raise_pay_2()"
   ]
  },
  {
   "cell_type": "code",
   "execution_count": 10,
   "metadata": {},
   "outputs": [
    {
     "name": "stdout",
     "output_type": "stream",
     "text": [
      "Yash Desai:- 20\n",
      "Kunal Gaikwad:- 12\n",
      "Arjun Roy:- 16\n"
     ]
    }
   ],
   "source": [
    "# pay of each instances has increased 2x because raise_pay_2 was used, which uses Employee.pay_raise_amount\n",
    "print(f'{emp_1.full_name()}:- {emp_1.pay}\\n{emp_2.full_name()}:- {emp_2.pay}\\n{emp_3.full_name()}:- {emp_3.pay}')"
   ]
  },
  {
   "cell_type": "code",
   "execution_count": 11,
   "metadata": {},
   "outputs": [],
   "source": [
    "emp_1.raise_pay_1()\n",
    "emp_2.raise_pay_1()\n",
    "emp_3.raise_pay_1()"
   ]
  },
  {
   "cell_type": "code",
   "execution_count": 12,
   "metadata": {},
   "outputs": [
    {
     "name": "stdout",
     "output_type": "stream",
     "text": [
      "Yash Desai:- 60\n",
      "Kunal Gaikwad:- 24\n",
      "Arjun Roy:- 32\n"
     ]
    }
   ],
   "source": [
    "# pay of emp_1 has increased 3x and for rest of them it increased 2x because raise_pay_1 was used, which uses\n",
    "# self.pay_raise_amount.That is pay_raise_amount attribute specific to each instances.\n",
    "# since self.pay_raise_amount was changed to 3 for self-->emp_1 hence it captured that\n",
    "print(f'{emp_1.full_name()}:- {emp_1.pay}\\n{emp_2.full_name()}:- {emp_2.pay}\\n{emp_3.full_name()}:- {emp_3.pay}')"
   ]
  },
  {
   "cell_type": "code",
   "execution_count": 13,
   "metadata": {
    "scrolled": true
   },
   "outputs": [
    {
     "name": "stdout",
     "output_type": "stream",
     "text": [
      "2\n",
      "3\n",
      "2\n",
      "2\n"
     ]
    }
   ],
   "source": [
    "print(Employee.pay_raise_amount)\n",
    "print(emp_1.pay_raise_amount)\n",
    "print(emp_2.pay_raise_amount)\n",
    "print(emp_3.pay_raise_amount)"
   ]
  },
  {
   "cell_type": "markdown",
   "metadata": {},
   "source": [
    "# Inheritance and sub-class"
   ]
  },
  {
   "cell_type": "code",
   "execution_count": 2,
   "metadata": {},
   "outputs": [],
   "source": [
    "class Employee():\n",
    "    \n",
    "    num_of_emp = 0\n",
    "    raise_amount = 5000\n",
    "    \n",
    "    def __init__(self,first,last,pay):\n",
    "        self.first = first\n",
    "        self.last = last\n",
    "        self.pay = pay\n",
    "        self.email = first.lower() + '.' + last.lower() + '@company.com'\n",
    "        \n",
    "        Employee.num_of_emp += 1\n",
    "        \n",
    "    def full_name(self):\n",
    "        return self.first + ' ' + self.last\n",
    "    \n",
    "    def raise_pay_1(self):\n",
    "        self.pay = int(self.pay + self.raise_amount)\n",
    "        \n",
    "    def raise_pay_2(self):\n",
    "        self.pay = int(self.pay + Employee.raise_amount)"
   ]
  },
  {
   "cell_type": "code",
   "execution_count": 3,
   "metadata": {},
   "outputs": [],
   "source": [
    "class Developer(Employee):\n",
    "    \n",
    "    raise_amount = 6000\n",
    "    \n",
    "    def __init__(self,first,last,pay,prog_lang):\n",
    "        Employee.__init__(self,first,last,pay)     \n",
    "        self.prog_lang = prog_lang"
   ]
  },
  {
   "cell_type": "code",
   "execution_count": 4,
   "metadata": {},
   "outputs": [],
   "source": [
    "dev_1 = Developer('Yash','Desai',50000,'Python')\n",
    "dev_2 = Developer('Javin','Paul',60000,'Java')\n",
    "dev_3 = Developer('Jeetu','Singh',45000,'Python')"
   ]
  },
  {
   "cell_type": "code",
   "execution_count": 39,
   "metadata": {},
   "outputs": [
    {
     "data": {
      "text/plain": [
       "3"
      ]
     },
     "execution_count": 39,
     "metadata": {},
     "output_type": "execute_result"
    }
   ],
   "source": [
    "Employee.num_of_emp"
   ]
  },
  {
   "cell_type": "code",
   "execution_count": 40,
   "metadata": {},
   "outputs": [],
   "source": [
    "dev_1.raise_pay_1()\n",
    "dev_2.raise_pay_2()"
   ]
  },
  {
   "cell_type": "code",
   "execution_count": 41,
   "metadata": {},
   "outputs": [
    {
     "data": {
      "text/plain": [
       "56000"
      ]
     },
     "execution_count": 41,
     "metadata": {},
     "output_type": "execute_result"
    }
   ],
   "source": [
    "# since raise_pay_1() had self.raise_amount, hence self <--> dev_1 was pointed which marked local raise_amount in\n",
    "# Developer Class\n",
    "dev_1.pay"
   ]
  },
  {
   "cell_type": "code",
   "execution_count": 42,
   "metadata": {},
   "outputs": [
    {
     "data": {
      "text/plain": [
       "65000"
      ]
     },
     "execution_count": 42,
     "metadata": {},
     "output_type": "execute_result"
    }
   ],
   "source": [
    "# since raise_pay_2() had Employee.raise_amount, hence raise_amount local to Employee Class was markde\n",
    "dev_2.pay"
   ]
  },
  {
   "cell_type": "code",
   "execution_count": 43,
   "metadata": {},
   "outputs": [
    {
     "data": {
      "text/plain": [
       "__main__.Developer"
      ]
     },
     "execution_count": 43,
     "metadata": {},
     "output_type": "execute_result"
    }
   ],
   "source": [
    "type(dev_1)"
   ]
  },
  {
   "cell_type": "code",
   "execution_count": 9,
   "metadata": {},
   "outputs": [],
   "source": [
    "class Manager(Employee):\n",
    "    \n",
    "    def __init__(self,first,last,pay,emp_list = None):\n",
    "        Employee.__init__(self,first,last,pay)\n",
    "        \n",
    "        if emp_list == None:\n",
    "            self.emp_list = []\n",
    "            \n",
    "        else:\n",
    "            self.emp_list = emp_list\n",
    "            \n",
    "    def add_emp(self,new_emp):\n",
    "        if isinstance(new_emp,Developer) and new_emp not in self.emp_list:\n",
    "            self.emp_list.append(new_emp)\n",
    "            \n",
    "        elif isinstance(new_emp,Developer):\n",
    "            print('already in your employee list')\n",
    "            \n",
    "        else:\n",
    "            print(f'{new_emp} is not our employee')\n",
    "            \n",
    "    def remove_emp(self,old_emp):\n",
    "        if old_emp in self.emp_list:\n",
    "            self.emp_list.remove(old_emp)\n",
    "            \n",
    "        else:\n",
    "            print(f'{old_emp} is not in your employee list')\n",
    "            \n",
    "    def print_emps(self):\n",
    "        i = 0\n",
    "        for emp in self.emp_list:\n",
    "            i += 1\n",
    "            print(f'{i}> {emp.full_name()}')"
   ]
  },
  {
   "cell_type": "code",
   "execution_count": 10,
   "metadata": {},
   "outputs": [],
   "source": [
    "mng_1 = Manager('David','Thakur',100000,[dev_2,dev_3])"
   ]
  },
  {
   "cell_type": "code",
   "execution_count": 11,
   "metadata": {},
   "outputs": [
    {
     "name": "stdout",
     "output_type": "stream",
     "text": [
      "1> Javin Paul\n",
      "2> Jeetu Singh\n"
     ]
    }
   ],
   "source": [
    "mng_1.print_emps()"
   ]
  },
  {
   "cell_type": "code",
   "execution_count": 12,
   "metadata": {
    "scrolled": true
   },
   "outputs": [],
   "source": [
    "mng_1.add_emp(dev_1)"
   ]
  },
  {
   "cell_type": "code",
   "execution_count": 13,
   "metadata": {},
   "outputs": [
    {
     "name": "stdout",
     "output_type": "stream",
     "text": [
      "1> Javin Paul\n",
      "2> Jeetu Singh\n",
      "3> Yash Desai\n"
     ]
    }
   ],
   "source": [
    "mng_1.print_emps()"
   ]
  },
  {
   "cell_type": "code",
   "execution_count": 14,
   "metadata": {},
   "outputs": [],
   "source": [
    "mng_1.remove_emp(dev_2)"
   ]
  },
  {
   "cell_type": "code",
   "execution_count": 15,
   "metadata": {},
   "outputs": [
    {
     "name": "stdout",
     "output_type": "stream",
     "text": [
      "1> Jeetu Singh\n",
      "2> Yash Desai\n"
     ]
    }
   ],
   "source": [
    "mng_1.print_emps()"
   ]
  },
  {
   "cell_type": "markdown",
   "metadata": {},
   "source": [
    "__________________________________________________________________________________________________________________________"
   ]
  },
  {
   "cell_type": "code",
   "execution_count": 16,
   "metadata": {},
   "outputs": [],
   "source": [
    "class Human():\n",
    "    def __init__(self,first,last):\n",
    "        self.first = first\n",
    "        self.last = last"
   ]
  },
  {
   "cell_type": "code",
   "execution_count": 17,
   "metadata": {},
   "outputs": [],
   "source": [
    "hum_1 = Human('Salman','Khan')"
   ]
  },
  {
   "cell_type": "markdown",
   "metadata": {},
   "source": [
    "__________________________________________________________________________________________________________________________"
   ]
  },
  {
   "cell_type": "code",
   "execution_count": 18,
   "metadata": {},
   "outputs": [
    {
     "name": "stdout",
     "output_type": "stream",
     "text": [
      "<__main__.Human object at 0x0000022D234D9DD8> is not our employee\n"
     ]
    }
   ],
   "source": [
    "mng_1.add_emp(hum_1)"
   ]
  },
  {
   "cell_type": "markdown",
   "metadata": {},
   "source": [
    "### Methods to check instances and sub-classes"
   ]
  },
  {
   "cell_type": "code",
   "execution_count": 87,
   "metadata": {},
   "outputs": [
    {
     "data": {
      "text/plain": [
       "True"
      ]
     },
     "execution_count": 87,
     "metadata": {},
     "output_type": "execute_result"
    }
   ],
   "source": [
    "isinstance(mng_1,Employee)"
   ]
  },
  {
   "cell_type": "code",
   "execution_count": 88,
   "metadata": {},
   "outputs": [
    {
     "data": {
      "text/plain": [
       "True"
      ]
     },
     "execution_count": 88,
     "metadata": {},
     "output_type": "execute_result"
    }
   ],
   "source": [
    "isinstance(mng_1,Manager)"
   ]
  },
  {
   "cell_type": "code",
   "execution_count": 89,
   "metadata": {},
   "outputs": [
    {
     "data": {
      "text/plain": [
       "False"
      ]
     },
     "execution_count": 89,
     "metadata": {},
     "output_type": "execute_result"
    }
   ],
   "source": [
    "isinstance(mng_1,Developer)"
   ]
  },
  {
   "cell_type": "code",
   "execution_count": 90,
   "metadata": {},
   "outputs": [
    {
     "data": {
      "text/plain": [
       "True"
      ]
     },
     "execution_count": 90,
     "metadata": {},
     "output_type": "execute_result"
    }
   ],
   "source": [
    "issubclass(Developer,Employee)"
   ]
  },
  {
   "cell_type": "code",
   "execution_count": 91,
   "metadata": {},
   "outputs": [
    {
     "data": {
      "text/plain": [
       "False"
      ]
     },
     "execution_count": 91,
     "metadata": {},
     "output_type": "execute_result"
    }
   ],
   "source": [
    "issubclass(Employee,Manager)"
   ]
  },
  {
   "cell_type": "code",
   "execution_count": 92,
   "metadata": {},
   "outputs": [
    {
     "data": {
      "text/plain": [
       "True"
      ]
     },
     "execution_count": 92,
     "metadata": {},
     "output_type": "execute_result"
    }
   ],
   "source": [
    "issubclass(Manager,Employee)"
   ]
  },
  {
   "cell_type": "code",
   "execution_count": 93,
   "metadata": {},
   "outputs": [
    {
     "data": {
      "text/plain": [
       "False"
      ]
     },
     "execution_count": 93,
     "metadata": {},
     "output_type": "execute_result"
    }
   ],
   "source": [
    "issubclass(Human,Employee)"
   ]
  },
  {
   "cell_type": "markdown",
   "metadata": {},
   "source": [
    "# Adding equality method in your object"
   ]
  },
  {
   "cell_type": "code",
   "execution_count": 1,
   "metadata": {},
   "outputs": [],
   "source": [
    "class Dog():\n",
    "    \n",
    "    def __init__(self,name,breed):\n",
    "        self.name = name\n",
    "        self.breed = breed"
   ]
  },
  {
   "cell_type": "code",
   "execution_count": 2,
   "metadata": {},
   "outputs": [],
   "source": [
    "d1 = Dog('Tommy','Husky')"
   ]
  },
  {
   "cell_type": "code",
   "execution_count": 3,
   "metadata": {},
   "outputs": [],
   "source": [
    "d2 = Dog('Tommy','Husky')"
   ]
  },
  {
   "cell_type": "code",
   "execution_count": 4,
   "metadata": {},
   "outputs": [],
   "source": [
    "d3 = Dog('Cherry','Lab')"
   ]
  },
  {
   "cell_type": "code",
   "execution_count": 6,
   "metadata": {},
   "outputs": [
    {
     "data": {
      "text/plain": [
       "False"
      ]
     },
     "execution_count": 6,
     "metadata": {},
     "output_type": "execute_result"
    }
   ],
   "source": [
    "# instances d1 and d2 possess same attributes but still lack equality\n",
    "d1 == d2"
   ]
  },
  {
   "cell_type": "code",
   "execution_count": 9,
   "metadata": {},
   "outputs": [
    {
     "data": {
      "text/plain": [
       "False"
      ]
     },
     "execution_count": 9,
     "metadata": {},
     "output_type": "execute_result"
    }
   ],
   "source": [
    "d1 in [d2,d3]"
   ]
  },
  {
   "cell_type": "code",
   "execution_count": 11,
   "metadata": {},
   "outputs": [
    {
     "data": {
      "text/plain": [
       "False"
      ]
     },
     "execution_count": 11,
     "metadata": {},
     "output_type": "execute_result"
    }
   ],
   "source": [
    "Dog('Dexter','Poodle') == Dog('Dexter','Poodle')"
   ]
  },
  {
   "cell_type": "markdown",
   "metadata": {},
   "source": [
    "To add equality between instances with same property we need to include ______eq__() method in our class. Like ______init__(), ______eq__() is also one of the magic methods in python."
   ]
  },
  {
   "cell_type": "code",
   "execution_count": 2,
   "metadata": {
    "scrolled": true
   },
   "outputs": [],
   "source": [
    "class Cat():\n",
    "    \n",
    "    def __init__(self,name,breed):\n",
    "        self.name = name\n",
    "        self.breed = breed\n",
    "        \n",
    "    def __eq__(self,other):\n",
    "        if isinstance(other,Cat):\n",
    "            return self.name == other.name and self.breed == other.breed\n",
    "            \n",
    "        else:\n",
    "            return False"
   ]
  },
  {
   "cell_type": "code",
   "execution_count": 3,
   "metadata": {},
   "outputs": [],
   "source": [
    "c1 = Cat('Robin','Persian')"
   ]
  },
  {
   "cell_type": "code",
   "execution_count": 4,
   "metadata": {},
   "outputs": [],
   "source": [
    "c2 = Cat('Robin','Persian')"
   ]
  },
  {
   "cell_type": "code",
   "execution_count": 5,
   "metadata": {},
   "outputs": [],
   "source": [
    "c3 = Cat('Sammy','ragdoll')"
   ]
  },
  {
   "cell_type": "code",
   "execution_count": 6,
   "metadata": {},
   "outputs": [
    {
     "data": {
      "text/plain": [
       "True"
      ]
     },
     "execution_count": 6,
     "metadata": {},
     "output_type": "execute_result"
    }
   ],
   "source": [
    "# now if we check for equality\n",
    "c1 == c2"
   ]
  },
  {
   "cell_type": "code",
   "execution_count": 7,
   "metadata": {},
   "outputs": [
    {
     "data": {
      "text/plain": [
       "True"
      ]
     },
     "execution_count": 7,
     "metadata": {},
     "output_type": "execute_result"
    }
   ],
   "source": [
    "c1 in [c2,c3]"
   ]
  },
  {
   "cell_type": "code",
   "execution_count": 8,
   "metadata": {},
   "outputs": [
    {
     "data": {
      "text/plain": [
       "True"
      ]
     },
     "execution_count": 8,
     "metadata": {},
     "output_type": "execute_result"
    }
   ],
   "source": [
    "Cat('Leo','Russian Blue') == Cat('Leo','Russian Blue')"
   ]
  },
  {
   "cell_type": "code",
   "execution_count": 9,
   "metadata": {},
   "outputs": [
    {
     "data": {
      "text/plain": [
       "False"
      ]
     },
     "execution_count": 9,
     "metadata": {},
     "output_type": "execute_result"
    }
   ],
   "source": [
    "Cat('Leo','Russian Blue') == Cat('Leo','Sphynx')"
   ]
  },
  {
   "cell_type": "markdown",
   "metadata": {},
   "source": [
    "# Accepting datatype specific attributes"
   ]
  },
  {
   "cell_type": "code",
   "execution_count": 1,
   "metadata": {},
   "outputs": [],
   "source": [
    "class Citizen():\n",
    "    \n",
    "    def __init__(self,name,age):\n",
    "        if type(name) != str:\n",
    "            raise ValueError('name must be in string')\n",
    "            \n",
    "        if type(age) not in [int, float]:\n",
    "            raise ValueError('age must be in integer')\n",
    "            \n",
    "        self.name = name\n",
    "        self.age = age\n",
    "            \n",
    "    def __str__(self):\n",
    "        return f'name: {self.name}\\nage: {self.age}'"
   ]
  },
  {
   "cell_type": "code",
   "execution_count": 2,
   "metadata": {},
   "outputs": [
    {
     "ename": "ValueError",
     "evalue": "age must be in integer",
     "output_type": "error",
     "traceback": [
      "\u001b[1;31m---------------------------------------------------------------------------\u001b[0m",
      "\u001b[1;31mValueError\u001b[0m                                Traceback (most recent call last)",
      "\u001b[1;32m<ipython-input-2-b2eba371ed73>\u001b[0m in \u001b[0;36m<module>\u001b[1;34m\u001b[0m\n\u001b[1;32m----> 1\u001b[1;33m \u001b[0mstranger\u001b[0m \u001b[1;33m=\u001b[0m \u001b[0mCitizen\u001b[0m\u001b[1;33m(\u001b[0m\u001b[1;34m'Yash'\u001b[0m\u001b[1;33m,\u001b[0m\u001b[1;34m'22'\u001b[0m\u001b[1;33m)\u001b[0m\u001b[1;33m\u001b[0m\u001b[1;33m\u001b[0m\u001b[0m\n\u001b[0m",
      "\u001b[1;32m<ipython-input-1-845fcd75c1ff>\u001b[0m in \u001b[0;36m__init__\u001b[1;34m(self, name, age)\u001b[0m\n\u001b[0;32m      6\u001b[0m \u001b[1;33m\u001b[0m\u001b[0m\n\u001b[0;32m      7\u001b[0m         \u001b[1;32mif\u001b[0m \u001b[0mtype\u001b[0m\u001b[1;33m(\u001b[0m\u001b[0mage\u001b[0m\u001b[1;33m)\u001b[0m \u001b[1;32mnot\u001b[0m \u001b[1;32min\u001b[0m \u001b[1;33m[\u001b[0m\u001b[0mint\u001b[0m\u001b[1;33m,\u001b[0m \u001b[0mfloat\u001b[0m\u001b[1;33m]\u001b[0m\u001b[1;33m:\u001b[0m\u001b[1;33m\u001b[0m\u001b[1;33m\u001b[0m\u001b[0m\n\u001b[1;32m----> 8\u001b[1;33m             \u001b[1;32mraise\u001b[0m \u001b[0mValueError\u001b[0m\u001b[1;33m(\u001b[0m\u001b[1;34m'age must be in integer'\u001b[0m\u001b[1;33m)\u001b[0m\u001b[1;33m\u001b[0m\u001b[1;33m\u001b[0m\u001b[0m\n\u001b[0m\u001b[0;32m      9\u001b[0m \u001b[1;33m\u001b[0m\u001b[0m\n\u001b[0;32m     10\u001b[0m         \u001b[0mself\u001b[0m\u001b[1;33m.\u001b[0m\u001b[0mname\u001b[0m \u001b[1;33m=\u001b[0m \u001b[0mname\u001b[0m\u001b[1;33m\u001b[0m\u001b[1;33m\u001b[0m\u001b[0m\n",
      "\u001b[1;31mValueError\u001b[0m: age must be in integer"
     ]
    }
   ],
   "source": [
    "stranger = Citizen('Yash','22')"
   ]
  },
  {
   "cell_type": "code",
   "execution_count": 3,
   "metadata": {},
   "outputs": [
    {
     "ename": "NameError",
     "evalue": "name 'stranger' is not defined",
     "output_type": "error",
     "traceback": [
      "\u001b[1;31m---------------------------------------------------------------------------\u001b[0m",
      "\u001b[1;31mNameError\u001b[0m                                 Traceback (most recent call last)",
      "\u001b[1;32m<ipython-input-3-2245ca368ed0>\u001b[0m in \u001b[0;36m<module>\u001b[1;34m\u001b[0m\n\u001b[1;32m----> 1\u001b[1;33m \u001b[0mstranger\u001b[0m\u001b[1;33m.\u001b[0m\u001b[0mname\u001b[0m\u001b[1;33m\u001b[0m\u001b[1;33m\u001b[0m\u001b[0m\n\u001b[0m",
      "\u001b[1;31mNameError\u001b[0m: name 'stranger' is not defined"
     ]
    }
   ],
   "source": [
    "stranger.name"
   ]
  },
  {
   "cell_type": "code",
   "execution_count": 4,
   "metadata": {},
   "outputs": [],
   "source": [
    "stranger = Citizen('Himani',18)"
   ]
  },
  {
   "cell_type": "code",
   "execution_count": 5,
   "metadata": {},
   "outputs": [
    {
     "name": "stdout",
     "output_type": "stream",
     "text": [
      "name: Himani\n",
      "age: 18\n"
     ]
    }
   ],
   "source": [
    "print(stranger)"
   ]
  },
  {
   "cell_type": "markdown",
   "metadata": {},
   "source": [
    "# Function manipulating global objects/classes\n",
    "### By default every user defined objects are mutable in nature"
   ]
  },
  {
   "cell_type": "code",
   "execution_count": 1,
   "metadata": {},
   "outputs": [],
   "source": [
    "class TestClass:\n",
    "    \n",
    "    def __init__(self,name,number,random_list):\n",
    "        self.name = name # Immutable datatype\n",
    "        self.number = number # Immutable datatype\n",
    "        self.random_list = random_list # Mutable datatype\n",
    "        \n",
    "    def manipulate_attributes(self):\n",
    "        self.number -= 1\n",
    "        self.random_list.pop()\n",
    "        \n",
    "    def __str__(self):\n",
    "        return f'name        : {self.name}\\nnumber      : {self.number}\\nrandom_list : {self.random_list}'"
   ]
  },
  {
   "cell_type": "code",
   "execution_count": 2,
   "metadata": {},
   "outputs": [],
   "source": [
    "sample = TestClass('Yash',1000,[1,2,3,4,5,'6'])"
   ]
  },
  {
   "cell_type": "code",
   "execution_count": 3,
   "metadata": {},
   "outputs": [
    {
     "name": "stdout",
     "output_type": "stream",
     "text": [
      "name        : Yash\n",
      "number      : 1000\n",
      "random_list : [1, 2, 3, 4, 5, '6']\n"
     ]
    }
   ],
   "source": [
    "print(sample)"
   ]
  },
  {
   "cell_type": "code",
   "execution_count": 4,
   "metadata": {},
   "outputs": [],
   "source": [
    "sample.manipulate_attributes()"
   ]
  },
  {
   "cell_type": "code",
   "execution_count": 5,
   "metadata": {},
   "outputs": [
    {
     "name": "stdout",
     "output_type": "stream",
     "text": [
      "name        : Yash\n",
      "number      : 999\n",
      "random_list : [1, 2, 3, 4, 5]\n"
     ]
    }
   ],
   "source": [
    "print(sample)"
   ]
  },
  {
   "cell_type": "markdown",
   "metadata": {},
   "source": [
    "#### 1) Passing global objects as arguments in function call"
   ]
  },
  {
   "cell_type": "code",
   "execution_count": 14,
   "metadata": {},
   "outputs": [],
   "source": [
    "def myfunc(some_object):\n",
    "    \n",
    "    try:\n",
    "        some_object.name = 'Himani'\n",
    "    \n",
    "        some_object.manipulate_attributes()\n",
    "        \n",
    "    except:\n",
    "        print(f'{some_object} is not an instance of TestClass')"
   ]
  },
  {
   "cell_type": "code",
   "execution_count": 7,
   "metadata": {},
   "outputs": [
    {
     "name": "stdout",
     "output_type": "stream",
     "text": [
      "[1, 2, 3, 4, 5] is not an instance of TestClass\n"
     ]
    }
   ],
   "source": [
    "myfunc([1,2,3,4,5])"
   ]
  },
  {
   "cell_type": "code",
   "execution_count": 8,
   "metadata": {},
   "outputs": [
    {
     "name": "stdout",
     "output_type": "stream",
     "text": [
      "name        : Yash\n",
      "number      : 999\n",
      "random_list : [1, 2, 3, 4, 5]\n"
     ]
    }
   ],
   "source": [
    "print(sample)"
   ]
  },
  {
   "cell_type": "code",
   "execution_count": 9,
   "metadata": {},
   "outputs": [],
   "source": [
    "myfunc(sample)"
   ]
  },
  {
   "cell_type": "code",
   "execution_count": 10,
   "metadata": {},
   "outputs": [
    {
     "name": "stdout",
     "output_type": "stream",
     "text": [
      "name        : Himani\n",
      "number      : 998\n",
      "random_list : [1, 2, 3, 4]\n"
     ]
    }
   ],
   "source": [
    "print(sample)"
   ]
  },
  {
   "cell_type": "markdown",
   "metadata": {},
   "source": [
    "#### 2) Not passing global objects as arguments in function call"
   ]
  },
  {
   "cell_type": "code",
   "execution_count": 15,
   "metadata": {},
   "outputs": [],
   "source": [
    "def _myfunc():\n",
    "    # But we do have to name the instance of the object inside of the function with the same\n",
    "    # name of the global instance which we are trying to manipulate/mutate\n",
    "    \n",
    "    try:\n",
    "        sample.name = 'SammY'\n",
    "    \n",
    "        sample.manipulate_attributes()\n",
    "        \n",
    "    except:\n",
    "        print(f'{some_object} is not an instance of TestClass')"
   ]
  },
  {
   "cell_type": "code",
   "execution_count": 13,
   "metadata": {},
   "outputs": [
    {
     "name": "stdout",
     "output_type": "stream",
     "text": [
      "name        : Himani\n",
      "number      : 998\n",
      "random_list : [1, 2, 3, 4]\n"
     ]
    }
   ],
   "source": [
    "print(sample)"
   ]
  },
  {
   "cell_type": "code",
   "execution_count": 16,
   "metadata": {},
   "outputs": [],
   "source": [
    "_myfunc()"
   ]
  },
  {
   "cell_type": "code",
   "execution_count": 17,
   "metadata": {},
   "outputs": [
    {
     "name": "stdout",
     "output_type": "stream",
     "text": [
      "name        : SammY\n",
      "number      : 997\n",
      "random_list : [1, 2, 3]\n"
     ]
    }
   ],
   "source": [
    "print(sample)"
   ]
  },
  {
   "cell_type": "markdown",
   "metadata": {},
   "source": [
    "# More magic methods in python\n",
    "https://youtu.be/3ohzBxoFHAY"
   ]
  },
  {
   "cell_type": "markdown",
   "metadata": {},
   "source": [
    "______str__() vs. ______repr__()"
   ]
  },
  {
   "cell_type": "code",
   "execution_count": 63,
   "metadata": {},
   "outputs": [],
   "source": [
    "# First lets see an example of an __str__()\n",
    "\n",
    "class ComplexNumber():\n",
    "    \n",
    "    # rp --> Real part & ip --> Imaginary part\n",
    "    def __init__(self, rp=0, ip=0):\n",
    "        \n",
    "        if type(rp) not in [int, float]:\n",
    "            raise ValueError(f'Real part of a complex number must be an integer or a float')\n",
    "                \n",
    "        if type(ip) not in [int, float]:\n",
    "            raise ValueError(f'Imaginary part of a complex number must be an integer or a float')\n",
    "        \n",
    "        self.rp = rp\n",
    "        self.ip = ip\n",
    "    \n",
    "    def __str__(self):\n",
    "        if self.ip >= 0:\n",
    "            return '{r:0.2f}+{i:0.2f}i'.format(r=self.rp, i=self.ip)\n",
    "        \n",
    "        else:\n",
    "            return '{r:0.2f}{i:0.2f}i'.format(r=self.rp, i=self.ip)"
   ]
  },
  {
   "cell_type": "code",
   "execution_count": 64,
   "metadata": {},
   "outputs": [],
   "source": [
    "# Lets first define a complex number\n",
    "\n",
    "num = ComplexNumber(8,9)"
   ]
  },
  {
   "cell_type": "code",
   "execution_count": 11,
   "metadata": {},
   "outputs": [
    {
     "data": {
      "text/plain": [
       "<__main__.ComplexNumber at 0x1b3ddd42208>"
      ]
     },
     "execution_count": 11,
     "metadata": {},
     "output_type": "execute_result"
    }
   ],
   "source": [
    "num"
   ]
  },
  {
   "cell_type": "code",
   "execution_count": 12,
   "metadata": {
    "scrolled": true
   },
   "outputs": [
    {
     "name": "stdout",
     "output_type": "stream",
     "text": [
      "8.00+9.00i\n"
     ]
    }
   ],
   "source": [
    "print(num)"
   ]
  },
  {
   "cell_type": "code",
   "execution_count": 55,
   "metadata": {},
   "outputs": [
    {
     "data": {
      "text/plain": [
       "'8.00+9.00i'"
      ]
     },
     "execution_count": 55,
     "metadata": {},
     "output_type": "execute_result"
    }
   ],
   "source": [
    "num.__str__()"
   ]
  },
  {
   "cell_type": "code",
   "execution_count": 65,
   "metadata": {},
   "outputs": [
    {
     "data": {
      "text/plain": [
       "'<__main__.ComplexNumber object at 0x000001B3DDD55160>'"
      ]
     },
     "execution_count": 65,
     "metadata": {},
     "output_type": "execute_result"
    }
   ],
   "source": [
    "# Even if we don't have __repr__() method in our class we still get following output\n",
    "num.__repr__()"
   ]
  },
  {
   "cell_type": "code",
   "execution_count": 39,
   "metadata": {},
   "outputs": [],
   "source": [
    "# Lets define a list containing complex numbers\n",
    "\n",
    "mylist = [ComplexNumber(1.5,25), ComplexNumber(3,-8), ComplexNumber(-3.14)]"
   ]
  },
  {
   "cell_type": "code",
   "execution_count": 40,
   "metadata": {},
   "outputs": [
    {
     "data": {
      "text/plain": [
       "[1.50+25.00i, 3.00-8.00i, -3.14+0.00i]"
      ]
     },
     "execution_count": 40,
     "metadata": {},
     "output_type": "execute_result"
    }
   ],
   "source": [
    "mylist"
   ]
  },
  {
   "cell_type": "code",
   "execution_count": 41,
   "metadata": {
    "scrolled": true
   },
   "outputs": [
    {
     "name": "stdout",
     "output_type": "stream",
     "text": [
      "[1.50+25.00i, 3.00-8.00i, -3.14+0.00i]\n"
     ]
    }
   ],
   "source": [
    "print(mylist)"
   ]
  },
  {
   "cell_type": "code",
   "execution_count": 42,
   "metadata": {},
   "outputs": [],
   "source": [
    "# Lets define a function which returns a complex number\n",
    "\n",
    "def myfunc():\n",
    "    \n",
    "    # Global object returning locally\n",
    "    return ComplexNumber(-7,3)"
   ]
  },
  {
   "cell_type": "code",
   "execution_count": 43,
   "metadata": {},
   "outputs": [
    {
     "data": {
      "text/plain": [
       "-7.00+3.00i"
      ]
     },
     "execution_count": 43,
     "metadata": {},
     "output_type": "execute_result"
    }
   ],
   "source": [
    "myfunc()"
   ]
  },
  {
   "cell_type": "code",
   "execution_count": 66,
   "metadata": {},
   "outputs": [],
   "source": [
    "# Now lets see an example of __repr__()\n",
    "\n",
    "class ComplexNumber():\n",
    "    \n",
    "    # rp --> Real part & ip --> Imaginary part\n",
    "    def __init__(self, rp=0, ip=0):\n",
    "        \n",
    "        if type(rp) not in [int, float]:\n",
    "            raise ValueError(f'Real part of a complex number must be an integer or a float')\n",
    "                \n",
    "        if type(ip) not in [int, float]:\n",
    "            raise ValueError(f'Imaginary part of a complex number must be an integer or a float')\n",
    "        \n",
    "        self.rp = rp\n",
    "        self.ip = ip\n",
    "    \n",
    "    def __repr__(self):\n",
    "        if self.ip >= 0:\n",
    "            return '{r:0.2f}+{i:0.2f}i'.format(r=self.rp, i=self.ip)\n",
    "        \n",
    "        else:\n",
    "            return '{r:0.2f}{i:0.2f}i'.format(r=self.rp, i=self.ip)"
   ]
  },
  {
   "cell_type": "code",
   "execution_count": 68,
   "metadata": {},
   "outputs": [],
   "source": [
    "# Lets first define a complex number\n",
    "\n",
    "num = ComplexNumber(8,9)"
   ]
  },
  {
   "cell_type": "code",
   "execution_count": 46,
   "metadata": {},
   "outputs": [
    {
     "data": {
      "text/plain": [
       "8.00+9.00i"
      ]
     },
     "execution_count": 46,
     "metadata": {},
     "output_type": "execute_result"
    }
   ],
   "source": [
    "num"
   ]
  },
  {
   "cell_type": "code",
   "execution_count": 47,
   "metadata": {},
   "outputs": [
    {
     "name": "stdout",
     "output_type": "stream",
     "text": [
      "8.00+9.00i\n"
     ]
    }
   ],
   "source": [
    "print(num)"
   ]
  },
  {
   "cell_type": "code",
   "execution_count": 69,
   "metadata": {
    "scrolled": true
   },
   "outputs": [
    {
     "data": {
      "text/plain": [
       "'8.00+9.00i'"
      ]
     },
     "execution_count": 69,
     "metadata": {},
     "output_type": "execute_result"
    }
   ],
   "source": [
    "# Even if we don't have following __str__() method in our class we still get following output\n",
    "num.__str__()"
   ]
  },
  {
   "cell_type": "code",
   "execution_count": 70,
   "metadata": {},
   "outputs": [
    {
     "data": {
      "text/plain": [
       "'8.00+9.00i'"
      ]
     },
     "execution_count": 70,
     "metadata": {},
     "output_type": "execute_result"
    }
   ],
   "source": [
    "num.__repr__()"
   ]
  },
  {
   "cell_type": "code",
   "execution_count": 48,
   "metadata": {},
   "outputs": [],
   "source": [
    "# Lets define a list containing complex numbers\n",
    "\n",
    "mylist = [ComplexNumber(1.5,25), ComplexNumber(3,-8), ComplexNumber(-3.14)]"
   ]
  },
  {
   "cell_type": "code",
   "execution_count": 49,
   "metadata": {},
   "outputs": [
    {
     "data": {
      "text/plain": [
       "[1.50+25.00i, 3.00-8.00i, -3.14+0.00i]"
      ]
     },
     "execution_count": 49,
     "metadata": {},
     "output_type": "execute_result"
    }
   ],
   "source": [
    "mylist"
   ]
  },
  {
   "cell_type": "code",
   "execution_count": 50,
   "metadata": {},
   "outputs": [
    {
     "name": "stdout",
     "output_type": "stream",
     "text": [
      "[1.50+25.00i, 3.00-8.00i, -3.14+0.00i]\n"
     ]
    }
   ],
   "source": [
    "print(mylist)"
   ]
  },
  {
   "cell_type": "code",
   "execution_count": 31,
   "metadata": {},
   "outputs": [],
   "source": [
    "# Lets define a function which returns a complex number\n",
    "\n",
    "def myfunc():\n",
    "    \n",
    "    # Global object returning locally\n",
    "    return ComplexNumber(-7,3)"
   ]
  },
  {
   "cell_type": "code",
   "execution_count": 34,
   "metadata": {
    "scrolled": true
   },
   "outputs": [
    {
     "data": {
      "text/plain": [
       "-7.00+3.00i"
      ]
     },
     "execution_count": 34,
     "metadata": {},
     "output_type": "execute_result"
    }
   ],
   "source": [
    "myfunc()"
   ]
  },
  {
   "cell_type": "markdown",
   "metadata": {},
   "source": [
    "Hence in conclusion,  ______repr__() is super set of ______str__(). Meaning ______repr__() has all the features of ______str__() plus it also has its own additional features"
   ]
  },
  {
   "cell_type": "markdown",
   "metadata": {},
   "source": [
    "<ol>\n",
    "    <li>______add__()</li>\n",
    "    <li>______sub__()</li>\n",
    "    <li>______mul__()</li>\n",
    "    <li>______truediv__()</li>\n",
    "</ol>"
   ]
  },
  {
   "cell_type": "code",
   "execution_count": 26,
   "metadata": {
    "scrolled": true
   },
   "outputs": [
    {
     "data": {
      "text/plain": [
       "7"
      ]
     },
     "execution_count": 26,
     "metadata": {},
     "output_type": "execute_result"
    }
   ],
   "source": [
    "# Putting '+' sign between two different integer objects results in their addition!\n",
    "\n",
    "5 + 2"
   ]
  },
  {
   "cell_type": "code",
   "execution_count": 35,
   "metadata": {},
   "outputs": [
    {
     "data": {
      "text/plain": [
       "10"
      ]
     },
     "execution_count": 35,
     "metadata": {},
     "output_type": "execute_result"
    }
   ],
   "source": [
    "# Putting '*' sign between two different integer objects results in their multiplication!\n",
    "\n",
    "5 * 2"
   ]
  },
  {
   "cell_type": "code",
   "execution_count": 36,
   "metadata": {},
   "outputs": [
    {
     "data": {
      "text/plain": [
       "'Hello World'"
      ]
     },
     "execution_count": 36,
     "metadata": {},
     "output_type": "execute_result"
    }
   ],
   "source": [
    "# Putting '+' sign between two different string objects results in their concatenation!\n",
    "\n",
    "'Hello ' + 'World'"
   ]
  },
  {
   "cell_type": "code",
   "execution_count": 37,
   "metadata": {},
   "outputs": [
    {
     "ename": "TypeError",
     "evalue": "can't multiply sequence by non-int of type 'str'",
     "output_type": "error",
     "traceback": [
      "\u001b[1;31m---------------------------------------------------------------------------\u001b[0m",
      "\u001b[1;31mTypeError\u001b[0m                                 Traceback (most recent call last)",
      "\u001b[1;32m<ipython-input-37-8367bdb888ac>\u001b[0m in \u001b[0;36m<module>\u001b[1;34m\u001b[0m\n\u001b[0;32m      1\u001b[0m \u001b[1;31m# Putting '*' sign between two different string objects results in an error!\u001b[0m\u001b[1;33m\u001b[0m\u001b[1;33m\u001b[0m\u001b[1;33m\u001b[0m\u001b[0m\n\u001b[0;32m      2\u001b[0m \u001b[1;33m\u001b[0m\u001b[0m\n\u001b[1;32m----> 3\u001b[1;33m \u001b[1;34m'Hello '\u001b[0m \u001b[1;33m*\u001b[0m \u001b[1;34m'World'\u001b[0m\u001b[1;33m\u001b[0m\u001b[1;33m\u001b[0m\u001b[0m\n\u001b[0m",
      "\u001b[1;31mTypeError\u001b[0m: can't multiply sequence by non-int of type 'str'"
     ]
    }
   ],
   "source": [
    "# Putting '*' sign between two different string objects results in an error!\n",
    "\n",
    "'Hello ' * 'World'"
   ]
  },
  {
   "cell_type": "code",
   "execution_count": 38,
   "metadata": {},
   "outputs": [
    {
     "data": {
      "text/plain": [
       "'HiHiHiHi'"
      ]
     },
     "execution_count": 38,
     "metadata": {},
     "output_type": "execute_result"
    }
   ],
   "source": [
    "# But putting '*' sign between one string object and another integer object results in string multiplication!\n",
    "\n",
    "'Hi' * 4"
   ]
  },
  {
   "cell_type": "code",
   "execution_count": 1,
   "metadata": {},
   "outputs": [
    {
     "data": {
      "text/plain": [
       "[1, 2, 3, 4, 'a', 'b', 'c']"
      ]
     },
     "execution_count": 1,
     "metadata": {},
     "output_type": "execute_result"
    }
   ],
   "source": [
    "# Putting '+' sign between two different list objects results in their concatenation!\n",
    "\n",
    "[1,2,3,4] + ['a','b','c']"
   ]
  },
  {
   "cell_type": "code",
   "execution_count": 2,
   "metadata": {
    "scrolled": true
   },
   "outputs": [
    {
     "ename": "TypeError",
     "evalue": "can't multiply sequence by non-int of type 'list'",
     "output_type": "error",
     "traceback": [
      "\u001b[1;31m---------------------------------------------------------------------------\u001b[0m",
      "\u001b[1;31mTypeError\u001b[0m                                 Traceback (most recent call last)",
      "\u001b[1;32m<ipython-input-2-bae466220964>\u001b[0m in \u001b[0;36m<module>\u001b[1;34m\u001b[0m\n\u001b[0;32m      1\u001b[0m \u001b[1;31m# Putting '*' sign between two different list objects results in an error!\u001b[0m\u001b[1;33m\u001b[0m\u001b[1;33m\u001b[0m\u001b[1;33m\u001b[0m\u001b[0m\n\u001b[0;32m      2\u001b[0m \u001b[1;33m\u001b[0m\u001b[0m\n\u001b[1;32m----> 3\u001b[1;33m \u001b[1;33m[\u001b[0m\u001b[1;36m1\u001b[0m\u001b[1;33m,\u001b[0m\u001b[1;36m2\u001b[0m\u001b[1;33m,\u001b[0m\u001b[1;36m3\u001b[0m\u001b[1;33m,\u001b[0m\u001b[1;36m4\u001b[0m\u001b[1;33m]\u001b[0m \u001b[1;33m*\u001b[0m \u001b[1;33m[\u001b[0m\u001b[1;34m'a'\u001b[0m\u001b[1;33m,\u001b[0m\u001b[1;34m'b'\u001b[0m\u001b[1;33m,\u001b[0m\u001b[1;34m'c'\u001b[0m\u001b[1;33m]\u001b[0m\u001b[1;33m\u001b[0m\u001b[1;33m\u001b[0m\u001b[0m\n\u001b[0m",
      "\u001b[1;31mTypeError\u001b[0m: can't multiply sequence by non-int of type 'list'"
     ]
    }
   ],
   "source": [
    "# Putting '*' sign between two different list objects results in an error!\n",
    "\n",
    "[1,2,3,4] * ['a','b','c']"
   ]
  },
  {
   "cell_type": "code",
   "execution_count": 3,
   "metadata": {},
   "outputs": [
    {
     "data": {
      "text/plain": [
       "[1, 2, 3, 4, 1, 2, 3, 4, 1, 2, 3, 4, 1, 2, 3, 4]"
      ]
     },
     "execution_count": 3,
     "metadata": {},
     "output_type": "execute_result"
    }
   ],
   "source": [
    "# But putting '*' sign between one list object and another integer object results in list multiplication!\n",
    "\n",
    "[1,2,3,4] * 4"
   ]
  },
  {
   "cell_type": "code",
   "execution_count": 73,
   "metadata": {},
   "outputs": [
    {
     "data": {
      "text/plain": [
       "True"
      ]
     },
     "execution_count": 73,
     "metadata": {},
     "output_type": "execute_result"
    }
   ],
   "source": [
    "isinstance(3,int)"
   ]
  },
  {
   "cell_type": "code",
   "execution_count": 74,
   "metadata": {
    "scrolled": true
   },
   "outputs": [
    {
     "data": {
      "text/plain": [
       "False"
      ]
     },
     "execution_count": 74,
     "metadata": {},
     "output_type": "execute_result"
    }
   ],
   "source": [
    "isinstance('str',int)"
   ]
  },
  {
   "cell_type": "code",
   "execution_count": 1,
   "metadata": {},
   "outputs": [],
   "source": [
    "# Similarly we can add this functionality in our user-defined objects\n",
    "\n",
    "class ComplexNumber():\n",
    "    \n",
    "    # Magic methods\n",
    "    # rp --> Real part & ip --> Imaginary part\n",
    "    def __init__(self, rp=0, ip=0):\n",
    "        \n",
    "        if type(rp) not in [int, float]:\n",
    "            raise ValueError()\n",
    "                \n",
    "        if type(ip) not in [int, float]:\n",
    "            raise ValueError()\n",
    "        \n",
    "        self.rp = rp\n",
    "        self.ip = ip\n",
    "    \n",
    "    def __repr__(self):\n",
    "        if self.ip >= 0:\n",
    "            return '{r:0.2f}+{i:0.2f}i'.format(r=self.rp, i=self.ip)\n",
    "        \n",
    "        else:\n",
    "            return '{r:0.2f}{i:0.2f}i'.format(r=self.rp, i=self.ip)\n",
    "        \n",
    "    def __add__(self,other):\n",
    "        if isinstance(other,ComplexNumber):\n",
    "            a = self.rp\n",
    "            b = self.ip\n",
    "            x = other.rp\n",
    "            y = other.ip\n",
    "            return ComplexNumber(a+x, b+y)\n",
    "        \n",
    "        elif isinstance(other,int):\n",
    "            a = self.rp\n",
    "            b = self.ip\n",
    "            return ComplexNumber(a+other, b)\n",
    "        \n",
    "        elif isinstance(other,float):\n",
    "            a = self.rp\n",
    "            b = self.ip\n",
    "            return ComplexNumber(a+other, b)\n",
    "            \n",
    "        else:\n",
    "            raise TypeError()\n",
    "            \n",
    "    def __sub__(self,other):\n",
    "        if isinstance(other,ComplexNumber):\n",
    "            a = self.rp\n",
    "            b = self.ip\n",
    "            x = other.rp\n",
    "            y = other.ip\n",
    "            return ComplexNumber(a-x, b-y)\n",
    "        \n",
    "        elif isinstance(other,int):\n",
    "            a = self.rp\n",
    "            b = self.ip\n",
    "            return ComplexNumber(a-other, b)\n",
    "        \n",
    "        elif isinstance(other,float):\n",
    "            a = self.rp\n",
    "            b = self.ip\n",
    "            return ComplexNumber(a-other, b)\n",
    "            \n",
    "        else:\n",
    "            raise TypeError()\n",
    "            \n",
    "    def __mul__(self,other):\n",
    "        if isinstance(other,ComplexNumber):\n",
    "            a = self.rp\n",
    "            b = self.ip\n",
    "            x = other.rp\n",
    "            y = other.ip\n",
    "            return ComplexNumber((a*x)-(b*y), (a*y)+(b*x))\n",
    "        \n",
    "        elif isinstance(other,int):\n",
    "            a = self.rp\n",
    "            b = self.ip\n",
    "            return ComplexNumber(a*other, b*other)\n",
    "        \n",
    "        elif isinstance(other,float):\n",
    "            a = self.rp\n",
    "            b = self.ip\n",
    "            return ComplexNumber(a*other, b*other)\n",
    "            \n",
    "        else:\n",
    "            raise TypeError()\n",
    "            \n",
    "    def __truediv__(self,other):\n",
    "        if isinstance(other,ComplexNumber):\n",
    "            a = self.rp\n",
    "            b = self.ip\n",
    "            x = other.rp\n",
    "            y = other.ip\n",
    "            return ComplexNumber(((a*x)+(b*y))/((x**2)+(y**2)), ((b*x)-(a*y))/((x**2)+(y**2)))\n",
    "        \n",
    "        elif isinstance(other,int):\n",
    "            a = self.rp\n",
    "            b = self.ip\n",
    "            return ComplexNumber(a/other, b/other)\n",
    "        \n",
    "        elif isinstance(other,float):\n",
    "            a = self.rp\n",
    "            b = self.ip\n",
    "            return ComplexNumber(a/other, b/other)\n",
    "            \n",
    "        else:\n",
    "            raise TypeError()\n",
    "    \n",
    "    # Regular method\n",
    "    def mod(self):\n",
    "        a = self.rp\n",
    "        b = self.ip\n",
    "        return ComplexNumber(((a**2)+(b**2))**(0.5))"
   ]
  },
  {
   "cell_type": "code",
   "execution_count": 2,
   "metadata": {},
   "outputs": [],
   "source": [
    "num1 = ComplexNumber(2,9)\n",
    "num2 = ComplexNumber(-3,6)"
   ]
  },
  {
   "cell_type": "markdown",
   "metadata": {},
   "source": [
    "Addition"
   ]
  },
  {
   "cell_type": "code",
   "execution_count": 3,
   "metadata": {},
   "outputs": [
    {
     "data": {
      "text/plain": [
       "-1.00+15.00i"
      ]
     },
     "execution_count": 3,
     "metadata": {},
     "output_type": "execute_result"
    }
   ],
   "source": [
    "num1 + num2"
   ]
  },
  {
   "cell_type": "code",
   "execution_count": 18,
   "metadata": {},
   "outputs": [
    {
     "data": {
      "text/plain": [
       "-1.00+15.00i"
      ]
     },
     "execution_count": 18,
     "metadata": {},
     "output_type": "execute_result"
    }
   ],
   "source": [
    "num1.__add__(num2)"
   ]
  },
  {
   "cell_type": "code",
   "execution_count": 5,
   "metadata": {},
   "outputs": [
    {
     "data": {
      "text/plain": [
       "7.00+9.00i"
      ]
     },
     "execution_count": 5,
     "metadata": {},
     "output_type": "execute_result"
    }
   ],
   "source": [
    "num1 + 5"
   ]
  },
  {
   "cell_type": "code",
   "execution_count": 6,
   "metadata": {},
   "outputs": [
    {
     "data": {
      "text/plain": [
       "7.00+9.00i"
      ]
     },
     "execution_count": 6,
     "metadata": {},
     "output_type": "execute_result"
    }
   ],
   "source": [
    "num1.__add__(5)"
   ]
  },
  {
   "cell_type": "code",
   "execution_count": 7,
   "metadata": {},
   "outputs": [
    {
     "ename": "TypeError",
     "evalue": "unsupported operand type(s) for +: 'int' and 'ComplexNumber'",
     "output_type": "error",
     "traceback": [
      "\u001b[1;31m---------------------------------------------------------------------------\u001b[0m",
      "\u001b[1;31mTypeError\u001b[0m                                 Traceback (most recent call last)",
      "\u001b[1;32m<ipython-input-7-784b308b8032>\u001b[0m in \u001b[0;36m<module>\u001b[1;34m\u001b[0m\n\u001b[0;32m      1\u001b[0m \u001b[1;31m# But its not commutative, because we also have to implement this in in-built integen clase\u001b[0m\u001b[1;33m\u001b[0m\u001b[1;33m\u001b[0m\u001b[1;33m\u001b[0m\u001b[0m\n\u001b[0;32m      2\u001b[0m \u001b[1;33m\u001b[0m\u001b[0m\n\u001b[1;32m----> 3\u001b[1;33m \u001b[1;36m5\u001b[0m \u001b[1;33m+\u001b[0m \u001b[0mnum1\u001b[0m\u001b[1;33m\u001b[0m\u001b[1;33m\u001b[0m\u001b[0m\n\u001b[0m",
      "\u001b[1;31mTypeError\u001b[0m: unsupported operand type(s) for +: 'int' and 'ComplexNumber'"
     ]
    }
   ],
   "source": [
    "# But its not commutative, because we also have to implement this in in-built integen clase\n",
    "\n",
    "5 + num1"
   ]
  },
  {
   "cell_type": "markdown",
   "metadata": {},
   "source": [
    "Subtraction"
   ]
  },
  {
   "cell_type": "code",
   "execution_count": 8,
   "metadata": {},
   "outputs": [
    {
     "data": {
      "text/plain": [
       "5.00+3.00i"
      ]
     },
     "execution_count": 8,
     "metadata": {},
     "output_type": "execute_result"
    }
   ],
   "source": [
    "num1 - num2"
   ]
  },
  {
   "cell_type": "code",
   "execution_count": 17,
   "metadata": {},
   "outputs": [
    {
     "data": {
      "text/plain": [
       "5.00+3.00i"
      ]
     },
     "execution_count": 17,
     "metadata": {},
     "output_type": "execute_result"
    }
   ],
   "source": [
    "num1.__sub__(num2)"
   ]
  },
  {
   "cell_type": "code",
   "execution_count": 9,
   "metadata": {},
   "outputs": [
    {
     "data": {
      "text/plain": [
       "-1.00+9.00i"
      ]
     },
     "execution_count": 9,
     "metadata": {},
     "output_type": "execute_result"
    }
   ],
   "source": [
    "num1 - 3"
   ]
  },
  {
   "cell_type": "code",
   "execution_count": 10,
   "metadata": {},
   "outputs": [
    {
     "data": {
      "text/plain": [
       "-1.00+9.00i"
      ]
     },
     "execution_count": 10,
     "metadata": {},
     "output_type": "execute_result"
    }
   ],
   "source": [
    "num1.__sub__(3)"
   ]
  },
  {
   "cell_type": "code",
   "execution_count": 11,
   "metadata": {},
   "outputs": [
    {
     "ename": "TypeError",
     "evalue": "unsupported operand type(s) for -: 'int' and 'ComplexNumber'",
     "output_type": "error",
     "traceback": [
      "\u001b[1;31m---------------------------------------------------------------------------\u001b[0m",
      "\u001b[1;31mTypeError\u001b[0m                                 Traceback (most recent call last)",
      "\u001b[1;32m<ipython-input-11-f1d27d3c075d>\u001b[0m in \u001b[0;36m<module>\u001b[1;34m\u001b[0m\n\u001b[1;32m----> 1\u001b[1;33m \u001b[1;36m3\u001b[0m \u001b[1;33m-\u001b[0m \u001b[0mnum1\u001b[0m\u001b[1;33m\u001b[0m\u001b[1;33m\u001b[0m\u001b[0m\n\u001b[0m",
      "\u001b[1;31mTypeError\u001b[0m: unsupported operand type(s) for -: 'int' and 'ComplexNumber'"
     ]
    }
   ],
   "source": [
    "3 - num1"
   ]
  },
  {
   "cell_type": "markdown",
   "metadata": {},
   "source": [
    "Multiplication"
   ]
  },
  {
   "cell_type": "code",
   "execution_count": 12,
   "metadata": {},
   "outputs": [
    {
     "data": {
      "text/plain": [
       "-60.00-15.00i"
      ]
     },
     "execution_count": 12,
     "metadata": {},
     "output_type": "execute_result"
    }
   ],
   "source": [
    "num1 * num2"
   ]
  },
  {
   "cell_type": "code",
   "execution_count": 19,
   "metadata": {},
   "outputs": [
    {
     "data": {
      "text/plain": [
       "-60.00-15.00i"
      ]
     },
     "execution_count": 19,
     "metadata": {},
     "output_type": "execute_result"
    }
   ],
   "source": [
    "num1.__mul__(num2)"
   ]
  },
  {
   "cell_type": "code",
   "execution_count": 13,
   "metadata": {},
   "outputs": [
    {
     "data": {
      "text/plain": [
       "8.00+36.00i"
      ]
     },
     "execution_count": 13,
     "metadata": {},
     "output_type": "execute_result"
    }
   ],
   "source": [
    "num1 * 4"
   ]
  },
  {
   "cell_type": "code",
   "execution_count": 14,
   "metadata": {},
   "outputs": [
    {
     "data": {
      "text/plain": [
       "8.00+36.00i"
      ]
     },
     "execution_count": 14,
     "metadata": {},
     "output_type": "execute_result"
    }
   ],
   "source": [
    "num1.__mul__(4)"
   ]
  },
  {
   "cell_type": "code",
   "execution_count": 15,
   "metadata": {},
   "outputs": [
    {
     "ename": "TypeError",
     "evalue": "unsupported operand type(s) for *: 'int' and 'ComplexNumber'",
     "output_type": "error",
     "traceback": [
      "\u001b[1;31m---------------------------------------------------------------------------\u001b[0m",
      "\u001b[1;31mTypeError\u001b[0m                                 Traceback (most recent call last)",
      "\u001b[1;32m<ipython-input-15-65715cfd29ce>\u001b[0m in \u001b[0;36m<module>\u001b[1;34m\u001b[0m\n\u001b[1;32m----> 1\u001b[1;33m \u001b[1;36m4\u001b[0m \u001b[1;33m*\u001b[0m \u001b[0mnum1\u001b[0m\u001b[1;33m\u001b[0m\u001b[1;33m\u001b[0m\u001b[0m\n\u001b[0m",
      "\u001b[1;31mTypeError\u001b[0m: unsupported operand type(s) for *: 'int' and 'ComplexNumber'"
     ]
    }
   ],
   "source": [
    "4 * num1"
   ]
  },
  {
   "cell_type": "markdown",
   "metadata": {},
   "source": [
    "Division"
   ]
  },
  {
   "cell_type": "code",
   "execution_count": 16,
   "metadata": {},
   "outputs": [
    {
     "data": {
      "text/plain": [
       "1.07-0.87i"
      ]
     },
     "execution_count": 16,
     "metadata": {},
     "output_type": "execute_result"
    }
   ],
   "source": [
    "num1 / num2"
   ]
  },
  {
   "cell_type": "code",
   "execution_count": 20,
   "metadata": {},
   "outputs": [
    {
     "data": {
      "text/plain": [
       "1.07-0.87i"
      ]
     },
     "execution_count": 20,
     "metadata": {},
     "output_type": "execute_result"
    }
   ],
   "source": [
    "num1.__truediv__(num2)"
   ]
  },
  {
   "cell_type": "code",
   "execution_count": 21,
   "metadata": {},
   "outputs": [
    {
     "data": {
      "text/plain": [
       "1.00+4.50i"
      ]
     },
     "execution_count": 21,
     "metadata": {},
     "output_type": "execute_result"
    }
   ],
   "source": [
    "num1 / 2"
   ]
  },
  {
   "cell_type": "code",
   "execution_count": 22,
   "metadata": {},
   "outputs": [
    {
     "data": {
      "text/plain": [
       "1.07-0.87i"
      ]
     },
     "execution_count": 22,
     "metadata": {},
     "output_type": "execute_result"
    }
   ],
   "source": [
    "num1.__truediv__(num2)"
   ]
  },
  {
   "cell_type": "code",
   "execution_count": 23,
   "metadata": {},
   "outputs": [
    {
     "ename": "TypeError",
     "evalue": "unsupported operand type(s) for /: 'int' and 'ComplexNumber'",
     "output_type": "error",
     "traceback": [
      "\u001b[1;31m---------------------------------------------------------------------------\u001b[0m",
      "\u001b[1;31mTypeError\u001b[0m                                 Traceback (most recent call last)",
      "\u001b[1;32m<ipython-input-23-bd18bd52aed2>\u001b[0m in \u001b[0;36m<module>\u001b[1;34m\u001b[0m\n\u001b[1;32m----> 1\u001b[1;33m \u001b[1;36m2\u001b[0m \u001b[1;33m/\u001b[0m \u001b[0mnum1\u001b[0m\u001b[1;33m\u001b[0m\u001b[1;33m\u001b[0m\u001b[0m\n\u001b[0m",
      "\u001b[1;31mTypeError\u001b[0m: unsupported operand type(s) for /: 'int' and 'ComplexNumber'"
     ]
    }
   ],
   "source": [
    "2 / num1"
   ]
  },
  {
   "cell_type": "code",
   "execution_count": null,
   "metadata": {},
   "outputs": [],
   "source": []
  }
 ],
 "metadata": {
  "kernelspec": {
   "display_name": "Python 3",
   "language": "python",
   "name": "python3"
  },
  "language_info": {
   "codemirror_mode": {
    "name": "ipython",
    "version": 3
   },
   "file_extension": ".py",
   "mimetype": "text/x-python",
   "name": "python",
   "nbconvert_exporter": "python",
   "pygments_lexer": "ipython3",
   "version": "3.7.1"
  }
 },
 "nbformat": 4,
 "nbformat_minor": 4
}
