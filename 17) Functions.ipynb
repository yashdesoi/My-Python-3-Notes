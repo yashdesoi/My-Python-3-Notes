{
 "cells": [
  {
   "cell_type": "markdown",
   "metadata": {},
   "source": [
    "# Function definition"
   ]
  },
  {
   "cell_type": "code",
   "execution_count": 1,
   "metadata": {},
   "outputs": [],
   "source": [
    "def my_function():\n",
    "    print('Hello World')"
   ]
  },
  {
   "cell_type": "code",
   "execution_count": 2,
   "metadata": {},
   "outputs": [
    {
     "data": {
      "text/plain": [
       "<function __main__.my_function()>"
      ]
     },
     "execution_count": 2,
     "metadata": {},
     "output_type": "execute_result"
    }
   ],
   "source": [
    "my_function"
   ]
  },
  {
   "cell_type": "code",
   "execution_count": 3,
   "metadata": {},
   "outputs": [
    {
     "data": {
      "text/plain": [
       "function"
      ]
     },
     "execution_count": 3,
     "metadata": {},
     "output_type": "execute_result"
    }
   ],
   "source": [
    "type(my_function)"
   ]
  },
  {
   "cell_type": "markdown",
   "metadata": {},
   "source": [
    "# Function call"
   ]
  },
  {
   "cell_type": "code",
   "execution_count": 3,
   "metadata": {},
   "outputs": [
    {
     "name": "stdout",
     "output_type": "stream",
     "text": [
      "Hello World\n"
     ]
    }
   ],
   "source": [
    "my_function()"
   ]
  },
  {
   "cell_type": "code",
   "execution_count": 6,
   "metadata": {},
   "outputs": [
    {
     "data": {
      "text/plain": [
       "<function __main__.my_function()>"
      ]
     },
     "execution_count": 6,
     "metadata": {},
     "output_type": "execute_result"
    }
   ],
   "source": [
    "my_function"
   ]
  },
  {
   "cell_type": "markdown",
   "metadata": {},
   "source": [
    "# Passing arguments"
   ]
  },
  {
   "cell_type": "code",
   "execution_count": 16,
   "metadata": {},
   "outputs": [],
   "source": [
    "def my_function_one(name):\n",
    "#                    ^\n",
    "#       function parameter, it is also\n",
    "#        local to respective function\n",
    "\n",
    "    print(f'Good Morning {name}')"
   ]
  },
  {
   "cell_type": "code",
   "execution_count": 17,
   "metadata": {},
   "outputs": [
    {
     "name": "stdout",
     "output_type": "stream",
     "text": [
      "Good Morning Yash\n"
     ]
    }
   ],
   "source": [
    "my_function_one('Yash')\n",
    "#                 ^\n",
    "#         function argument"
   ]
  },
  {
   "cell_type": "code",
   "execution_count": 18,
   "metadata": {},
   "outputs": [
    {
     "ename": "TypeError",
     "evalue": "my_function_one() missing 1 required positional argument: 'name'",
     "output_type": "error",
     "traceback": [
      "\u001b[1;31m---------------------------------------------------------------------------\u001b[0m",
      "\u001b[1;31mTypeError\u001b[0m                                 Traceback (most recent call last)",
      "\u001b[1;32m<ipython-input-18-fb14e46b26bd>\u001b[0m in \u001b[0;36m<module>\u001b[1;34m\u001b[0m\n\u001b[0;32m      1\u001b[0m \u001b[1;31m#what if we don't pass arguments during function call\u001b[0m\u001b[1;33m\u001b[0m\u001b[1;33m\u001b[0m\u001b[1;33m\u001b[0m\u001b[0m\n\u001b[0;32m      2\u001b[0m \u001b[1;33m\u001b[0m\u001b[0m\n\u001b[1;32m----> 3\u001b[1;33m \u001b[0mmy_function_one\u001b[0m\u001b[1;33m(\u001b[0m\u001b[1;33m)\u001b[0m\u001b[1;33m\u001b[0m\u001b[1;33m\u001b[0m\u001b[0m\n\u001b[0m",
      "\u001b[1;31mTypeError\u001b[0m: my_function_one() missing 1 required positional argument: 'name'"
     ]
    }
   ],
   "source": [
    "#what if we don't pass arguments during function call\n",
    "\n",
    "my_function_one()"
   ]
  },
  {
   "cell_type": "code",
   "execution_count": 24,
   "metadata": {},
   "outputs": [],
   "source": [
    "#to prevent this kind of error from happening in future, we can assign a default value to any argument(s)\n",
    "\n",
    "def my_function_two(name = 'Admin'):\n",
    "    print(f'Good Morning {name}')"
   ]
  },
  {
   "cell_type": "code",
   "execution_count": 25,
   "metadata": {},
   "outputs": [
    {
     "name": "stdout",
     "output_type": "stream",
     "text": [
      "Good Morning Admin\n"
     ]
    }
   ],
   "source": [
    "#So now if we don't pass arguments during function call\n",
    "\n",
    "my_function_two()"
   ]
  },
  {
   "cell_type": "code",
   "execution_count": 26,
   "metadata": {},
   "outputs": [
    {
     "name": "stdout",
     "output_type": "stream",
     "text": [
      "Good Morning Himani\n"
     ]
    }
   ],
   "source": [
    "#if we pass the arguments:-\n",
    "\n",
    "my_function_two('Himani')"
   ]
  },
  {
   "cell_type": "markdown",
   "metadata": {},
   "source": [
    "# Returning function\n",
    "### If a function returns something, there is an output for that function. Therefor we can now store that output in some variable. Once return statement is executed, control immediately exits from the function definition and redirects to function call"
   ]
  },
  {
   "cell_type": "code",
   "execution_count": 27,
   "metadata": {},
   "outputs": [],
   "source": [
    "def adding_function(num1,num2):\n",
    "    num3 = num1 + num2\n",
    "    return num3"
   ]
  },
  {
   "cell_type": "code",
   "execution_count": 28,
   "metadata": {},
   "outputs": [
    {
     "data": {
      "text/plain": [
       "11"
      ]
     },
     "execution_count": 28,
     "metadata": {},
     "output_type": "execute_result"
    }
   ],
   "source": [
    "adding_function(5,6)"
   ]
  },
  {
   "cell_type": "code",
   "execution_count": 29,
   "metadata": {},
   "outputs": [
    {
     "data": {
      "text/plain": [
       "int"
      ]
     },
     "execution_count": 29,
     "metadata": {},
     "output_type": "execute_result"
    }
   ],
   "source": [
    "type(adding_function(3,4))"
   ]
  },
  {
   "cell_type": "code",
   "execution_count": 30,
   "metadata": {},
   "outputs": [],
   "source": [
    "result = adding_function(3,4)"
   ]
  },
  {
   "cell_type": "code",
   "execution_count": 31,
   "metadata": {},
   "outputs": [
    {
     "data": {
      "text/plain": [
       "7"
      ]
     },
     "execution_count": 31,
     "metadata": {},
     "output_type": "execute_result"
    }
   ],
   "source": [
    "result"
   ]
  },
  {
   "cell_type": "code",
   "execution_count": 32,
   "metadata": {},
   "outputs": [
    {
     "name": "stdout",
     "output_type": "stream",
     "text": [
      "Good Morning Yash\n"
     ]
    }
   ],
   "source": [
    "#we cannot store anything if a function doesn't return anything. And there won't be any output which has data-type.\n",
    "#Like print function, which just has printed-output \n",
    "\n",
    "result = my_function_two('Yash')"
   ]
  },
  {
   "cell_type": "code",
   "execution_count": 33,
   "metadata": {},
   "outputs": [
    {
     "data": {
      "text/plain": [
       "NoneType"
      ]
     },
     "execution_count": 33,
     "metadata": {},
     "output_type": "execute_result"
    }
   ],
   "source": [
    "type(result)"
   ]
  },
  {
   "cell_type": "markdown",
   "metadata": {},
   "source": [
    "### Example 1"
   ]
  },
  {
   "cell_type": "code",
   "execution_count": 1,
   "metadata": {},
   "outputs": [],
   "source": [
    "def upper_lower(char):\n",
    "    i = 1\n",
    "    strng = ''\n",
    "    for letter in char:\n",
    "        if i%2 == 0:\n",
    "            strng = strng + letter.lower()\n",
    "        else:\n",
    "            strng = strng + letter.upper()\n",
    "        i+=1\n",
    "        \n",
    "    return strng"
   ]
  },
  {
   "cell_type": "code",
   "execution_count": 2,
   "metadata": {},
   "outputs": [
    {
     "data": {
      "text/plain": [
       "'KiNg yAsH'"
      ]
     },
     "execution_count": 2,
     "metadata": {},
     "output_type": "execute_result"
    }
   ],
   "source": [
    "upper_lower('King YasH')"
   ]
  },
  {
   "cell_type": "code",
   "execution_count": 3,
   "metadata": {},
   "outputs": [
    {
     "data": {
      "text/plain": [
       "'HaNdKeRcHiEf'"
      ]
     },
     "execution_count": 3,
     "metadata": {},
     "output_type": "execute_result"
    }
   ],
   "source": [
    "upper_lower('Handkerchief')"
   ]
  },
  {
   "cell_type": "markdown",
   "metadata": {},
   "source": [
    "# How to return two or more values"
   ]
  },
  {
   "cell_type": "code",
   "execution_count": 8,
   "metadata": {},
   "outputs": [],
   "source": [
    "def math(a,b):\n",
    "    add = a+b\n",
    "    subtract = a-b\n",
    "    multiply = a*b\n",
    "    divide = a/b\n",
    "    \n",
    "    # To return multiple values, structre all the values in tuple and then return the entire tuple itself\n",
    "    return (add,subtract,multiply,divide)"
   ]
  },
  {
   "cell_type": "code",
   "execution_count": 9,
   "metadata": {},
   "outputs": [
    {
     "data": {
      "text/plain": [
       "(16, 4, 60, 1.6666666666666667)"
      ]
     },
     "execution_count": 9,
     "metadata": {},
     "output_type": "execute_result"
    }
   ],
   "source": [
    "math(10,6)"
   ]
  },
  {
   "cell_type": "code",
   "execution_count": 10,
   "metadata": {},
   "outputs": [],
   "source": [
    "# To extract multiple values, use tuple unpacking\n",
    "a,b,c,d = math(50,33)"
   ]
  },
  {
   "cell_type": "code",
   "execution_count": 11,
   "metadata": {},
   "outputs": [
    {
     "data": {
      "text/plain": [
       "83"
      ]
     },
     "execution_count": 11,
     "metadata": {},
     "output_type": "execute_result"
    }
   ],
   "source": [
    "a"
   ]
  },
  {
   "cell_type": "code",
   "execution_count": 12,
   "metadata": {},
   "outputs": [
    {
     "data": {
      "text/plain": [
       "17"
      ]
     },
     "execution_count": 12,
     "metadata": {},
     "output_type": "execute_result"
    }
   ],
   "source": [
    "b"
   ]
  },
  {
   "cell_type": "code",
   "execution_count": 13,
   "metadata": {},
   "outputs": [
    {
     "data": {
      "text/plain": [
       "1650"
      ]
     },
     "execution_count": 13,
     "metadata": {},
     "output_type": "execute_result"
    }
   ],
   "source": [
    "c"
   ]
  },
  {
   "cell_type": "code",
   "execution_count": 14,
   "metadata": {},
   "outputs": [
    {
     "data": {
      "text/plain": [
       "1.5151515151515151"
      ]
     },
     "execution_count": 14,
     "metadata": {},
     "output_type": "execute_result"
    }
   ],
   "source": [
    "d"
   ]
  },
  {
   "cell_type": "markdown",
   "metadata": {},
   "source": [
    "# Data-type specific returning functions\n",
    "### This is important when user input is required, through <code>input()</code>"
   ]
  },
  {
   "cell_type": "code",
   "execution_count": 34,
   "metadata": {},
   "outputs": [],
   "source": [
    "#if we pass string data in adding_function, instead of adding it will concatinate\n",
    "\n",
    "result = adding_function('11','20')"
   ]
  },
  {
   "cell_type": "code",
   "execution_count": 35,
   "metadata": {},
   "outputs": [
    {
     "data": {
      "text/plain": [
       "'1120'"
      ]
     },
     "execution_count": 35,
     "metadata": {},
     "output_type": "execute_result"
    }
   ],
   "source": [
    "result"
   ]
  },
  {
   "cell_type": "code",
   "execution_count": 27,
   "metadata": {},
   "outputs": [],
   "source": [
    "#to prevent this kind of bug, we need to make returning functions as data_type specific, i.e. the function only accepts\n",
    "#numeric values. If user enters alpha-numeric or alphabetic values as num1 and/or num2, then we first concatinate both\n",
    "#num1 and num2 and check each element of string, if even one element of the string comes out to be non-numeric then\n",
    "#function call will print error message and will return NoneType. If none of the element is non-numeric then only\n",
    "# function call will return int(num1) + int(num2)\n",
    "\n",
    "def adding_function_two(num1,num2):\n",
    "    \n",
    "    for char in num1+num2:\n",
    "        if char not in ['1','2','3','4','5','6','7','8','9']:\n",
    "            print('ERROR! VALUE MUST ONLY BE NUMERIC')\n",
    "            return None\n",
    "        else:\n",
    "            continue\n",
    "    \n",
    "    return int(num1) + int(num2)\n",
    "\n",
    "#If return None executes first, control immediately redirects to function call. Hence statements after return None won't\n",
    "#be executed"
   ]
  },
  {
   "cell_type": "code",
   "execution_count": 28,
   "metadata": {},
   "outputs": [],
   "source": [
    "result = adding_function_two('85','15')"
   ]
  },
  {
   "cell_type": "code",
   "execution_count": 29,
   "metadata": {},
   "outputs": [
    {
     "data": {
      "text/plain": [
       "100"
      ]
     },
     "execution_count": 29,
     "metadata": {},
     "output_type": "execute_result"
    }
   ],
   "source": [
    "result"
   ]
  },
  {
   "cell_type": "code",
   "execution_count": 30,
   "metadata": {},
   "outputs": [
    {
     "data": {
      "text/plain": [
       "int"
      ]
     },
     "execution_count": 30,
     "metadata": {},
     "output_type": "execute_result"
    }
   ],
   "source": [
    "type(result)"
   ]
  },
  {
   "cell_type": "code",
   "execution_count": 31,
   "metadata": {
    "scrolled": true
   },
   "outputs": [
    {
     "name": "stdout",
     "output_type": "stream",
     "text": [
      "ERROR! VALUE MUST ONLY BE NUMERIC\n"
     ]
    }
   ],
   "source": [
    "# lets pass alpha-numeric value\n",
    "adding_function_two('13fa45bh8','a1x34')"
   ]
  },
  {
   "cell_type": "code",
   "execution_count": 32,
   "metadata": {},
   "outputs": [
    {
     "data": {
      "text/plain": [
       "8"
      ]
     },
     "execution_count": 32,
     "metadata": {},
     "output_type": "execute_result"
    }
   ],
   "source": [
    "adding_function_two('5','3')"
   ]
  },
  {
   "cell_type": "code",
   "execution_count": 33,
   "metadata": {},
   "outputs": [],
   "source": [
    "result = adding_function_two('35','65')"
   ]
  },
  {
   "cell_type": "code",
   "execution_count": 34,
   "metadata": {
    "scrolled": true
   },
   "outputs": [
    {
     "name": "stdout",
     "output_type": "stream",
     "text": [
      "100\n"
     ]
    }
   ],
   "source": [
    "print(result)"
   ]
  },
  {
   "cell_type": "markdown",
   "metadata": {},
   "source": [
    "# Double return statements"
   ]
  },
  {
   "cell_type": "code",
   "execution_count": 123,
   "metadata": {},
   "outputs": [],
   "source": [
    "def check_list_for_even(mylist):\n",
    "#function return true if there is at least one even number in the list\n",
    "    \n",
    "    for num in mylist:\n",
    "        if num%2 == 0:\n",
    "            return True\n",
    "        else:\n",
    "            pass"
   ]
  },
  {
   "cell_type": "code",
   "execution_count": 126,
   "metadata": {
    "scrolled": true
   },
   "outputs": [
    {
     "data": {
      "text/plain": [
       "True"
      ]
     },
     "execution_count": 126,
     "metadata": {},
     "output_type": "execute_result"
    }
   ],
   "source": [
    "check_list_for_even([1,5,7,16])"
   ]
  },
  {
   "cell_type": "code",
   "execution_count": 127,
   "metadata": {},
   "outputs": [
    {
     "data": {
      "text/plain": [
       "bool"
      ]
     },
     "execution_count": 127,
     "metadata": {},
     "output_type": "execute_result"
    }
   ],
   "source": [
    "type(check_list_for_even([1,5,7,16]))"
   ]
  },
  {
   "cell_type": "code",
   "execution_count": 128,
   "metadata": {},
   "outputs": [],
   "source": [
    "#but function won't return false if there is not even one even number in list\n",
    "check_list_for_even([5,9,5,3,7])"
   ]
  },
  {
   "cell_type": "code",
   "execution_count": 129,
   "metadata": {},
   "outputs": [
    {
     "data": {
      "text/plain": [
       "NoneType"
      ]
     },
     "execution_count": 129,
     "metadata": {},
     "output_type": "execute_result"
    }
   ],
   "source": [
    "type(check_list_for_even([5,9,5,3,7]))"
   ]
  },
  {
   "cell_type": "code",
   "execution_count": 130,
   "metadata": {},
   "outputs": [],
   "source": [
    "#to rectify this bug we will add double return statements\n",
    "def check_list_for_even(mylist):\n",
    "    \n",
    "    for num in mylist:\n",
    "        if num%2 == 0:\n",
    "            return True\n",
    "        else:\n",
    "            return False #WRONG!!! place\n",
    "        \n",
    "#This is WRONG place to add another return statement, because this will make loop to iterate only once. Hence it\n",
    "#will only pass 1st element of the list and will conclude the result"
   ]
  },
  {
   "cell_type": "code",
   "execution_count": 131,
   "metadata": {},
   "outputs": [
    {
     "data": {
      "text/plain": [
       "False"
      ]
     },
     "execution_count": 131,
     "metadata": {},
     "output_type": "execute_result"
    }
   ],
   "source": [
    "#witness it yourself, even though there was 12 at the end \n",
    "check_list_for_even([5,9,5,3,7,12])"
   ]
  },
  {
   "cell_type": "code",
   "execution_count": 132,
   "metadata": {},
   "outputs": [],
   "source": [
    "#Hence we have to include return False outside of the for-loop, therefor for-loop will first check all the elements of the\n",
    "#list for even element, and if there is none, False will be returned\n",
    "def check_list_for_even(mylist):\n",
    "    \n",
    "    for num in mylist:\n",
    "        if num%2 == 0:\n",
    "            return True\n",
    "        else:\n",
    "            pass\n",
    "    \n",
    "    return False"
   ]
  },
  {
   "cell_type": "code",
   "execution_count": 133,
   "metadata": {},
   "outputs": [
    {
     "data": {
      "text/plain": [
       "True"
      ]
     },
     "execution_count": 133,
     "metadata": {},
     "output_type": "execute_result"
    }
   ],
   "source": [
    "check_list_for_even([5,9,5,3,7,12])"
   ]
  },
  {
   "cell_type": "code",
   "execution_count": 134,
   "metadata": {},
   "outputs": [
    {
     "data": {
      "text/plain": [
       "False"
      ]
     },
     "execution_count": 134,
     "metadata": {},
     "output_type": "execute_result"
    }
   ],
   "source": [
    "check_list_for_even([5,9,5,3,7])"
   ]
  },
  {
   "cell_type": "code",
   "execution_count": 135,
   "metadata": {},
   "outputs": [],
   "source": [
    "#function to collect all the even elements of particular list and add it in another list and then return that even list\n",
    "\n",
    "def collect_even(mylist):\n",
    "    even_list = []\n",
    "    \n",
    "    for num in mylist:\n",
    "        if num%2 == 0:\n",
    "            even_list.append(num)\n",
    "        else:\n",
    "            pass\n",
    "    \n",
    "    return even_list"
   ]
  },
  {
   "cell_type": "code",
   "execution_count": 136,
   "metadata": {},
   "outputs": [
    {
     "data": {
      "text/plain": [
       "[0, 2, 4, 6, 8, 10, 12, 14, 16, 18, 20]"
      ]
     },
     "execution_count": 136,
     "metadata": {},
     "output_type": "execute_result"
    }
   ],
   "source": [
    "collect_even(list(range(0,21)))"
   ]
  },
  {
   "cell_type": "markdown",
   "metadata": {},
   "source": [
    "# Tuple unpacking with functions"
   ]
  },
  {
   "cell_type": "code",
   "execution_count": 1,
   "metadata": {},
   "outputs": [],
   "source": [
    "sci_result = [('Skippy',75), ('Jolly',63), ('Jack',93), ('Ogre',88), ('Flopsy',78)]"
   ]
  },
  {
   "cell_type": "code",
   "execution_count": 11,
   "metadata": {},
   "outputs": [],
   "source": [
    "def student_of_the_year(my_list):\n",
    "#this function returns highest marks from a given set of marks, and also the name of the student corresponding\n",
    "#to the highest marks   \n",
    "    \n",
    "    highest_marks = 0\n",
    "    best_student = ''\n",
    "    \n",
    "    for (student,marks) in my_list:\n",
    "        if marks > highest_marks:\n",
    "            highest_marks = marks\n",
    "            best_student = student\n",
    "        else:\n",
    "            pass\n",
    "        \n",
    "    return best_student,highest_marks    "
   ]
  },
  {
   "cell_type": "code",
   "execution_count": 12,
   "metadata": {},
   "outputs": [
    {
     "data": {
      "text/plain": [
       "('Jack', 93)"
      ]
     },
     "execution_count": 12,
     "metadata": {},
     "output_type": "execute_result"
    }
   ],
   "source": [
    "student_of_the_year(sci_result)"
   ]
  },
  {
   "cell_type": "code",
   "execution_count": 13,
   "metadata": {},
   "outputs": [],
   "source": [
    "result = student_of_the_year(sci_result)"
   ]
  },
  {
   "cell_type": "code",
   "execution_count": 14,
   "metadata": {},
   "outputs": [
    {
     "data": {
      "text/plain": [
       "tuple"
      ]
     },
     "execution_count": 14,
     "metadata": {},
     "output_type": "execute_result"
    }
   ],
   "source": [
    "type(result)"
   ]
  },
  {
   "cell_type": "code",
   "execution_count": 15,
   "metadata": {},
   "outputs": [],
   "source": [
    "name,score = result"
   ]
  },
  {
   "cell_type": "code",
   "execution_count": 16,
   "metadata": {},
   "outputs": [
    {
     "data": {
      "text/plain": [
       "'Jack'"
      ]
     },
     "execution_count": 16,
     "metadata": {},
     "output_type": "execute_result"
    }
   ],
   "source": [
    "name"
   ]
  },
  {
   "cell_type": "code",
   "execution_count": 17,
   "metadata": {},
   "outputs": [
    {
     "data": {
      "text/plain": [
       "93"
      ]
     },
     "execution_count": 17,
     "metadata": {},
     "output_type": "execute_result"
    }
   ],
   "source": [
    "score"
   ]
  },
  {
   "cell_type": "markdown",
   "metadata": {},
   "source": [
    "# Interactions between functions\n",
    "### Creating a game which will mimic classic carnival game of guessing which cup has a red ball is under it. Instead of cup and ball, we will use list which has 3 elements in it, which are <code>' '</code>, <code>' '</code> and <code>'o'</code>. Here <code>'o'</code> represents the the cup with a red ball under it and <code>' '</code> represents empty cup."
   ]
  },
  {
   "cell_type": "code",
   "execution_count": 8,
   "metadata": {},
   "outputs": [],
   "source": [
    "def shuffle_cups(unshuffled_cups):\n",
    "#Since, function shuffle() returns nothing, we have to create a function which will return shuffled list\n",
    "    \n",
    "    shuffle(unshuffled_cups)\n",
    "    \n",
    "    shuffled_cups = unshuffled_cups\n",
    "    \n",
    "    return shuffled_cups"
   ]
  },
  {
   "cell_type": "code",
   "execution_count": 9,
   "metadata": {},
   "outputs": [],
   "source": [
    "def enter_guess():\n",
    "#function to ask for user's input\n",
    "    guess = None\n",
    "    position_list = ['1','2','3']\n",
    "    while guess not in ['1','2','3']:\n",
    "        guess = input(f'WHERE THE BALL COULD BE? {position_list}:- ')\n",
    "        \n",
    "        if guess not in ['1','2','3']:\n",
    "            print('INVALID INPUT')\n",
    "    \n",
    "    return int(guess)-1"
   ]
  },
  {
   "cell_type": "code",
   "execution_count": 10,
   "metadata": {},
   "outputs": [],
   "source": [
    "def check_guess(shuffled_cups,guess):\n",
    "    \n",
    "    if shuffled_cups[guess] == 'o':\n",
    "        print(f'\\nCORRECT GUESS: {shuffled_cups}')\n",
    "        \n",
    "    else:\n",
    "        print(f'\\nINCORRECT GUESS!\\nCORRECT GUESS: {shuffled_cups}')"
   ]
  },
  {
   "cell_type": "code",
   "execution_count": 11,
   "metadata": {},
   "outputs": [
    {
     "name": "stdout",
     "output_type": "stream",
     "text": [
      "WHERE THE BALL COULD BE? ['1', '2', '3']:- 1\n",
      "\n",
      "INCORRECT GUESS!\n",
      "CORRECT GUESS: [' ', ' ', 'o']\n",
      "DO YOU WANNA PLAY AGAIN? (y/n):- h\n",
      "INVALID INPUT\n",
      "DO YOU WANNA PLAY AGAIN? (y/n):- y\n",
      "WHERE THE BALL COULD BE? ['1', '2', '3']:- 6\n",
      "INVALID INPUT\n",
      "WHERE THE BALL COULD BE? ['1', '2', '3']:- 2\n",
      "\n",
      "CORRECT GUESS: [' ', 'o', ' ']\n",
      "DO YOU WANNA PLAY AGAIN? (y/n):- n\n"
     ]
    }
   ],
   "source": [
    "#Main game script, to call every function\n",
    "\n",
    "unshuffled_cups = [' ','o',' ']\n",
    "\n",
    "from random import shuffle\n",
    "\n",
    "m = True\n",
    "\n",
    "while m:\n",
    "    \n",
    "    #To shuffle cups\n",
    "    shuffled_cups = shuffle_cups(unshuffled_cups)\n",
    "    #print(f'\\n{shuffled_cups}\\n')\n",
    "    \n",
    "    #To take the guess\n",
    "    guess = enter_guess()\n",
    "    \n",
    "    #To check whether the guess was correct or not\n",
    "    check_guess(shuffled_cups,guess)\n",
    "    \n",
    "    n = True\n",
    "    \n",
    "    while n == True:\n",
    "        \n",
    "        choice = input('DO YOU WANNA PLAY AGAIN? (y/n):- ')\n",
    "    \n",
    "        if choice.lower() == 'y':\n",
    "            n = False\n",
    "            m = True\n",
    "            \n",
    "        elif choice.lower() == 'n':\n",
    "            n = False\n",
    "            m = False\n",
    "            \n",
    "        else:\n",
    "            print('INVALID INPUT')\n",
    "            continue"
   ]
  },
  {
   "cell_type": "markdown",
   "metadata": {},
   "source": [
    "#   <code>*****args</code> and <code>**kwargs</code>"
   ]
  },
  {
   "cell_type": "code",
   "execution_count": 47,
   "metadata": {},
   "outputs": [],
   "source": [
    "#Number of arguments to be passed during function call depends\n",
    "#upon the number of arguments specified in funnction definition\n",
    "\n",
    "def myfunc(a,b):\n",
    "    return a+b"
   ]
  },
  {
   "cell_type": "code",
   "execution_count": 2,
   "metadata": {},
   "outputs": [
    {
     "data": {
      "text/plain": [
       "90"
      ]
     },
     "execution_count": 2,
     "metadata": {},
     "output_type": "execute_result"
    }
   ],
   "source": [
    "myfunc(50,40)"
   ]
  },
  {
   "cell_type": "code",
   "execution_count": 3,
   "metadata": {},
   "outputs": [
    {
     "ename": "TypeError",
     "evalue": "myfunc() takes 2 positional arguments but 3 were given",
     "output_type": "error",
     "traceback": [
      "\u001b[1;31m---------------------------------------------------------------------------\u001b[0m",
      "\u001b[1;31mTypeError\u001b[0m                                 Traceback (most recent call last)",
      "\u001b[1;32m<ipython-input-3-2642f95d5ed9>\u001b[0m in \u001b[0;36m<module>\u001b[1;34m\u001b[0m\n\u001b[1;32m----> 1\u001b[1;33m \u001b[0mmyfunc\u001b[0m\u001b[1;33m(\u001b[0m\u001b[1;36m20\u001b[0m\u001b[1;33m,\u001b[0m\u001b[1;36m40\u001b[0m\u001b[1;33m,\u001b[0m\u001b[1;36m10\u001b[0m\u001b[1;33m)\u001b[0m\u001b[1;33m\u001b[0m\u001b[1;33m\u001b[0m\u001b[0m\n\u001b[0m",
      "\u001b[1;31mTypeError\u001b[0m: myfunc() takes 2 positional arguments but 3 were given"
     ]
    }
   ],
   "source": [
    "#Hence user will get an ERROR if he pass more than or less than specified arguments in function call\n",
    "myfunc(20,40,10)"
   ]
  },
  {
   "cell_type": "code",
   "execution_count": 48,
   "metadata": {},
   "outputs": [],
   "source": [
    "#In this case we may specify extra arguments with some default value\n",
    "\n",
    "def myfunc(a,b,c=0,d=0,e=0,f=0):\n",
    "    return a+b+c+d+e+f"
   ]
  },
  {
   "cell_type": "code",
   "execution_count": 5,
   "metadata": {},
   "outputs": [
    {
     "data": {
      "text/plain": [
       "70"
      ]
     },
     "execution_count": 5,
     "metadata": {},
     "output_type": "execute_result"
    }
   ],
   "source": [
    "myfunc(20,40,10)"
   ]
  },
  {
   "cell_type": "code",
   "execution_count": 6,
   "metadata": {},
   "outputs": [
    {
     "ename": "TypeError",
     "evalue": "myfunc() takes from 2 to 6 positional arguments but 7 were given",
     "output_type": "error",
     "traceback": [
      "\u001b[1;31m---------------------------------------------------------------------------\u001b[0m",
      "\u001b[1;31mTypeError\u001b[0m                                 Traceback (most recent call last)",
      "\u001b[1;32m<ipython-input-6-418323e21ef8>\u001b[0m in \u001b[0;36m<module>\u001b[1;34m\u001b[0m\n\u001b[0;32m      1\u001b[0m \u001b[1;31m#But this trail and error method is also not enough\u001b[0m\u001b[1;33m\u001b[0m\u001b[1;33m\u001b[0m\u001b[1;33m\u001b[0m\u001b[0m\n\u001b[0;32m      2\u001b[0m \u001b[1;33m\u001b[0m\u001b[0m\n\u001b[1;32m----> 3\u001b[1;33m \u001b[0mmyfunc\u001b[0m\u001b[1;33m(\u001b[0m\u001b[1;36m20\u001b[0m\u001b[1;33m,\u001b[0m\u001b[1;36m40\u001b[0m\u001b[1;33m,\u001b[0m\u001b[1;36m10\u001b[0m\u001b[1;33m,\u001b[0m\u001b[1;36m70\u001b[0m\u001b[1;33m,\u001b[0m\u001b[1;36m100\u001b[0m\u001b[1;33m,\u001b[0m\u001b[1;36m6\u001b[0m\u001b[1;33m,\u001b[0m\u001b[1;36m50\u001b[0m\u001b[1;33m)\u001b[0m\u001b[1;33m\u001b[0m\u001b[1;33m\u001b[0m\u001b[0m\n\u001b[0m",
      "\u001b[1;31mTypeError\u001b[0m: myfunc() takes from 2 to 6 positional arguments but 7 were given"
     ]
    }
   ],
   "source": [
    "#But this trial and error method is also not enough\n",
    "\n",
    "myfunc(20,40,10,70,100,6,50)"
   ]
  },
  {
   "cell_type": "markdown",
   "metadata": {},
   "source": [
    "### Therefor to make arguments of function call INDEPENDENT of the arguments of function definition, we use <code>*****args</code> and <code>**kwargs</code>"
   ]
  },
  {
   "cell_type": "markdown",
   "metadata": {},
   "source": [
    "### <code>*****args</code>"
   ]
  },
  {
   "cell_type": "code",
   "execution_count": 27,
   "metadata": {},
   "outputs": [],
   "source": [
    "# *args will form a tuple of the passed arguments\n",
    "\n",
    "def myfunc1(*args):\n",
    "    print(f'This is what myfunc1() will actually conceive:- {args}')"
   ]
  },
  {
   "cell_type": "code",
   "execution_count": 28,
   "metadata": {},
   "outputs": [
    {
     "name": "stdout",
     "output_type": "stream",
     "text": [
      "This is what myfunc1() will actually conceive:- (9, 11, 5)\n"
     ]
    }
   ],
   "source": [
    "myfunc1(9,11,5)"
   ]
  },
  {
   "cell_type": "code",
   "execution_count": 29,
   "metadata": {},
   "outputs": [
    {
     "name": "stdout",
     "output_type": "stream",
     "text": [
      "This is what myfunc1() will actually conceive:- (9, 11, 5, 4, 7, 12, 14)\n"
     ]
    }
   ],
   "source": [
    "myfunc1(9,11,5,4,7,12,14)"
   ]
  },
  {
   "cell_type": "markdown",
   "metadata": {},
   "source": [
    "### Example of *args"
   ]
  },
  {
   "cell_type": "code",
   "execution_count": 49,
   "metadata": {},
   "outputs": [],
   "source": [
    "def mysum(*args):\n",
    "    return sum(args)"
   ]
  },
  {
   "cell_type": "code",
   "execution_count": 50,
   "metadata": {},
   "outputs": [
    {
     "data": {
      "text/plain": [
       "8"
      ]
     },
     "execution_count": 50,
     "metadata": {},
     "output_type": "execute_result"
    }
   ],
   "source": [
    "mysum(3,5)"
   ]
  },
  {
   "cell_type": "code",
   "execution_count": 51,
   "metadata": {},
   "outputs": [
    {
     "data": {
      "text/plain": [
       "75"
      ]
     },
     "execution_count": 51,
     "metadata": {},
     "output_type": "execute_result"
    }
   ],
   "source": [
    "mysum(8,50,17)"
   ]
  },
  {
   "cell_type": "markdown",
   "metadata": {},
   "source": [
    "### Example of *args 2"
   ]
  },
  {
   "cell_type": "code",
   "execution_count": 1,
   "metadata": {},
   "outputs": [],
   "source": [
    "def eve_allo(*args):\n",
    "    even_list = []\n",
    "    \n",
    "    for num in args:\n",
    "        if num%2 == 0:\n",
    "            even_list.append(num)\n",
    "        else:\n",
    "            continue\n",
    "    \n",
    "    return tuple(even_list)"
   ]
  },
  {
   "cell_type": "code",
   "execution_count": 2,
   "metadata": {},
   "outputs": [],
   "source": [
    "result = eve_allo(1,2,3,4,5,6,7)"
   ]
  },
  {
   "cell_type": "code",
   "execution_count": 3,
   "metadata": {},
   "outputs": [
    {
     "data": {
      "text/plain": [
       "(2, 4, 6)"
      ]
     },
     "execution_count": 3,
     "metadata": {},
     "output_type": "execute_result"
    }
   ],
   "source": [
    "result"
   ]
  },
  {
   "cell_type": "code",
   "execution_count": 4,
   "metadata": {},
   "outputs": [
    {
     "data": {
      "text/plain": [
       "(8,)"
      ]
     },
     "execution_count": 4,
     "metadata": {},
     "output_type": "execute_result"
    }
   ],
   "source": [
    "eve_allo(9,8,11,17,15)"
   ]
  },
  {
   "cell_type": "markdown",
   "metadata": {},
   "source": [
    "### <code>******kwargs</code>"
   ]
  },
  {
   "cell_type": "code",
   "execution_count": 26,
   "metadata": {},
   "outputs": [],
   "source": [
    "# **kwargs will form a dictionary of the passed arguments, and arguments must be in __key1 = value1__ form, where\n",
    "# key1 can be any name (without any datatype) and value2 can be any data of any data-type. Python will convert that\n",
    "# name into string data-type to form key: value pair in dictionary.\n",
    "\n",
    "def myfunc2(**kwargs):\n",
    "    print(f'This is what myfunc2() will actually conceive:- {kwargs}')"
   ]
  },
  {
   "cell_type": "code",
   "execution_count": 31,
   "metadata": {
    "scrolled": true
   },
   "outputs": [
    {
     "name": "stdout",
     "output_type": "stream",
     "text": [
      "This is what myfunc2() will actually conceive:- {'number_1': '1', 'number_2': 2, 'name': 'Sammy'}\n"
     ]
    }
   ],
   "source": [
    "myfunc2(number_1='1',number_2=2,name='Sammy')"
   ]
  },
  {
   "cell_type": "code",
   "execution_count": 33,
   "metadata": {},
   "outputs": [
    {
     "name": "stdout",
     "output_type": "stream",
     "text": [
      "This is what myfunc2() will actually conceive:- {'state': 'Maharashtra', 'fav_num': 15, 'fav_song': 'Not Afraid by EMINEM'}\n"
     ]
    }
   ],
   "source": [
    "myfunc2(state='Maharashtra', fav_num=15, fav_song='Not Afraid by EMINEM')"
   ]
  },
  {
   "cell_type": "markdown",
   "metadata": {},
   "source": [
    "### Example  of **kwargs"
   ]
  },
  {
   "cell_type": "code",
   "execution_count": 36,
   "metadata": {},
   "outputs": [],
   "source": [
    "#We can replace args and kwargs with anything until there is * and ** in front of those 'anything'\n",
    "#since args and kwargs are not key-words\n",
    "\n",
    "def imp_info_only(**all_info):\n",
    "    \n",
    "    imp_info = {}\n",
    "    \n",
    "    for key in all_info:\n",
    "        if key in ['state','city','age','sex','name']:\n",
    "            imp_info[key] = all_info[key]\n",
    "            \n",
    "        else:\n",
    "            continue\n",
    "    \n",
    "    return imp_info  "
   ]
  },
  {
   "cell_type": "code",
   "execution_count": 37,
   "metadata": {},
   "outputs": [
    {
     "data": {
      "text/plain": [
       "{'state': 'Maharashtra',\n",
       " 'name': 'Yash',\n",
       " 'age': 22,\n",
       " 'city': 'Mumbai',\n",
       " 'sex': 'Male'}"
      ]
     },
     "execution_count": 37,
     "metadata": {},
     "output_type": "execute_result"
    }
   ],
   "source": [
    "imp_info_only(state='Maharashtra', fav_num=15, name='Yash', age=22, fav_song='Not Afraid by EMINEM', city='Mumbai', fav_bird='Sparrow',sex='Male')"
   ]
  },
  {
   "cell_type": "markdown",
   "metadata": {},
   "source": [
    "### Combination of <code>*****args</code> and <code>******kwargs</code>"
   ]
  },
  {
   "cell_type": "code",
   "execution_count": 42,
   "metadata": {},
   "outputs": [],
   "source": [
    "def myfunc3(*jelly,**bunn):\n",
    "    print(f'{type(jelly)}:- {jelly}')\n",
    "    print(f'{type(bunn)}:- {bunn}')"
   ]
  },
  {
   "cell_type": "code",
   "execution_count": 43,
   "metadata": {},
   "outputs": [
    {
     "name": "stdout",
     "output_type": "stream",
     "text": [
      "<class 'tuple'>:- (5, 6, 7)\n",
      "<class 'dict'>:- {'liquor': 'Beer', 'food': 'Sushi'}\n"
     ]
    }
   ],
   "source": [
    "myfunc3(5,6,7,liquor='Beer',food='Sushi')"
   ]
  },
  {
   "cell_type": "code",
   "execution_count": 45,
   "metadata": {
    "scrolled": true
   },
   "outputs": [
    {
     "ename": "SyntaxError",
     "evalue": "positional argument follows keyword argument (<ipython-input-45-2b92e709346c>, line 3)",
     "output_type": "error",
     "traceback": [
      "\u001b[1;36m  File \u001b[1;32m\"<ipython-input-45-2b92e709346c>\"\u001b[1;36m, line \u001b[1;32m3\u001b[0m\n\u001b[1;33m    myfunc3(movie='INCEPTION',5,6,7,liquor='Beer',food='Sushi',8)\u001b[0m\n\u001b[1;37m                             ^\u001b[0m\n\u001b[1;31mSyntaxError\u001b[0m\u001b[1;31m:\u001b[0m positional argument follows keyword argument\n"
     ]
    }
   ],
   "source": [
    "#python will show ERROR if we mess up with position of args and kwargs\n",
    "\n",
    "myfunc3(movie='INCEPTION',5,6,7,liquor='Beer',food='Sushi',8)"
   ]
  },
  {
   "cell_type": "markdown",
   "metadata": {},
   "source": [
    "# Function calling other function(s)"
   ]
  },
  {
   "cell_type": "markdown",
   "metadata": {},
   "source": [
    "### Function to check whether a number is prime or composite\n",
    "A prime number is a natural number greater than 1 that is not a product of two smaller natural numbers. A natural number greater than 1 that is not prime is called a composite number. By convention, 0 and 1 are not prime."
   ]
  },
  {
   "cell_type": "code",
   "execution_count": 26,
   "metadata": {},
   "outputs": [],
   "source": [
    "#METHOD 1\n",
    "def check_prime(num):\n",
    "#to check weather a number is prime or not\n",
    "\n",
    "    if num in [0,1]:\n",
    "        print(f'{num} IS A COMPOSITE NUMBER!')\n",
    "        return None\n",
    "\n",
    "    for x in range(2,num):\n",
    "        for y in range (2,num):\n",
    "            if x*y > num:  #For num as 7 and x as 2, computer will only perform check on 2*2 == 7, 2*3 == 7\n",
    "                break      #Since 2*(4,5,6) > 7, hence it won't waste time in checking 2*y == 7. It will break\n",
    "                           #out of loop and assign x as 3, This process will keep repeating    \n",
    "            if x*y == num:\n",
    "                print(f'{num}={x}*{y}, {num} IS A COMPOSITE NUMBER!')\n",
    "                return None\n",
    "            \n",
    "            else:\n",
    "                continue\n",
    "    print(f'{num} IS A PRIME NUMBER!')\n",
    "    return None"
   ]
  },
  {
   "cell_type": "code",
   "execution_count": 30,
   "metadata": {},
   "outputs": [],
   "source": [
    "#METHOD 2\n",
    "def check_prime(num):\n",
    "    if num in [1,0]:\n",
    "        print(f'{num} IS COMPOSITE A NUMBER')\n",
    "        return None\n",
    "        \n",
    "    for x in range(2,num):\n",
    "        if num%x == 0:\n",
    "            print(f'{num} IS COMPOSITE A NUMBER')\n",
    "            return None\n",
    "        else:\n",
    "            continue\n",
    "    print(f'{num} IS PRIME A NUMBER')\n",
    "    return None"
   ]
  },
  {
   "cell_type": "code",
   "execution_count": 31,
   "metadata": {},
   "outputs": [
    {
     "name": "stdout",
     "output_type": "stream",
     "text": [
      "63 IS COMPOSITE A NUMBER\n"
     ]
    }
   ],
   "source": [
    "check_prime(63)"
   ]
  },
  {
   "cell_type": "code",
   "execution_count": 32,
   "metadata": {
    "scrolled": true
   },
   "outputs": [
    {
     "name": "stdout",
     "output_type": "stream",
     "text": [
      "29 IS PRIME A NUMBER\n"
     ]
    }
   ],
   "source": [
    "check_prime(29)"
   ]
  },
  {
   "cell_type": "code",
   "execution_count": 33,
   "metadata": {
    "scrolled": true
   },
   "outputs": [
    {
     "name": "stdout",
     "output_type": "stream",
     "text": [
      "2 IS PRIME A NUMBER\n"
     ]
    }
   ],
   "source": [
    "check_prime(2)"
   ]
  },
  {
   "cell_type": "code",
   "execution_count": 34,
   "metadata": {},
   "outputs": [
    {
     "name": "stdout",
     "output_type": "stream",
     "text": [
      "1 IS COMPOSITE A NUMBER\n"
     ]
    }
   ],
   "source": [
    "check_prime(1)"
   ]
  },
  {
   "cell_type": "code",
   "execution_count": 35,
   "metadata": {
    "scrolled": true
   },
   "outputs": [
    {
     "name": "stdout",
     "output_type": "stream",
     "text": [
      "93 IS COMPOSITE A NUMBER\n"
     ]
    }
   ],
   "source": [
    "check_prime(93)"
   ]
  },
  {
   "cell_type": "markdown",
   "metadata": {},
   "source": [
    "### Function to show all the multiples of a given number "
   ]
  },
  {
   "cell_type": "code",
   "execution_count": 11,
   "metadata": {},
   "outputs": [],
   "source": [
    "def show_multiples(num):\n",
    "#to show all the multiples of num\n",
    "\n",
    "    for x in range(2,num):\n",
    "        for y in range (2,num):\n",
    "            if x*y > num:\n",
    "                break\n",
    "            if x*y == num:\n",
    "                print(f'{x}*{y}={num}')\n",
    "            else:\n",
    "                continue\n",
    "    return None"
   ]
  },
  {
   "cell_type": "code",
   "execution_count": 12,
   "metadata": {},
   "outputs": [
    {
     "name": "stdout",
     "output_type": "stream",
     "text": [
      "2*10=20\n",
      "4*5=20\n",
      "5*4=20\n",
      "10*2=20\n"
     ]
    }
   ],
   "source": [
    "show_multiples(20)"
   ]
  },
  {
   "cell_type": "code",
   "execution_count": 13,
   "metadata": {},
   "outputs": [
    {
     "name": "stdout",
     "output_type": "stream",
     "text": [
      "3*3=9\n"
     ]
    }
   ],
   "source": [
    "show_multiples(9)"
   ]
  },
  {
   "cell_type": "code",
   "execution_count": 14,
   "metadata": {},
   "outputs": [],
   "source": [
    "show_multiples(5)"
   ]
  },
  {
   "cell_type": "markdown",
   "metadata": {},
   "source": [
    "### Function that returns the number of prime numbers that exist up to and including a given number"
   ]
  },
  {
   "cell_type": "code",
   "execution_count": 17,
   "metadata": {},
   "outputs": [],
   "source": [
    "def check_prime2(num):\n",
    "    \n",
    "    if num in [0,1]:\n",
    "        return False\n",
    "\n",
    "    for x in range(2,num):\n",
    "        for y in range (2,num):\n",
    "            if x*y > num:\n",
    "                break\n",
    "            if x*y == num:\n",
    "                return False\n",
    "            else:\n",
    "                continue\n",
    "    return True"
   ]
  },
  {
   "cell_type": "code",
   "execution_count": 18,
   "metadata": {},
   "outputs": [],
   "source": [
    "def count_primes(num):\n",
    "    i = 0\n",
    "    for z in range(2,num+1):\n",
    "        if check_prime2(z) == True: #count_primes() calling check_prime2()\n",
    "            i += 1\n",
    "        else:\n",
    "            continue\n",
    "    return i"
   ]
  },
  {
   "cell_type": "code",
   "execution_count": 17,
   "metadata": {},
   "outputs": [
    {
     "data": {
      "text/plain": [
       "14"
      ]
     },
     "execution_count": 17,
     "metadata": {},
     "output_type": "execute_result"
    }
   ],
   "source": [
    "count_primes(45)"
   ]
  },
  {
   "cell_type": "code",
   "execution_count": 18,
   "metadata": {},
   "outputs": [
    {
     "data": {
      "text/plain": [
       "25"
      ]
     },
     "execution_count": 18,
     "metadata": {},
     "output_type": "execute_result"
    }
   ],
   "source": [
    "count_primes(100)"
   ]
  },
  {
   "cell_type": "code",
   "execution_count": 19,
   "metadata": {},
   "outputs": [
    {
     "data": {
      "text/plain": [
       "168"
      ]
     },
     "execution_count": 19,
     "metadata": {},
     "output_type": "execute_result"
    }
   ],
   "source": [
    "count_primes(1000)"
   ]
  },
  {
   "cell_type": "code",
   "execution_count": 19,
   "metadata": {},
   "outputs": [
    {
     "data": {
      "text/plain": [
       "1"
      ]
     },
     "execution_count": 19,
     "metadata": {},
     "output_type": "execute_result"
    }
   ],
   "source": [
    "count_primes(2)"
   ]
  },
  {
   "cell_type": "markdown",
   "metadata": {},
   "source": [
    "# Recursive Function"
   ]
  },
  {
   "cell_type": "markdown",
   "metadata": {},
   "source": [
    "### Function to convert Decimal to Binary\n",
    "Youtube:-  https://www.youtube.com/watch?v=RKAQsyPRk_w"
   ]
  },
  {
   "cell_type": "markdown",
   "metadata": {},
   "source": [
    "#### Example 1"
   ]
  },
  {
   "cell_type": "code",
   "execution_count": 2,
   "metadata": {},
   "outputs": [],
   "source": [
    "# METHOD 1: Without using recursion! Using a While loop\n",
    "\n",
    "def bin_2_dec(num):\n",
    "    \n",
    "    if type(num) in [str,float,list,dict,set,bool,tuple] or num < 0:\n",
    "        print('ONLY POSITIVE INTEGERS ALLOWED!')\n",
    "        return None\n",
    "    \n",
    "    val = num\n",
    "    binary = []\n",
    "    \n",
    "    while True:\n",
    "        remainder = int(val%2)\n",
    "        quotient = int((val-(val%2))/2)\n",
    "\n",
    "        binary.insert(0,str(remainder)) #TO INSERT EVERY ELEMENT IN REVERSE MANNER\n",
    "\n",
    "        if quotient != 0:\n",
    "            val = quotient\n",
    "\n",
    "        else:\n",
    "            print(' '.join(binary))\n",
    "            break\n",
    "            \n",
    "    return None"
   ]
  },
  {
   "cell_type": "code",
   "execution_count": 3,
   "metadata": {},
   "outputs": [
    {
     "name": "stdout",
     "output_type": "stream",
     "text": [
      "1 0 1 1 0 0\n"
     ]
    }
   ],
   "source": [
    "bin_2_dec(44)"
   ]
  },
  {
   "cell_type": "code",
   "execution_count": 4,
   "metadata": {},
   "outputs": [
    {
     "name": "stdout",
     "output_type": "stream",
     "text": [
      "0\n"
     ]
    }
   ],
   "source": [
    "bin_2_dec(0)"
   ]
  },
  {
   "cell_type": "code",
   "execution_count": 5,
   "metadata": {},
   "outputs": [
    {
     "name": "stdout",
     "output_type": "stream",
     "text": [
      "1\n"
     ]
    }
   ],
   "source": [
    "bin_2_dec(1)"
   ]
  },
  {
   "cell_type": "code",
   "execution_count": 6,
   "metadata": {},
   "outputs": [
    {
     "name": "stdout",
     "output_type": "stream",
     "text": [
      "ONLY POSITIVE INTEGERS ALLOWED!\n"
     ]
    }
   ],
   "source": [
    "bin_2_dec('two')"
   ]
  },
  {
   "cell_type": "code",
   "execution_count": 7,
   "metadata": {},
   "outputs": [
    {
     "name": "stdout",
     "output_type": "stream",
     "text": [
      "1 1 0 0 1 0 0\n"
     ]
    }
   ],
   "source": [
    "bin_2_dec(100)"
   ]
  },
  {
   "cell_type": "code",
   "execution_count": 8,
   "metadata": {},
   "outputs": [
    {
     "name": "stdout",
     "output_type": "stream",
     "text": [
      "1 0 1 1 0 0 0\n"
     ]
    }
   ],
   "source": [
    "bin_2_dec(88)"
   ]
  },
  {
   "cell_type": "code",
   "execution_count": 11,
   "metadata": {},
   "outputs": [],
   "source": [
    "# METHOD 2: using recursion! \n",
    "\n",
    "def bin_2_dec(num,binary = None):\n",
    "    \n",
    "    if type(num) in [str,float,list,dict,set,bool,tuple] or num < 0:\n",
    "        print('ONLY POSITIVE INTEGERS ALLOWED!')\n",
    "        return None\n",
    "    \n",
    "    if binary == None:\n",
    "        binary = []\n",
    "    \n",
    "    remainder = int(num%2)\n",
    "    quotient = int((num-(num%2))/2)\n",
    "    \n",
    "    binary.insert(0,str(remainder)) #TO INSERT EVERY ELEMENT IN REVERSE MANNER\n",
    "    \n",
    "    #RECURSION\n",
    "    if quotient != 0:\n",
    "        return bin_2_dec(quotient,binary) #FUNCTION CALLING ITSELF\n",
    "    \n",
    "    #ENDING RECURSION\n",
    "    if quotient == 0:\n",
    "        print(' '.join(binary))"
   ]
  },
  {
   "cell_type": "code",
   "execution_count": 12,
   "metadata": {},
   "outputs": [
    {
     "name": "stdout",
     "output_type": "stream",
     "text": [
      "1 0 1 1 0 0\n"
     ]
    }
   ],
   "source": [
    "bin_2_dec(44)"
   ]
  },
  {
   "cell_type": "code",
   "execution_count": 13,
   "metadata": {},
   "outputs": [
    {
     "name": "stdout",
     "output_type": "stream",
     "text": [
      "0\n"
     ]
    }
   ],
   "source": [
    "bin_2_dec(0)"
   ]
  },
  {
   "cell_type": "code",
   "execution_count": 14,
   "metadata": {},
   "outputs": [
    {
     "name": "stdout",
     "output_type": "stream",
     "text": [
      "1\n"
     ]
    }
   ],
   "source": [
    "bin_2_dec(1)"
   ]
  },
  {
   "cell_type": "code",
   "execution_count": 15,
   "metadata": {},
   "outputs": [
    {
     "name": "stdout",
     "output_type": "stream",
     "text": [
      "ONLY POSITIVE INTEGERS ALLOWED!\n"
     ]
    }
   ],
   "source": [
    "bin_2_dec('two')"
   ]
  },
  {
   "cell_type": "code",
   "execution_count": 16,
   "metadata": {
    "scrolled": true
   },
   "outputs": [
    {
     "name": "stdout",
     "output_type": "stream",
     "text": [
      "1 1 0 0 1 0 0\n"
     ]
    }
   ],
   "source": [
    "bin_2_dec(100)"
   ]
  },
  {
   "cell_type": "code",
   "execution_count": 17,
   "metadata": {
    "scrolled": true
   },
   "outputs": [
    {
     "name": "stdout",
     "output_type": "stream",
     "text": [
      "1 0 1 1 0 0 0\n"
     ]
    }
   ],
   "source": [
    "bin_2_dec(88)"
   ]
  },
  {
   "cell_type": "markdown",
   "metadata": {},
   "source": [
    "#### Example 2"
   ]
  },
  {
   "cell_type": "code",
   "execution_count": 26,
   "metadata": {},
   "outputs": [],
   "source": [
    "# Returning a factorial of a number without using recursion! Using While loop\n",
    "\n",
    "def fact(num):\n",
    "    \n",
    "    if num < 0:\n",
    "        print(f'Factorial of {num} is not defined')\n",
    "        return None\n",
    "    \n",
    "    if num == 0:\n",
    "            return 1\n",
    "    \n",
    "    val = num\n",
    "    product = 1\n",
    "    \n",
    "    while True:\n",
    "        product = product*val\n",
    "        val -= 1\n",
    "        if val == 0:\n",
    "            return product"
   ]
  },
  {
   "cell_type": "code",
   "execution_count": 27,
   "metadata": {},
   "outputs": [
    {
     "data": {
      "text/plain": [
       "120"
      ]
     },
     "execution_count": 27,
     "metadata": {},
     "output_type": "execute_result"
    }
   ],
   "source": [
    "fact(5)"
   ]
  },
  {
   "cell_type": "code",
   "execution_count": 28,
   "metadata": {},
   "outputs": [
    {
     "data": {
      "text/plain": [
       "1"
      ]
     },
     "execution_count": 28,
     "metadata": {},
     "output_type": "execute_result"
    }
   ],
   "source": [
    "fact(0)"
   ]
  },
  {
   "cell_type": "code",
   "execution_count": 29,
   "metadata": {},
   "outputs": [
    {
     "name": "stdout",
     "output_type": "stream",
     "text": [
      "Factorial of -15 is not defined\n"
     ]
    }
   ],
   "source": [
    "fact(-15)"
   ]
  },
  {
   "cell_type": "code",
   "execution_count": 17,
   "metadata": {},
   "outputs": [],
   "source": [
    "# Returning a factorial of a number using recursion!\n",
    "\n",
    "def fact(num):\n",
    "    \n",
    "    if num == 0:\n",
    "        return 1\n",
    "    \n",
    "    elif num > 0:\n",
    "        return num*fact(num-1)\n",
    "    \n",
    "    else:\n",
    "        print(f'Factorial of {num} is not defined')"
   ]
  },
  {
   "cell_type": "code",
   "execution_count": 18,
   "metadata": {},
   "outputs": [
    {
     "data": {
      "text/plain": [
       "120"
      ]
     },
     "execution_count": 18,
     "metadata": {},
     "output_type": "execute_result"
    }
   ],
   "source": [
    "fact(5)"
   ]
  },
  {
   "cell_type": "code",
   "execution_count": 19,
   "metadata": {},
   "outputs": [
    {
     "data": {
      "text/plain": [
       "1"
      ]
     },
     "execution_count": 19,
     "metadata": {},
     "output_type": "execute_result"
    }
   ],
   "source": [
    "fact(0)"
   ]
  },
  {
   "cell_type": "code",
   "execution_count": 20,
   "metadata": {},
   "outputs": [
    {
     "name": "stdout",
     "output_type": "stream",
     "text": [
      "Factorial of -15 is not defined\n"
     ]
    }
   ],
   "source": [
    "fact(-15)"
   ]
  },
  {
   "cell_type": "markdown",
   "metadata": {},
   "source": [
    "# Random functions"
   ]
  },
  {
   "cell_type": "markdown",
   "metadata": {},
   "source": [
    "### Function to extract data from dictionary"
   ]
  },
  {
   "cell_type": "code",
   "execution_count": 22,
   "metadata": {},
   "outputs": [],
   "source": [
    "my_dict = {'fish':30,'chicken':40,'mutton':80,'egg':7,'beef':75,'crab':55}"
   ]
  },
  {
   "cell_type": "code",
   "execution_count": 25,
   "metadata": {},
   "outputs": [
    {
     "name": "stdout",
     "output_type": "stream",
     "text": [
      "search item: beef\n",
      "\n",
      "per kg beef is for ₹75\n",
      "\n",
      "how much kg do you want? 0.5\n",
      "\n",
      "TOTAL = ₹37.5 + 5% GST\n",
      "NET TOTAL = ₹39.375\n"
     ]
    }
   ],
   "source": [
    "def price_evaluator(mass,item):\n",
    "    \n",
    "    #python will use LEGB rule here, since my_dict if not defined inside this enclosing function\n",
    "    total = mass*my_dict[item] + 0.05*mass*my_dict[item]\n",
    "    \n",
    "    print(f'\\nTOTAL = ₹{mass*my_dict[item]} + 5% GST\\nNET TOTAL = ₹{total}')\n",
    "\n",
    "##########################################################################################################################\n",
    "    \n",
    "def price(item):\n",
    "    \n",
    "    item = item.lower()\n",
    "    \n",
    "    #python will use LEGB rule here, since my_dict if not defined inside this enclosing function\n",
    "    if item in my_dict:\n",
    "        print(f'\\nper kg {item} is for ₹{my_dict[item]}')\n",
    "        \n",
    "        mass = float(input('\\nhow much kg do you want? '))\n",
    "        \n",
    "        price_evaluator(mass,item)\n",
    "        \n",
    "    else:\n",
    "        print(f'{item} is not available right now!')\n",
    "        \n",
    "##########################################################################################################################\n",
    "        \n",
    "price(input('search item: '))"
   ]
  },
  {
   "cell_type": "markdown",
   "metadata": {},
   "source": [
    "### Interaction between two dictionaries to display patterns"
   ]
  },
  {
   "cell_type": "code",
   "execution_count": 2,
   "metadata": {},
   "outputs": [],
   "source": [
    "def design(choice):\n",
    "    print('\\n')\n",
    "    pattern = {1:'    *', 2:'   * *', 3:'  *   *', 4:' *     *', 5:'*       *'}\n",
    "    choices = {'diamond':[1,2,3,4,5,4,3,2,1], 'axe':[5,4,3,2,1,2,3,4,5]}\n",
    "    \n",
    "    for num in choices[choice]:\n",
    "        print(pattern[num])\n",
    "        \n",
    "    return None"
   ]
  },
  {
   "cell_type": "code",
   "execution_count": 3,
   "metadata": {},
   "outputs": [],
   "source": [
    "def design_choice():\n",
    "    \n",
    "    choice = 'wrong'\n",
    "    \n",
    "    while True:\n",
    "        \n",
    "        choice = input(\"♢:-type 'diamond'\\nX:- type 'axe'\\n\").lower()\n",
    "        \n",
    "        if choice not in ['diamond','axe']:\n",
    "            print('<invalid input>')\n",
    "            \n",
    "        else:\n",
    "            break\n",
    "    \n",
    "    design(choice)\n",
    "    return None"
   ]
  },
  {
   "cell_type": "code",
   "execution_count": 27,
   "metadata": {
    "scrolled": true
   },
   "outputs": [
    {
     "name": "stdout",
     "output_type": "stream",
     "text": [
      "♢:-type 'diamond'\n",
      "X:- type 'axe'\n",
      "diamond\n",
      "\n",
      "\n",
      "    *\n",
      "   * *\n",
      "  *   *\n",
      " *     *\n",
      "*       *\n",
      " *     *\n",
      "  *   *\n",
      "   * *\n",
      "    *\n"
     ]
    }
   ],
   "source": [
    "design_choice()"
   ]
  },
  {
   "cell_type": "code",
   "execution_count": 4,
   "metadata": {
    "scrolled": true
   },
   "outputs": [
    {
     "name": "stdout",
     "output_type": "stream",
     "text": [
      "♢:-type 'diamond'\n",
      "X:- type 'axe'\n",
      "axe\n",
      "\n",
      "\n",
      "*       *\n",
      " *     *\n",
      "  *   *\n",
      "   * *\n",
      "    *\n",
      "   * *\n",
      "  *   *\n",
      " *     *\n",
      "*       *\n"
     ]
    }
   ],
   "source": [
    "design_choice()"
   ]
  },
  {
   "cell_type": "markdown",
   "metadata": {},
   "source": [
    "### Prime numbers generator"
   ]
  },
  {
   "cell_type": "code",
   "execution_count": 9,
   "metadata": {},
   "outputs": [],
   "source": [
    "def check_prime(num):\n",
    "    \n",
    "    for x in range(2,num):\n",
    "        if num%x == 0:\n",
    "            return False\n",
    "        else:\n",
    "            continue\n",
    "    return True"
   ]
  },
  {
   "cell_type": "code",
   "execution_count": 12,
   "metadata": {
    "scrolled": true
   },
   "outputs": [],
   "source": [
    "def primes_gen(up_lim,low_lim=2):\n",
    "    \n",
    "    for num in range(low_lim,up_lim+1):\n",
    "        if check_prime(num) == True:\n",
    "            print(num)\n",
    "            \n",
    "        else:\n",
    "            continue"
   ]
  },
  {
   "cell_type": "code",
   "execution_count": 13,
   "metadata": {
    "scrolled": true
   },
   "outputs": [
    {
     "name": "stdout",
     "output_type": "stream",
     "text": [
      "2\n",
      "3\n",
      "5\n",
      "7\n",
      "11\n",
      "13\n",
      "17\n",
      "19\n",
      "23\n",
      "29\n",
      "31\n",
      "37\n",
      "41\n",
      "43\n",
      "47\n",
      "53\n",
      "59\n",
      "61\n",
      "67\n",
      "71\n",
      "73\n",
      "79\n",
      "83\n",
      "89\n",
      "97\n"
     ]
    }
   ],
   "source": [
    "primes_gen(100)"
   ]
  },
  {
   "cell_type": "code",
   "execution_count": 14,
   "metadata": {},
   "outputs": [
    {
     "name": "stdout",
     "output_type": "stream",
     "text": [
      "211\n",
      "223\n",
      "227\n",
      "229\n",
      "233\n",
      "239\n",
      "241\n",
      "251\n",
      "257\n",
      "263\n",
      "269\n",
      "271\n",
      "277\n",
      "281\n",
      "283\n",
      "293\n"
     ]
    }
   ],
   "source": [
    "primes_gen(300,200)"
   ]
  },
  {
   "cell_type": "code",
   "execution_count": null,
   "metadata": {},
   "outputs": [],
   "source": []
  }
 ],
 "metadata": {
  "kernelspec": {
   "display_name": "Python 3",
   "language": "python",
   "name": "python3"
  },
  "language_info": {
   "codemirror_mode": {
    "name": "ipython",
    "version": 3
   },
   "file_extension": ".py",
   "mimetype": "text/x-python",
   "name": "python",
   "nbconvert_exporter": "python",
   "pygments_lexer": "ipython3",
   "version": "3.7.1"
  }
 },
 "nbformat": 4,
 "nbformat_minor": 4
}
