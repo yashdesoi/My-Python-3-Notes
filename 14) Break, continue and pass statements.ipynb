{
 "cells": [
  {
   "cell_type": "markdown",
   "metadata": {},
   "source": [
    "break: Breaks out of the current closest enclosing loop.\n",
    "\n",
    "continue: Goes to the top of the closest enclosing loop.\n",
    "\n",
    "pass: Does nothing at all."
   ]
  },
  {
   "cell_type": "markdown",
   "metadata": {},
   "source": [
    "# Example of pass"
   ]
  },
  {
   "cell_type": "markdown",
   "metadata": {},
   "source": [
    "### Example 1"
   ]
  },
  {
   "cell_type": "code",
   "execution_count": 3,
   "metadata": {},
   "outputs": [],
   "source": [
    "mylist = [1, 2, 3, 4, 5, 6, 7, 8]"
   ]
  },
  {
   "cell_type": "code",
   "execution_count": 5,
   "metadata": {},
   "outputs": [
    {
     "ename": "SyntaxError",
     "evalue": "unexpected EOF while parsing (<ipython-input-5-86525e23fd06>, line 3)",
     "output_type": "error",
     "traceback": [
      "\u001b[1;36m  File \u001b[1;32m\"<ipython-input-5-86525e23fd06>\"\u001b[1;36m, line \u001b[1;32m3\u001b[0m\n\u001b[1;33m    \u001b[0m\n\u001b[1;37m    ^\u001b[0m\n\u001b[1;31mSyntaxError\u001b[0m\u001b[1;31m:\u001b[0m unexpected EOF while parsing\n"
     ]
    }
   ],
   "source": [
    "#if we don't have anything to execute inside loop, it will give error\n",
    "for i in mylist:\n",
    "    "
   ]
  },
  {
   "cell_type": "code",
   "execution_count": 1,
   "metadata": {},
   "outputs": [
    {
     "ename": "SyntaxError",
     "evalue": "unexpected EOF while parsing (<ipython-input-1-c7f534887078>, line 2)",
     "output_type": "error",
     "traceback": [
      "\u001b[1;36m  File \u001b[1;32m\"<ipython-input-1-c7f534887078>\"\u001b[1;36m, line \u001b[1;32m2\u001b[0m\n\u001b[1;33m    \u001b[0m\n\u001b[1;37m    ^\u001b[0m\n\u001b[1;31mSyntaxError\u001b[0m\u001b[1;31m:\u001b[0m unexpected EOF while parsing\n"
     ]
    }
   ],
   "source": [
    "# Same with any code which has indentation below it\n",
    "if True:\n",
    "    "
   ]
  },
  {
   "cell_type": "code",
   "execution_count": 2,
   "metadata": {},
   "outputs": [
    {
     "ename": "SyntaxError",
     "evalue": "unexpected EOF while parsing (<ipython-input-2-5fd5a61c0a79>, line 2)",
     "output_type": "error",
     "traceback": [
      "\u001b[1;36m  File \u001b[1;32m\"<ipython-input-2-5fd5a61c0a79>\"\u001b[1;36m, line \u001b[1;32m2\u001b[0m\n\u001b[1;33m    \u001b[0m\n\u001b[1;37m    ^\u001b[0m\n\u001b[1;31mSyntaxError\u001b[0m\u001b[1;31m:\u001b[0m unexpected EOF while parsing\n"
     ]
    }
   ],
   "source": [
    "def foo():\n",
    "    "
   ]
  },
  {
   "cell_type": "code",
   "execution_count": 6,
   "metadata": {},
   "outputs": [],
   "source": [
    "for i in mylist:\n",
    "    pass"
   ]
  },
  {
   "cell_type": "code",
   "execution_count": 3,
   "metadata": {},
   "outputs": [],
   "source": [
    "if True:\n",
    "    pass"
   ]
  },
  {
   "cell_type": "code",
   "execution_count": 4,
   "metadata": {},
   "outputs": [],
   "source": [
    "def foo():\n",
    "    pass"
   ]
  },
  {
   "cell_type": "markdown",
   "metadata": {},
   "source": [
    "### Example 2"
   ]
  },
  {
   "cell_type": "code",
   "execution_count": 4,
   "metadata": {},
   "outputs": [],
   "source": [
    "#another example of pass\n",
    "\n",
    "for i in mylist:\n",
    "    if i == 9:\n",
    "        print('9 is there in this list')"
   ]
  },
  {
   "cell_type": "code",
   "execution_count": 6,
   "metadata": {},
   "outputs": [],
   "source": [
    "#For code to make more read-able, we will also add pass. Pass will add nothing extra to the code, but the code will make\n",
    "#more sense\n",
    "\n",
    "for i in mylist:\n",
    "    if i == 9:\n",
    "        print('9 is there in this list')\n",
    "    else:\n",
    "        pass"
   ]
  },
  {
   "cell_type": "markdown",
   "metadata": {},
   "source": [
    "### Example 3"
   ]
  },
  {
   "cell_type": "code",
   "execution_count": 2,
   "metadata": {},
   "outputs": [],
   "source": [
    "# pass in control flow\n",
    "if 5 == 5:\n",
    "    pass\n",
    "else:\n",
    "    print('z')"
   ]
  },
  {
   "cell_type": "code",
   "execution_count": 3,
   "metadata": {},
   "outputs": [
    {
     "name": "stdout",
     "output_type": "stream",
     "text": [
      "z\n"
     ]
    }
   ],
   "source": [
    "if 6 == 5:\n",
    "    pass\n",
    "else:\n",
    "    print('z')"
   ]
  },
  {
   "cell_type": "markdown",
   "metadata": {},
   "source": [
    "# Example of continue"
   ]
  },
  {
   "cell_type": "markdown",
   "metadata": {},
   "source": [
    "### Example 1"
   ]
  },
  {
   "cell_type": "code",
   "execution_count": 7,
   "metadata": {},
   "outputs": [
    {
     "name": "stdout",
     "output_type": "stream",
     "text": [
      "m\n",
      "i\n",
      "i\n",
      "i\n",
      "p\n",
      "p\n",
      "i\n"
     ]
    }
   ],
   "source": [
    "#continue in for loop\n",
    "for i in 'mississippi':\n",
    "    if i == 's':\n",
    "        continue\n",
    "    print(i)"
   ]
  },
  {
   "cell_type": "markdown",
   "metadata": {},
   "source": [
    "### Example 2"
   ]
  },
  {
   "cell_type": "code",
   "execution_count": 13,
   "metadata": {},
   "outputs": [
    {
     "name": "stdout",
     "output_type": "stream",
     "text": [
      "0\n",
      "1\n",
      "2\n",
      "4\n"
     ]
    }
   ],
   "source": [
    "# continue in while loop\n",
    "x = 0\n",
    "while x < 5:\n",
    "    if x == 3:\n",
    "        x += 1\n",
    "        continue\n",
    "    print(x)\n",
    "    x += 1"
   ]
  },
  {
   "cell_type": "markdown",
   "metadata": {},
   "source": [
    "### Example 3"
   ]
  },
  {
   "cell_type": "code",
   "execution_count": 10,
   "metadata": {},
   "outputs": [
    {
     "name": "stdout",
     "output_type": "stream",
     "text": [
      "Jack\n",
      "Mercie\n",
      "Paul\n",
      "\n",
      "Jack\n",
      "Mercie\n",
      "Paul\n",
      "\n",
      "Jack\n",
      "Mercie\n",
      "Paul\n",
      "\n",
      "Jack\n",
      "Mercie\n",
      "Paul\n",
      "\n",
      "Jack\n",
      "Mercie\n",
      "Paul\n",
      "\n",
      "x=5\n"
     ]
    }
   ],
   "source": [
    "#if continue is executed, control will go to the closest enclosing loop without executing statements below it\n",
    "#Here's an example without continue\n",
    "\n",
    "x=0\n",
    "\n",
    "while x<5:\n",
    "    print('Jack')\n",
    "    print('Mercie')\n",
    "    x+=1\n",
    "    print('Paul\\n')\n",
    "print(f'x={x}')"
   ]
  },
  {
   "cell_type": "code",
   "execution_count": 11,
   "metadata": {
    "scrolled": true
   },
   "outputs": [
    {
     "name": "stdout",
     "output_type": "stream",
     "text": [
      "Jack\n",
      "Mercie\n",
      "Jack\n",
      "Mercie\n",
      "Jack\n",
      "Mercie\n",
      "Jack\n",
      "Mercie\n",
      "Jack\n",
      "Mercie\n",
      "x=5\n"
     ]
    }
   ],
   "source": [
    "x=0\n",
    "\n",
    "while x<5:\n",
    "    print('Jack')\n",
    "    print('Mercie')\n",
    "    x+=1\n",
    "    continue\n",
    "    print('Paul\\n')\n",
    "print(f'x={x}')"
   ]
  },
  {
   "cell_type": "markdown",
   "metadata": {},
   "source": [
    "### Example 4"
   ]
  },
  {
   "cell_type": "code",
   "execution_count": 2,
   "metadata": {},
   "outputs": [
    {
     "name": "stdout",
     "output_type": "stream",
     "text": [
      "2-->2\n",
      "3-->3\n",
      "2-->4\n",
      "2-->6\n",
      "3-->6\n",
      "2-->8\n",
      "3-->9\n",
      "2-->10\n"
     ]
    }
   ],
   "source": [
    "for i in range(1,11):\n",
    "    \n",
    "    if i%2 == 0:\n",
    "        print(f'2-->{i}')\n",
    "        \n",
    "    if i%3 == 0:\n",
    "        print(f'3-->{i}')"
   ]
  },
  {
   "cell_type": "code",
   "execution_count": 3,
   "metadata": {},
   "outputs": [
    {
     "name": "stdout",
     "output_type": "stream",
     "text": [
      "2-->2\n",
      "2-->4\n",
      "2-->6\n",
      "3-->6\n",
      "2-->8\n",
      "2-->10\n"
     ]
    }
   ],
   "source": [
    "for i in range(1,11):\n",
    "    \n",
    "    if i%2 == 0:\n",
    "        print(f'2-->{i}')\n",
    "    else:\n",
    "        continue\n",
    "        \n",
    "    if i%3 == 0:\n",
    "        print(f'3-->{i}')"
   ]
  },
  {
   "cell_type": "code",
   "execution_count": 4,
   "metadata": {
    "scrolled": true
   },
   "outputs": [
    {
     "name": "stdout",
     "output_type": "stream",
     "text": [
      "2-->2\n",
      "3-->3\n",
      "2-->4\n",
      "2-->6\n",
      "3-->6\n",
      "2-->8\n",
      "3-->9\n",
      "2-->10\n"
     ]
    }
   ],
   "source": [
    "for i in range(1,11):\n",
    "    \n",
    "    if i%2 == 0:\n",
    "        print(f'2-->{i}')\n",
    "        \n",
    "    if i%3 == 0:\n",
    "        print(f'3-->{i}')\n",
    "    else:\n",
    "        continue"
   ]
  },
  {
   "cell_type": "markdown",
   "metadata": {},
   "source": [
    "### Example 5"
   ]
  },
  {
   "cell_type": "code",
   "execution_count": 4,
   "metadata": {},
   "outputs": [
    {
     "name": "stdout",
     "output_type": "stream",
     "text": [
      "5 --> 5\n",
      "5 --> 10\n",
      "5 --> 15\n",
      "15 --> 15\n",
      "5 --> 20\n",
      "5 --> 25\n",
      "5 --> 30\n",
      "15 --> 30\n"
     ]
    }
   ],
   "source": [
    "# Without continue\n",
    "for num in range(1,31):\n",
    "    if num%5 == 0:\n",
    "        print(5,'-->',num)\n",
    "        \n",
    "    if num%15 == 0:\n",
    "        print(15,'-->',num)"
   ]
  },
  {
   "cell_type": "code",
   "execution_count": 5,
   "metadata": {},
   "outputs": [
    {
     "name": "stdout",
     "output_type": "stream",
     "text": [
      "5 --> 5\n",
      "5 --> 10\n",
      "5 --> 15\n",
      "5 --> 20\n",
      "5 --> 25\n",
      "5 --> 30\n"
     ]
    }
   ],
   "source": [
    "# With continue\n",
    "for num in range(1,31):\n",
    "    if num%5 == 0:\n",
    "        print(5,'-->',num)\n",
    "        continue\n",
    "        \n",
    "    if num%15 == 0:\n",
    "        print(15,'-->',num)"
   ]
  },
  {
   "cell_type": "markdown",
   "metadata": {},
   "source": [
    "# Example of break"
   ]
  },
  {
   "cell_type": "markdown",
   "metadata": {},
   "source": [
    "### Example 1"
   ]
  },
  {
   "cell_type": "code",
   "execution_count": 2,
   "metadata": {},
   "outputs": [
    {
     "name": "stdout",
     "output_type": "stream",
     "text": [
      "m\n",
      "i\n",
      "s\n",
      "s\n",
      "i\n",
      "s\n",
      "s\n",
      "i\n"
     ]
    }
   ],
   "source": [
    "# break in for loop\n",
    "for i in 'mississippi':\n",
    "    if i == 'p':\n",
    "        break\n",
    "    print(i)"
   ]
  },
  {
   "cell_type": "markdown",
   "metadata": {},
   "source": [
    "### Example 2"
   ]
  },
  {
   "cell_type": "code",
   "execution_count": 15,
   "metadata": {},
   "outputs": [
    {
     "name": "stdout",
     "output_type": "stream",
     "text": [
      "0\n",
      "1\n",
      "2\n"
     ]
    }
   ],
   "source": [
    "# break in while loop\n",
    "x = 0\n",
    "while x < 5:\n",
    "    if x == 3:\n",
    "        break\n",
    "    print(x)\n",
    "    x += 1"
   ]
  },
  {
   "cell_type": "markdown",
   "metadata": {},
   "source": [
    "### Example 3"
   ]
  },
  {
   "cell_type": "code",
   "execution_count": 1,
   "metadata": {},
   "outputs": [
    {
     "name": "stdout",
     "output_type": "stream",
     "text": [
      "1\n",
      "2\n",
      "BREAK\n",
      "1\n",
      "2\n",
      "BREAK\n",
      "1\n",
      "2\n",
      "BREAK\n",
      "1\n",
      "2\n",
      "BREAK\n",
      "1\n",
      "2\n",
      "BREAK\n"
     ]
    }
   ],
   "source": [
    "#CONTROL FOLW OF BREAK\n",
    "for x in [1,2,3,4,5]:\n",
    "    for y in [1,2,3,4,5]:\n",
    "        if y == 3:\n",
    "            break\n",
    "        else:\n",
    "            print(y)\n",
    "    print('BREAK')"
   ]
  },
  {
   "cell_type": "code",
   "execution_count": null,
   "metadata": {},
   "outputs": [],
   "source": []
  }
 ],
 "metadata": {
  "kernelspec": {
   "display_name": "Python 3",
   "language": "python",
   "name": "python3"
  },
  "language_info": {
   "codemirror_mode": {
    "name": "ipython",
    "version": 3
   },
   "file_extension": ".py",
   "mimetype": "text/x-python",
   "name": "python",
   "nbconvert_exporter": "python",
   "pygments_lexer": "ipython3",
   "version": "3.7.1"
  }
 },
 "nbformat": 4,
 "nbformat_minor": 4
}
