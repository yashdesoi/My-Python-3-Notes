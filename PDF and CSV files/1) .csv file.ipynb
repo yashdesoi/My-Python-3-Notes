{
 "cells": [
  {
   "cell_type": "markdown",
   "metadata": {},
   "source": [
    "# CSV --> Comma-separated values\n",
    "https://docs.python.org/3/library/csv.html\n",
    "\n",
    "Python Tutorial: CSV Module - How to Read, Parse, and Write CSV Files:- https://youtu.be/q5uM4VKywbA"
   ]
  },
  {
   "cell_type": "code",
   "execution_count": 15,
   "metadata": {},
   "outputs": [
    {
     "data": {
      "text/plain": [
       "'C:\\\\Users\\\\YasH\\\\PDF and CSV files'"
      ]
     },
     "execution_count": 15,
     "metadata": {},
     "output_type": "execute_result"
    }
   ],
   "source": [
    "pwd"
   ]
  },
  {
   "cell_type": "code",
   "execution_count": 44,
   "metadata": {},
   "outputs": [],
   "source": [
    "import csv"
   ]
  },
  {
   "cell_type": "markdown",
   "metadata": {},
   "source": [
    "## Writing .csv files\n",
    "#### This will create a new .csv file"
   ]
  },
  {
   "cell_type": "code",
   "execution_count": 16,
   "metadata": {},
   "outputs": [],
   "source": [
    "# Creating a new file object\n",
    "f = open('Sample.csv', mode='w', newline='')"
   ]
  },
  {
   "cell_type": "code",
   "execution_count": 17,
   "metadata": {},
   "outputs": [
    {
     "data": {
      "text/plain": [
       "<_io.TextIOWrapper name='Sample.csv' mode='w' encoding='cp1252'>"
      ]
     },
     "execution_count": 17,
     "metadata": {},
     "output_type": "execute_result"
    }
   ],
   "source": [
    "f"
   ]
  },
  {
   "cell_type": "code",
   "execution_count": 19,
   "metadata": {},
   "outputs": [],
   "source": [
    "# Creating a writer object on the given file-like object\n",
    "csv_writer = csv.writer(f, delimiter=',')"
   ]
  },
  {
   "cell_type": "code",
   "execution_count": 20,
   "metadata": {},
   "outputs": [
    {
     "data": {
      "text/plain": [
       "<_csv.writer at 0x1ed30222780>"
      ]
     },
     "execution_count": 20,
     "metadata": {},
     "output_type": "execute_result"
    }
   ],
   "source": [
    "csv_writer"
   ]
  },
  {
   "cell_type": "code",
   "execution_count": 19,
   "metadata": {},
   "outputs": [
    {
     "data": {
      "text/plain": [
       "46"
      ]
     },
     "execution_count": 19,
     "metadata": {},
     "output_type": "execute_result"
    }
   ],
   "source": [
    "# Writing a single row using one of the methods of writer object\n",
    "# Since this is our first row, hence lets make it our heading row\n",
    "csv_writer.writerow(['S no','First name','Last name','Email id','Mobile no'])"
   ]
  },
  {
   "cell_type": "code",
   "execution_count": 20,
   "metadata": {},
   "outputs": [],
   "source": [
    "# Writing multiple rows\n",
    "csv_writer.writerows([['1','Yash','Desai','yashdesai450@gmail.com','9322234873'],['2','Ganesh','Desai','gsdesoi@hotmail.com','9833375586']])"
   ]
  },
  {
   "cell_type": "code",
   "execution_count": 21,
   "metadata": {},
   "outputs": [],
   "source": [
    "f.close()"
   ]
  },
  {
   "cell_type": "markdown",
   "metadata": {},
   "source": [
    "## Appending to .csv files\n",
    "#### This will append to an existing .csv file"
   ]
  },
  {
   "cell_type": "code",
   "execution_count": 33,
   "metadata": {},
   "outputs": [],
   "source": [
    "f = open('Sample.csv', mode='a', newline='')"
   ]
  },
  {
   "cell_type": "code",
   "execution_count": 34,
   "metadata": {
    "scrolled": true
   },
   "outputs": [],
   "source": [
    "csv_writer = csv.writer(f)\n",
    "# By default delimiter is ',' itself"
   ]
  },
  {
   "cell_type": "code",
   "execution_count": 24,
   "metadata": {
    "scrolled": false
   },
   "outputs": [
    {
     "data": {
      "text/plain": [
       "55"
      ]
     },
     "execution_count": 24,
     "metadata": {},
     "output_type": "execute_result"
    }
   ],
   "source": [
    "csv_writer.writerow(['3','Shalini','Desai','shalinidesoi1967@gmail.com','8879369174'])"
   ]
  },
  {
   "cell_type": "code",
   "execution_count": 31,
   "metadata": {
    "scrolled": true
   },
   "outputs": [
    {
     "data": {
      "text/plain": [
       "46"
      ]
     },
     "execution_count": 31,
     "metadata": {},
     "output_type": "execute_result"
    }
   ],
   "source": [
    "csv_writer.writerow(['4','Himani','Desai','hdesoi18@gmail.com','8104789588'])"
   ]
  },
  {
   "cell_type": "code",
   "execution_count": 36,
   "metadata": {},
   "outputs": [],
   "source": [
    "f.close()"
   ]
  },
  {
   "cell_type": "markdown",
   "metadata": {},
   "source": [
    "## Reading to .csv files\n",
    "#### This will read the contents of an existing .csv file"
   ]
  },
  {
   "cell_type": "code",
   "execution_count": 22,
   "metadata": {},
   "outputs": [],
   "source": [
    "f = open('Sample.csv', mode='r', encoding='utf-8')"
   ]
  },
  {
   "cell_type": "code",
   "execution_count": 23,
   "metadata": {},
   "outputs": [
    {
     "data": {
      "text/plain": [
       "<_io.TextIOWrapper name='Sample.csv' mode='r' encoding='utf-8'>"
      ]
     },
     "execution_count": 23,
     "metadata": {},
     "output_type": "execute_result"
    }
   ],
   "source": [
    "f"
   ]
  },
  {
   "cell_type": "code",
   "execution_count": 24,
   "metadata": {
    "scrolled": false
   },
   "outputs": [],
   "source": [
    "csv_reader = csv.reader(f)"
   ]
  },
  {
   "cell_type": "code",
   "execution_count": 25,
   "metadata": {},
   "outputs": [
    {
     "data": {
      "text/plain": [
       "<_csv.reader at 0x1ed3024a118>"
      ]
     },
     "execution_count": 25,
     "metadata": {},
     "output_type": "execute_result"
    }
   ],
   "source": [
    "csv_reader"
   ]
  },
  {
   "cell_type": "code",
   "execution_count": 7,
   "metadata": {},
   "outputs": [],
   "source": [
    "# csv_reader is an iterator which is exhaustive in nature, hence its\n",
    "# better to store them in list\n",
    "data = list(csv_reader)"
   ]
  },
  {
   "cell_type": "code",
   "execution_count": 8,
   "metadata": {
    "scrolled": true
   },
   "outputs": [
    {
     "data": {
      "text/plain": [
       "[['S no', 'First name', 'Last name', 'Email id', 'Mobile no'],\n",
       " ['1', 'Yash', 'Desai', 'yashdesai450@gmail.com', '9322234873'],\n",
       " ['2', 'Ganesh', 'Desai', 'gsdesoi@hotmail.com', '9833375586'],\n",
       " ['3', 'Shalini', 'Desai', 'shalinidesoi1967@gmail.com', '8879369174'],\n",
       " ['4', 'Himani', 'Desai', 'hdesoi18@gmail.com', '8104789588']]"
      ]
     },
     "execution_count": 8,
     "metadata": {},
     "output_type": "execute_result"
    }
   ],
   "source": [
    "data"
   ]
  },
  {
   "cell_type": "code",
   "execution_count": 26,
   "metadata": {},
   "outputs": [
    {
     "data": {
      "text/plain": [
       "['3', 'Shalini', 'Desai', 'shalinidesoi1967@gmail.com', '8879369174']"
      ]
     },
     "execution_count": 26,
     "metadata": {},
     "output_type": "execute_result"
    }
   ],
   "source": [
    "# Accessing a single row\n",
    "\n",
    "data[3]"
   ]
  },
  {
   "cell_type": "code",
   "execution_count": 31,
   "metadata": {},
   "outputs": [
    {
     "name": "stdout",
     "output_type": "stream",
     "text": [
      "Emails-->\n",
      "yashdesai450@gmail.com\n",
      "gsdesoi@hotmail.com\n",
      "shalinidesoi1967@gmail.com\n",
      "hdesoi18@gmail.com\n"
     ]
    }
   ],
   "source": [
    "# Accesing a single column\n",
    "\n",
    "print('Emails-->')\n",
    "for row in data[1:]:\n",
    "    print(row[3])"
   ]
  },
  {
   "cell_type": "code",
   "execution_count": 32,
   "metadata": {},
   "outputs": [
    {
     "name": "stdout",
     "output_type": "stream",
     "text": [
      "Yash Desai\n"
     ]
    }
   ],
   "source": [
    "# Printing full name of a person with a certain email address\n",
    "\n",
    "for i,row in enumerate(data):\n",
    "    if row[3] == 'yashdesai450@gmail.com':\n",
    "        index = i\n",
    "        \n",
    "print(data[index][1] + ' ' + data[index][2])"
   ]
  },
  {
   "cell_type": "code",
   "execution_count": 33,
   "metadata": {},
   "outputs": [
    {
     "data": {
      "text/plain": [
       "4"
      ]
     },
     "execution_count": 33,
     "metadata": {},
     "output_type": "execute_result"
    }
   ],
   "source": [
    "# Total members\n",
    "\n",
    "len(data) - 1"
   ]
  },
  {
   "cell_type": "code",
   "execution_count": 34,
   "metadata": {},
   "outputs": [],
   "source": [
    "f.close()"
   ]
  },
  {
   "cell_type": "markdown",
   "metadata": {},
   "source": [
    "## Using iterator directly"
   ]
  },
  {
   "cell_type": "code",
   "execution_count": 52,
   "metadata": {},
   "outputs": [],
   "source": [
    "# Here we have took delimiter as tab\n",
    "\n",
    "with open('Sample.csv', mode='w', encoding='utf-8', newline='') as f:\n",
    "    csv_writer = csv.writer(f, delimiter='\\t')\n",
    "    \n",
    "    csv_writer.writerow(['X','Y','Z'])\n",
    "    csv_writer.writerows([['1','2','3'],['4','5','6'],['7','8','9']])"
   ]
  },
  {
   "cell_type": "code",
   "execution_count": 53,
   "metadata": {},
   "outputs": [
    {
     "name": "stdout",
     "output_type": "stream",
     "text": [
      "['X', 'Y', 'Z']\n",
      "['1', '2', '3']\n",
      "['4', '5', '6']\n",
      "['7', '8', '9']\n"
     ]
    }
   ],
   "source": [
    "with open('Sample.csv', mode='r', encoding='utf-8', newline='') as f:\n",
    "    csv_reader = csv.reader(f, delimiter='\\t')\n",
    "    \n",
    "    for row in csv_reader:\n",
    "        print(row)"
   ]
  },
  {
   "cell_type": "code",
   "execution_count": 44,
   "metadata": {},
   "outputs": [
    {
     "name": "stdout",
     "output_type": "stream",
     "text": [
      "['X', 'Y', 'Z']\n",
      "['1', '2', '3']\n",
      "['4', '5', '6']\n",
      "['7', '8', '9']\n"
     ]
    }
   ],
   "source": [
    "# Iterator being exhaustive!\n",
    "\n",
    "with open('Sample.csv', mode='r', encoding='utf-8', newline='') as f:\n",
    "    csv_reader = csv.reader(f, delimiter='\\t')\n",
    "    \n",
    "    for row in csv_reader:\n",
    "        print(row)\n",
    "    \n",
    "    for row in csv_reader:\n",
    "        print(row)\n",
    "        \n",
    "# Won't print rows second time"
   ]
  },
  {
   "cell_type": "code",
   "execution_count": 56,
   "metadata": {},
   "outputs": [
    {
     "name": "stdout",
     "output_type": "stream",
     "text": [
      "['1', '2', '3']\n",
      "['4', '5', '6']\n",
      "['7', '8', '9']\n"
     ]
    }
   ],
   "source": [
    "# To skip the first row we can use next() function we learned in generators section\n",
    "# like how we did list slicing data[1:] to skip the first row in previous example\n",
    "\n",
    "with open('Sample.csv', mode='r', encoding='utf-8', newline='') as f:\n",
    "    csv_reader = csv.reader(f, delimiter='\\t')\n",
    "    next(csv_reader)\n",
    "    \n",
    "    for row in csv_reader:\n",
    "        print(row)"
   ]
  },
  {
   "cell_type": "code",
   "execution_count": 55,
   "metadata": {},
   "outputs": [
    {
     "name": "stdout",
     "output_type": "stream",
     "text": [
      "['X', 'Y', 'Z']\n",
      "['1', '2', '3']\n",
      "['4', '5', '6']\n",
      "['7', '8', '9']\n"
     ]
    }
   ],
   "source": [
    "# We can also use csv.reader() direclty, but now we cannot skip that first row\n",
    "\n",
    "with open('Sample.csv', mode='r', encoding='utf-8', newline='') as f:\n",
    "\n",
    "    for row in csv.reader(f, delimiter='\\t'):\n",
    "        print(row)"
   ]
  },
  {
   "cell_type": "markdown",
   "metadata": {},
   "source": [
    "Since iterators(csv_reader) are exhaustive. Exhaustive means that pointer in .csv file has reached to an end, like what we have seen with .txt files. Hence we also have to bring it back at the first iteration by using file object method <code>f.seek(0)</code>"
   ]
  },
  {
   "cell_type": "code",
   "execution_count": 45,
   "metadata": {},
   "outputs": [
    {
     "name": "stdout",
     "output_type": "stream",
     "text": [
      "['X', 'Y', 'Z']\n",
      "['1', '2', '3']\n",
      "['4', '5', '6']\n",
      "['7', '8', '9']\n",
      "['X', 'Y', 'Z']\n",
      "['1', '2', '3']\n",
      "['4', '5', '6']\n",
      "['7', '8', '9']\n"
     ]
    }
   ],
   "source": [
    "# Here, now it works\n",
    "\n",
    "with open('Sample.csv', mode='r', encoding='utf-8', newline='') as f:\n",
    "    csv_reader = csv.reader(f, delimiter='\\t')\n",
    "    \n",
    "    for row in csv_reader:\n",
    "        print(row)\n",
    "    \n",
    "    f.seek(0)\n",
    "    for row in csv_reader:\n",
    "        print(row)"
   ]
  },
  {
   "cell_type": "code",
   "execution_count": 65,
   "metadata": {},
   "outputs": [
    {
     "name": "stdout",
     "output_type": "stream",
     "text": [
      "['X', 'Y', 'Z']\n",
      "['1', '2', '3']\n",
      "['4', '5', '6']\n",
      "['7', '8', '9']\n"
     ]
    }
   ],
   "source": [
    "# We can even try re-initializing the iterator without using f.seek(0), it still won't work\n",
    "\n",
    "with open('Sample.csv', mode='r', encoding='utf-8', newline='') as f:\n",
    "    csv_reader = csv.reader(f, delimiter='\\t')\n",
    "    \n",
    "    for row in csv_reader:\n",
    "        print(row)\n",
    "    \n",
    "    csv_reader = csv.reader(f, delimiter='\\t')\n",
    "    \n",
    "    for row in csv_reader:\n",
    "        print(row)"
   ]
  },
  {
   "cell_type": "code",
   "execution_count": 66,
   "metadata": {},
   "outputs": [
    {
     "name": "stdout",
     "output_type": "stream",
     "text": [
      "['X', 'Y', 'Z']\n",
      "['1', '2', '3']\n",
      "['4', '5', '6']\n",
      "['7', '8', '9']\n"
     ]
    }
   ],
   "source": [
    "# Using csv.reader() generator directly but still not using f.seek(0)\n",
    "\n",
    "with open('Sample.csv', mode='r', encoding='utf-8', newline='') as f:\n",
    "    for row in csv.reader(f, delimiter='\\t'):\n",
    "        print(row) \n",
    "    \n",
    "    for row in csv.reader(f, delimiter='\\t'):\n",
    "        print(row)"
   ]
  },
  {
   "cell_type": "code",
   "execution_count": 67,
   "metadata": {},
   "outputs": [
    {
     "name": "stdout",
     "output_type": "stream",
     "text": [
      "['X', 'Y', 'Z']\n",
      "['1', '2', '3']\n",
      "['4', '5', '6']\n",
      "['7', '8', '9']\n",
      "['X', 'Y', 'Z']\n",
      "['1', '2', '3']\n",
      "['4', '5', '6']\n",
      "['7', '8', '9']\n"
     ]
    }
   ],
   "source": [
    "# Using f.seek(0) in above examples :)\n",
    "\n",
    "with open('Sample.csv', mode='r', encoding='utf-8', newline='') as f:\n",
    "    for row in csv.reader(f, delimiter='\\t'):\n",
    "        print(row) \n",
    "        \n",
    "    f.seek(0)\n",
    "    \n",
    "    for row in csv.reader(f, delimiter='\\t'):\n",
    "        print(row)"
   ]
  },
  {
   "cell_type": "code",
   "execution_count": 69,
   "metadata": {},
   "outputs": [
    {
     "name": "stdout",
     "output_type": "stream",
     "text": [
      "['X', 'Y', 'Z']\n",
      "['1', '2', '3']\n",
      "['4', '5', '6']\n",
      "['7', '8', '9']\n",
      "['X', 'Y', 'Z']\n",
      "['1', '2', '3']\n",
      "['4', '5', '6']\n",
      "['7', '8', '9']\n"
     ]
    }
   ],
   "source": [
    "# We can also open read and close .csv file twice!\n",
    "with open('Sample.csv', mode='r', encoding='utf-8', newline='') as f:\n",
    "    for row in csv.reader(f, delimiter='\\t'):\n",
    "        print(row) \n",
    "        \n",
    "with open('Sample.csv', mode='r', encoding='utf-8', newline='') as f:\n",
    "    for row in csv.reader(f, delimiter='\\t'):\n",
    "        print(row) "
   ]
  },
  {
   "cell_type": "markdown",
   "metadata": {},
   "source": [
    "## Copy data from one .csv file and paste it in another .csv file"
   ]
  },
  {
   "cell_type": "code",
   "execution_count": 1,
   "metadata": {},
   "outputs": [],
   "source": [
    "import csv"
   ]
  },
  {
   "cell_type": "code",
   "execution_count": 7,
   "metadata": {},
   "outputs": [],
   "source": [
    "# Lets first create a brand new .csv file\n",
    "with open('Experiment1.csv', mode='w', newline='') as f:\n",
    "    csv_writer = csv.writer(f)\n",
    "    num = 1\n",
    "    for _ in range(1,6):\n",
    "        csv_writer.writerow(list(range(num,num+3)))\n",
    "        num += 3"
   ]
  },
  {
   "cell_type": "code",
   "execution_count": 10,
   "metadata": {},
   "outputs": [
    {
     "name": "stdout",
     "output_type": "stream",
     "text": [
      "[['1', '2', '3'], ['4', '5', '6'], ['7', '8', '9'], ['10', '11', '12'], ['13', '14', '15']]\n"
     ]
    }
   ],
   "source": [
    "# Here int objects are directly converted into str format, since list(range(num,num+3)\n",
    "# produces a list of three integers therefor while writing and storing, integers are \n",
    "# stored in str format\n",
    "\n",
    "with open('Experiment1.csv', mode='r') as f:\n",
    "    csv_reader = csv.reader(f)\n",
    "    data = list(csv_reader)\n",
    "    print(data)"
   ]
  },
  {
   "cell_type": "markdown",
   "metadata": {},
   "source": [
    "Example 1:- Simple copy-paste"
   ]
  },
  {
   "cell_type": "code",
   "execution_count": 12,
   "metadata": {},
   "outputs": [],
   "source": [
    "# Now lets copy data from Experiment1.csv to a brand new Experiment2.csv file\n",
    "\n",
    "with open('Experiment1.csv', mode='r', encoding='utf-8') as f:\n",
    "    csv_reader = csv.reader(f)\n",
    "        \n",
    "    with open('Experiment2.csv', mode='w', newline='') as ff:\n",
    "        csv_writer = csv.writer(ff)\n",
    "        \n",
    "        for row in csv_reader:\n",
    "            csv_writer.writerow(row)"
   ]
  },
  {
   "cell_type": "markdown",
   "metadata": {},
   "source": [
    "Example 2:- Copy-modify-paste"
   ]
  },
  {
   "cell_type": "code",
   "execution_count": 13,
   "metadata": {},
   "outputs": [],
   "source": [
    "# Adding control statements to copy info from Experiment1\n",
    "# and and changing it before pasting it in Experiment 3\n",
    "\n",
    "with open('Experiment1.csv', mode='r', encoding='utf-8') as f:\n",
    "    csv_reader = csv.reader(f)\n",
    "        \n",
    "    with open('Experiment3.csv', mode='w', newline='') as ff:\n",
    "        csv_writer = csv.writer(ff)\n",
    "        \n",
    "        # Changing row 3 column 2 (element 8)\n",
    "        for row in csv_reader:\n",
    "            if row[1] == '8':\n",
    "                csv_writer.writerow([row[0],'45',row[2]])\n",
    "                \n",
    "            else:\n",
    "                csv_writer.writerow(row)"
   ]
  },
  {
   "cell_type": "markdown",
   "metadata": {},
   "source": [
    "Example 3:- Copy-modify-paste (PRACTICAL)"
   ]
  },
  {
   "cell_type": "code",
   "execution_count": 2,
   "metadata": {},
   "outputs": [],
   "source": [
    "with open('data1.csv', mode='w', newline='') as f:\n",
    "    csv_writer = csv.writer(f)\n",
    "    csv_writer.writerow(['Name','Balance'])\n",
    "    csv_writer.writerows([['Yash',9000],['Kunal',15000],['Hardik',11000]])"
   ]
  },
  {
   "cell_type": "code",
   "execution_count": 3,
   "metadata": {},
   "outputs": [
    {
     "name": "stdout",
     "output_type": "stream",
     "text": [
      "['Name', 'Balance']\n",
      "['Yash', '9000']\n",
      "['Kunal', '15000']\n",
      "['Hardik', '11000']\n"
     ]
    }
   ],
   "source": [
    "with open('data1.csv', mode='r', encoding='utf-8') as f:\n",
    "    for row in csv.reader(f):\n",
    "        print(row)"
   ]
  },
  {
   "cell_type": "code",
   "execution_count": 14,
   "metadata": {},
   "outputs": [],
   "source": [
    "# Using csv.reader() and csv.writer() directly\n",
    "with open('data1.csv', mode='r', encoding='utf-8') as f:\n",
    "    \n",
    "    with open('data2.csv', mode='w', newline='') as ff:\n",
    "        \n",
    "        for name,balance in csv.reader(f):\n",
    "            if name == 'Kunal':\n",
    "                csv.writer(ff).writerow([name, int(balance)+5000])\n",
    "            \n",
    "            else:\n",
    "                csv.writer(ff).writerow([name, balance])"
   ]
  },
  {
   "cell_type": "markdown",
   "metadata": {},
   "source": [
    "## Editing pre-existing data in .csv files\n",
    "We cannot edit pre-existing data in .csv files directly, since we can only read(reading existing data), write(overwriting pre-existing data or writing an entirely new data) and append(appending/adding new data at the end of the pre-existing data). Therefore to edit the pre-existing data from a base .csv file, we first have to copy-modify-paste the that data in some temp .csv file, and then copy that modified data from .csv file and overwrite it into base .csf file. "
   ]
  },
  {
   "cell_type": "code",
   "execution_count": 15,
   "metadata": {},
   "outputs": [],
   "source": [
    "with open('base.csv', mode='w', newline='') as f:\n",
    "    csv_writer = csv.writer(f)\n",
    "    num = 1\n",
    "    for _ in range(0,3):\n",
    "        csv_writer.writerow(list(range(num, num+3)))\n",
    "        num += 3"
   ]
  },
  {
   "cell_type": "code",
   "execution_count": 18,
   "metadata": {},
   "outputs": [
    {
     "name": "stdout",
     "output_type": "stream",
     "text": [
      "['1', '2', '3']\n",
      "['4', '5', '6']\n",
      "['7', '8', '9']\n"
     ]
    }
   ],
   "source": [
    "with open('base.csv', mode='r', encoding='utf-8') as f:\n",
    "    csv_reader = csv.reader(f)\n",
    "    for  row in csv_reader:\n",
    "        print(row)"
   ]
  },
  {
   "cell_type": "code",
   "execution_count": 21,
   "metadata": {},
   "outputs": [],
   "source": [
    "# base.csv --> copy + modify + write --> temp.csv\n",
    "with open('base.csv', mode='r', encoding='utf-8') as f:\n",
    "    csv_reader = csv.reader(f)\n",
    "    \n",
    "    with open('temp.csv', mode='w', newline='') as ff:\n",
    "        csv_writer = csv.writer(ff)\n",
    "        \n",
    "        for row in csv_reader:\n",
    "            csv_writer.writerow(list(map(lambda x:int(x)**2,row)))"
   ]
  },
  {
   "cell_type": "code",
   "execution_count": 22,
   "metadata": {},
   "outputs": [
    {
     "name": "stdout",
     "output_type": "stream",
     "text": [
      "['1', '4', '9']\n",
      "['16', '25', '36']\n",
      "['49', '64', '81']\n"
     ]
    }
   ],
   "source": [
    "with open('temp.csv', mode='r', encoding='utf-8') as f:\n",
    "    csv_reader = csv.reader(f)\n",
    "    for  row in csv_reader:\n",
    "        print(row)"
   ]
  },
  {
   "cell_type": "code",
   "execution_count": 23,
   "metadata": {},
   "outputs": [],
   "source": [
    "# temp.csv --> copy + overwrite --> base.csv\n",
    "with open('temp.csv', mode='r', encoding='utf-8') as f:\n",
    "    csv_reader = csv.reader(f)\n",
    "    \n",
    "    with open('base.csv', mode='w', newline='') as ff:\n",
    "        csv_writer = csv.writer(ff)\n",
    "        \n",
    "        for row in csv_reader:\n",
    "            csv_writer.writerow(row)"
   ]
  },
  {
   "cell_type": "code",
   "execution_count": 24,
   "metadata": {},
   "outputs": [
    {
     "name": "stdout",
     "output_type": "stream",
     "text": [
      "['1', '4', '9']\n",
      "['16', '25', '36']\n",
      "['49', '64', '81']\n"
     ]
    }
   ],
   "source": [
    "with open('base.csv', mode='r', encoding='utf-8') as f:\n",
    "    csv_reader = csv.reader(f)\n",
    "    for  row in csv_reader:\n",
    "        print(row)"
   ]
  },
  {
   "cell_type": "markdown",
   "metadata": {},
   "source": [
    "We can then delete temp.csv using os.remove() function. This function will remove the temp.csv file permanently. If we don't want to remove permanently, we can use send2trash() function from send2trash() module to send temp.csv to recycle \n",
    "bin\n",
    "\n",
    "https://docs.python.org/3/library/os.html#os.remove"
   ]
  },
  {
   "cell_type": "code",
   "execution_count": 25,
   "metadata": {},
   "outputs": [],
   "source": [
    "import os"
   ]
  },
  {
   "cell_type": "code",
   "execution_count": 28,
   "metadata": {
    "scrolled": true
   },
   "outputs": [
    {
     "data": {
      "text/plain": [
       "'C:\\\\Users\\\\YasH\\\\PDF and CSV files'"
      ]
     },
     "execution_count": 28,
     "metadata": {},
     "output_type": "execute_result"
    }
   ],
   "source": [
    "os.getcwd()"
   ]
  },
  {
   "cell_type": "code",
   "execution_count": 37,
   "metadata": {},
   "outputs": [
    {
     "data": {
      "text/plain": [
       "['.ipynb_checkpoints',\n",
       " '1) .csv file.ipynb',\n",
       " 'base.csv',\n",
       " 'data1.csv',\n",
       " 'data2.csv',\n",
       " 'Experiment1.csv',\n",
       " 'Experiment2.csv',\n",
       " 'Experiment3.csv',\n",
       " 'Sample.csv',\n",
       " 'temp.csv']"
      ]
     },
     "execution_count": 37,
     "metadata": {},
     "output_type": "execute_result"
    }
   ],
   "source": [
    "os.listdir()"
   ]
  },
  {
   "cell_type": "code",
   "execution_count": 38,
   "metadata": {},
   "outputs": [
    {
     "data": {
      "text/plain": [
       "True"
      ]
     },
     "execution_count": 38,
     "metadata": {},
     "output_type": "execute_result"
    }
   ],
   "source": [
    "'temp.csv' in os.listdir()"
   ]
  },
  {
   "cell_type": "code",
   "execution_count": 39,
   "metadata": {},
   "outputs": [],
   "source": [
    "os.remove(os.getcwd()+'\\\\temp.csv')"
   ]
  },
  {
   "cell_type": "code",
   "execution_count": 40,
   "metadata": {},
   "outputs": [
    {
     "data": {
      "text/plain": [
       "['.ipynb_checkpoints',\n",
       " '1) .csv file.ipynb',\n",
       " 'base.csv',\n",
       " 'data1.csv',\n",
       " 'data2.csv',\n",
       " 'Experiment1.csv',\n",
       " 'Experiment2.csv',\n",
       " 'Experiment3.csv',\n",
       " 'Sample.csv']"
      ]
     },
     "execution_count": 40,
     "metadata": {},
     "output_type": "execute_result"
    }
   ],
   "source": [
    "os.listdir()"
   ]
  },
  {
   "cell_type": "code",
   "execution_count": 41,
   "metadata": {},
   "outputs": [
    {
     "data": {
      "text/plain": [
       "False"
      ]
     },
     "execution_count": 41,
     "metadata": {},
     "output_type": "execute_result"
    }
   ],
   "source": [
    "'temp.csv' in os.listdir()"
   ]
  },
  {
   "cell_type": "code",
   "execution_count": null,
   "metadata": {},
   "outputs": [],
   "source": []
  }
 ],
 "metadata": {
  "kernelspec": {
   "display_name": "Python 3",
   "language": "python",
   "name": "python3"
  },
  "language_info": {
   "codemirror_mode": {
    "name": "ipython",
    "version": 3
   },
   "file_extension": ".py",
   "mimetype": "text/x-python",
   "name": "python",
   "nbconvert_exporter": "python",
   "pygments_lexer": "ipython3",
   "version": "3.7.1"
  }
 },
 "nbformat": 4,
 "nbformat_minor": 4
}
