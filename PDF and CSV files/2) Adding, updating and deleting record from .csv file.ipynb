{
 "cells": [
  {
   "cell_type": "code",
   "execution_count": 4,
   "metadata": {},
   "outputs": [],
   "source": [
    "import csv\n",
    "import os\n",
    "import string"
   ]
  },
  {
   "cell_type": "code",
   "execution_count": 9,
   "metadata": {},
   "outputs": [],
   "source": [
    "with open('Records.csv', mode='w', newline='') as f:\n",
    "    csv_writer = csv.writer(f)\n",
    "    csv_writer.writerow(['Username','Balance'])"
   ]
  },
  {
   "cell_type": "code",
   "execution_count": 17,
   "metadata": {},
   "outputs": [],
   "source": [
    "def createAccount():\n",
    "    \n",
    "    while True:\n",
    "        username = input('Username: ')\n",
    "        \n",
    "        if username == 'Username':\n",
    "            print('Invalid username')\n",
    "            continue\n",
    "        \n",
    "        for char in username:\n",
    "            if char not in string.ascii_letters + string.digits:\n",
    "                print('Invalid username')\n",
    "                break\n",
    "                \n",
    "            else:\n",
    "                continue\n",
    "                \n",
    "        else:\n",
    "            with open('Records.csv', mode='r', encoding='utf-8') as f:\n",
    "                csv_reader = csv.reader(f)\n",
    "                next(csv_reader)\n",
    "                for u,b in csv_reader:\n",
    "                    if u == username:\n",
    "                        print('Username already taken')\n",
    "                        break\n",
    "                        \n",
    "                    else:\n",
    "                        continue\n",
    "                        \n",
    "                else:\n",
    "                    break\n",
    "            \n",
    "    while True:\n",
    "        try:\n",
    "            amount = int(input('Deposite initial amount: '))\n",
    "            \n",
    "        except:\n",
    "            print('Invalid amount')\n",
    "            continue\n",
    "            \n",
    "        else:\n",
    "            if amount <= 0:\n",
    "                print('Invalid amount')\n",
    "                continue\n",
    "                \n",
    "            else:\n",
    "                break\n",
    "                \n",
    "    with open('Records.csv', mode='a', newline='') as f:\n",
    "        csv_writer = csv.writer(f)\n",
    "        csv_writer.writerow([username,amount])\n",
    "        \n",
    "    print('Account created!')"
   ]
  },
  {
   "cell_type": "code",
   "execution_count": 26,
   "metadata": {
    "scrolled": false
   },
   "outputs": [
    {
     "name": "stdout",
     "output_type": "stream",
     "text": [
      "Username: Lakhan\n",
      "Deposite initial amount: 1900\n",
      "Account created!\n"
     ]
    }
   ],
   "source": [
    "createAccount()"
   ]
  },
  {
   "cell_type": "code",
   "execution_count": 20,
   "metadata": {},
   "outputs": [],
   "source": [
    "def updateAccount():\n",
    "    \n",
    "    verify = False\n",
    "    while not verify:\n",
    "        \n",
    "        username = input('Username: ')\n",
    "\n",
    "        with open('Records.csv', mode='r', encoding='utf-8') as f:\n",
    "            csv_reader = csv.reader(f)\n",
    "            next(csv_reader)\n",
    "\n",
    "            for u,b in csv_reader:\n",
    "                if u == username:\n",
    "                    print(f'Current balance: {b}')\n",
    "                    verify = True\n",
    "                    break\n",
    "                    \n",
    "                else:\n",
    "                    # continue goes to closest enclosing loop,\n",
    "                    # in this case it is for-else loop\n",
    "                    continue\n",
    "                    \n",
    "            else:\n",
    "                print('Username not found! Try again')\n",
    "                # continue goes to closest enclosing loop,\n",
    "                # in this case it is while loop\n",
    "                continue\n",
    "                \n",
    "    while True:\n",
    "        try:\n",
    "            amount = int(input('Amount to be added: '))\n",
    "        \n",
    "        except:\n",
    "            print('Invalid amount')\n",
    "            continue\n",
    "            \n",
    "        else:\n",
    "            if amount <= 0:\n",
    "                print('Invalid amount')\n",
    "                continue\n",
    "                \n",
    "            else:\n",
    "                break\n",
    "    \n",
    "    # Creating temp.csv file containing modified data from Records.csv\n",
    "    with open('Records.csv', mode='r', encoding='utf-8') as f:\n",
    "        csv_reader = csv.reader(f)        \n",
    "        with open('temp.csv', mode='w', newline='') as ff:\n",
    "            csv_writer = csv.writer(ff)\n",
    "            \n",
    "            for u,b in csv_reader:\n",
    "                if u == username:\n",
    "                    csv_writer.writerow([u,int(b)+amount])\n",
    "                    \n",
    "                else:\n",
    "                    csv_writer.writerow([u,b])\n",
    "                    \n",
    "    # Overwriting Records.csv with modified data\n",
    "    with open('temp.csv', mode='r', encoding='utf-8') as f:\n",
    "        csv_reader = csv.reader(f)\n",
    "        with open('Records.csv', mode='w', newline='') as ff:\n",
    "            csv_writer = csv.writer(ff)\n",
    "            \n",
    "            for row in csv_reader:\n",
    "                csv_writer.writerow(row)\n",
    "                \n",
    "                \n",
    "    # Deleting temp.csv\n",
    "    path = os.getcwd()    \n",
    "    os.remove(path + '\\\\temp.csv')\n",
    "    \n",
    "    \n",
    "    print('Account updated!')        "
   ]
  },
  {
   "cell_type": "code",
   "execution_count": 22,
   "metadata": {
    "scrolled": true
   },
   "outputs": [
    {
     "name": "stdout",
     "output_type": "stream",
     "text": [
      "Username: Zakaru\n",
      "Current balance: 5788\n",
      "Amount to be added: 1150\n",
      "Account updated!\n"
     ]
    }
   ],
   "source": [
    "updateAccount()"
   ]
  },
  {
   "cell_type": "code",
   "execution_count": 23,
   "metadata": {},
   "outputs": [],
   "source": [
    "def deleteAccount():\n",
    "    verify = False\n",
    "    while not verify:\n",
    "        \n",
    "        username = input('Username: ')\n",
    "\n",
    "        with open('Records.csv', mode='r', encoding='utf-8') as f:\n",
    "            csv_reader = csv.reader(f)\n",
    "            next(csv_reader)\n",
    "\n",
    "            for u,b in csv_reader:\n",
    "                if u == username:\n",
    "                    print(f'Current balance: {b}')\n",
    "                    verify = True\n",
    "                    break\n",
    "                    \n",
    "                else:\n",
    "                    # continue goes to closest enclosing loop,\n",
    "                    # in this case it is for-else loop\n",
    "                    continue\n",
    "                    \n",
    "            else:\n",
    "                print('Username not found! Try again')\n",
    "                # continue goes to closest enclosing loop,\n",
    "                # in this case it is while loop\n",
    "                continue\n",
    "                \n",
    "    while True:\n",
    "        choice = input('Are you sure you want to delete your account? (y/n): ').lower()\n",
    "        \n",
    "        if choice not in ['y','n']:\n",
    "            print('Invalid choice')\n",
    "            continue\n",
    "            \n",
    "        if choice == 'y':\n",
    "            break\n",
    "            \n",
    "        if choice == 'n':\n",
    "            return None\n",
    "                \n",
    "    \n",
    "    # Creating temp.csv file containing modified data from Records.csv\n",
    "    with open('Records.csv', mode='r', encoding='utf-8') as f:\n",
    "        csv_reader = csv.reader(f)        \n",
    "        with open('temp.csv', mode='w', newline='') as ff:\n",
    "            csv_writer = csv.writer(ff)\n",
    "            \n",
    "            for u,b in csv_reader:\n",
    "                if u == username:\n",
    "                    continue\n",
    "                    \n",
    "                else:\n",
    "                    csv_writer.writerow([u,b])\n",
    "                    \n",
    "    # Overwriting Records.csv with modified data\n",
    "    with open('temp.csv', mode='r', encoding='utf-8') as f:\n",
    "        csv_reader = csv.reader(f)\n",
    "        with open('Records.csv', mode='w', newline='') as ff:\n",
    "            csv_writer = csv.writer(ff)\n",
    "            \n",
    "            for row in csv_reader:\n",
    "                csv_writer.writerow(row)\n",
    "                \n",
    "                \n",
    "    # Deleting temp.csv\n",
    "    path = os.getcwd()    \n",
    "    os.remove(path + '\\\\temp.csv')\n",
    "    \n",
    "    \n",
    "    print('Account deleted!')"
   ]
  },
  {
   "cell_type": "code",
   "execution_count": 25,
   "metadata": {
    "scrolled": true
   },
   "outputs": [
    {
     "name": "stdout",
     "output_type": "stream",
     "text": [
      "Username: Lakhan\n",
      "Current balance: 12000\n",
      "Are you sure you want to delete your account? (y/n): y\n",
      "Account deleted!\n"
     ]
    }
   ],
   "source": [
    "deleteAccount()"
   ]
  },
  {
   "cell_type": "code",
   "execution_count": null,
   "metadata": {},
   "outputs": [],
   "source": []
  }
 ],
 "metadata": {
  "kernelspec": {
   "display_name": "Python 3",
   "language": "python",
   "name": "python3"
  },
  "language_info": {
   "codemirror_mode": {
    "name": "ipython",
    "version": 3
   },
   "file_extension": ".py",
   "mimetype": "text/x-python",
   "name": "python",
   "nbconvert_exporter": "python",
   "pygments_lexer": "ipython3",
   "version": "3.7.1"
  }
 },
 "nbformat": 4,
 "nbformat_minor": 4
}
