{
 "cells": [
  {
   "cell_type": "markdown",
   "metadata": {},
   "source": [
    "#### https://docs.python.org/2/library/itertools.html"
   ]
  },
  {
   "cell_type": "code",
   "execution_count": 1,
   "metadata": {},
   "outputs": [],
   "source": [
    "import itertools"
   ]
  },
  {
   "cell_type": "markdown",
   "metadata": {},
   "source": [
    "### <code>product()</code>"
   ]
  },
  {
   "cell_type": "code",
   "execution_count": 7,
   "metadata": {},
   "outputs": [],
   "source": [
    "A = [1,2,3]\n",
    "B = ['a','b','c']\n",
    "C = ['1','2','3']"
   ]
  },
  {
   "cell_type": "code",
   "execution_count": 9,
   "metadata": {},
   "outputs": [
    {
     "name": "stdout",
     "output_type": "stream",
     "text": [
      "(1, 'a', '1')\n",
      "(1, 'a', '2')\n",
      "(1, 'a', '3')\n",
      "(1, 'b', '1')\n",
      "(1, 'b', '2')\n",
      "(1, 'b', '3')\n",
      "(1, 'c', '1')\n",
      "(1, 'c', '2')\n",
      "(1, 'c', '3')\n",
      "(2, 'a', '1')\n",
      "(2, 'a', '2')\n",
      "(2, 'a', '3')\n",
      "(2, 'b', '1')\n",
      "(2, 'b', '2')\n",
      "(2, 'b', '3')\n",
      "(2, 'c', '1')\n",
      "(2, 'c', '2')\n",
      "(2, 'c', '3')\n",
      "(3, 'a', '1')\n",
      "(3, 'a', '2')\n",
      "(3, 'a', '3')\n",
      "(3, 'b', '1')\n",
      "(3, 'b', '2')\n",
      "(3, 'b', '3')\n",
      "(3, 'c', '1')\n",
      "(3, 'c', '2')\n",
      "(3, 'c', '3')\n"
     ]
    }
   ],
   "source": [
    "# Iterating through each lists using nested for loops\n",
    "\n",
    "for x in A:\n",
    "    for y in B:\n",
    "        for z in C:\n",
    "            print((x,y,z))"
   ]
  },
  {
   "cell_type": "code",
   "execution_count": 10,
   "metadata": {
    "scrolled": true
   },
   "outputs": [
    {
     "data": {
      "text/plain": [
       "<itertools.product at 0x1a7477c0e10>"
      ]
     },
     "execution_count": 10,
     "metadata": {},
     "output_type": "execute_result"
    }
   ],
   "source": [
    "# Iterating through each lists using product() generator \n",
    "itertools.product(A,B,C)"
   ]
  },
  {
   "cell_type": "code",
   "execution_count": 11,
   "metadata": {},
   "outputs": [
    {
     "name": "stdout",
     "output_type": "stream",
     "text": [
      "(1, 'a', '1')\n",
      "(1, 'a', '2')\n",
      "(1, 'a', '3')\n",
      "(1, 'b', '1')\n",
      "(1, 'b', '2')\n",
      "(1, 'b', '3')\n",
      "(1, 'c', '1')\n",
      "(1, 'c', '2')\n",
      "(1, 'c', '3')\n",
      "(2, 'a', '1')\n",
      "(2, 'a', '2')\n",
      "(2, 'a', '3')\n",
      "(2, 'b', '1')\n",
      "(2, 'b', '2')\n",
      "(2, 'b', '3')\n",
      "(2, 'c', '1')\n",
      "(2, 'c', '2')\n",
      "(2, 'c', '3')\n",
      "(3, 'a', '1')\n",
      "(3, 'a', '2')\n",
      "(3, 'a', '3')\n",
      "(3, 'b', '1')\n",
      "(3, 'b', '2')\n",
      "(3, 'b', '3')\n",
      "(3, 'c', '1')\n",
      "(3, 'c', '2')\n",
      "(3, 'c', '3')\n"
     ]
    }
   ],
   "source": [
    "for t in itertools.product(A,B,C):\n",
    "    print(t)"
   ]
  },
  {
   "cell_type": "code",
   "execution_count": 12,
   "metadata": {},
   "outputs": [
    {
     "data": {
      "text/plain": [
       "<generator object <genexpr> at 0x000001A7477324F8>"
      ]
     },
     "execution_count": 12,
     "metadata": {},
     "output_type": "execute_result"
    }
   ],
   "source": [
    "# Here product(A,B,C) is equivalent to following generator comprehension!\n",
    "\n",
    "((x,y,z) for x in A for y in B for z in C)"
   ]
  },
  {
   "cell_type": "code",
   "execution_count": 13,
   "metadata": {},
   "outputs": [
    {
     "name": "stdout",
     "output_type": "stream",
     "text": [
      "(1, 'a', '1')\n",
      "(1, 'a', '2')\n",
      "(1, 'a', '3')\n",
      "(1, 'b', '1')\n",
      "(1, 'b', '2')\n",
      "(1, 'b', '3')\n",
      "(1, 'c', '1')\n",
      "(1, 'c', '2')\n",
      "(1, 'c', '3')\n",
      "(2, 'a', '1')\n",
      "(2, 'a', '2')\n",
      "(2, 'a', '3')\n",
      "(2, 'b', '1')\n",
      "(2, 'b', '2')\n",
      "(2, 'b', '3')\n",
      "(2, 'c', '1')\n",
      "(2, 'c', '2')\n",
      "(2, 'c', '3')\n",
      "(3, 'a', '1')\n",
      "(3, 'a', '2')\n",
      "(3, 'a', '3')\n",
      "(3, 'b', '1')\n",
      "(3, 'b', '2')\n",
      "(3, 'b', '3')\n",
      "(3, 'c', '1')\n",
      "(3, 'c', '2')\n",
      "(3, 'c', '3')\n"
     ]
    }
   ],
   "source": [
    "for t in ((x,y,z) for x in A for y in B for z in C):\n",
    "    print(t)"
   ]
  },
  {
   "cell_type": "code",
   "execution_count": 18,
   "metadata": {},
   "outputs": [
    {
     "name": "stdout",
     "output_type": "stream",
     "text": [
      "12 a\n",
      "12 b\n",
      "18 a\n",
      "18 b\n",
      "16 a\n",
      "16 b\n",
      "24 a\n",
      "24 b\n",
      "24 a\n",
      "24 b\n",
      "36 a\n",
      "36 b\n",
      "32 a\n",
      "32 b\n",
      "48 a\n",
      "48 b\n"
     ]
    }
   ],
   "source": [
    "# Here's another example of product()\n",
    "a = [1,2]\n",
    "b = [3,4]\n",
    "c = [4,6]\n",
    "d = ['a','b']\n",
    "\n",
    "for w,x,y,z in itertools.product(a,b,c,d):\n",
    "    print(w*x*y,z)"
   ]
  },
  {
   "cell_type": "code",
   "execution_count": 22,
   "metadata": {},
   "outputs": [
    {
     "name": "stdout",
     "output_type": "stream",
     "text": [
      "(1, 1)\n",
      "(1, 2)\n",
      "(1, 3)\n",
      "(2, 1)\n",
      "(2, 2)\n",
      "(2, 3)\n",
      "(3, 1)\n",
      "(3, 2)\n",
      "(3, 3)\n"
     ]
    }
   ],
   "source": [
    "# We can even use repeat for following code\n",
    "\n",
    "x = [1,2,3]\n",
    "\n",
    "for t in itertools.product(x,x):\n",
    "    print(t)"
   ]
  },
  {
   "cell_type": "code",
   "execution_count": 23,
   "metadata": {},
   "outputs": [
    {
     "name": "stdout",
     "output_type": "stream",
     "text": [
      "(1, 1)\n",
      "(1, 2)\n",
      "(1, 3)\n",
      "(2, 1)\n",
      "(2, 2)\n",
      "(2, 3)\n",
      "(3, 1)\n",
      "(3, 2)\n",
      "(3, 3)\n"
     ]
    }
   ],
   "source": [
    "# Using repeat keyword!\n",
    "\n",
    "for t in itertools.product(x,repeat=2):\n",
    "    print(t)"
   ]
  },
  {
   "cell_type": "code",
   "execution_count": null,
   "metadata": {},
   "outputs": [],
   "source": []
  }
 ],
 "metadata": {
  "kernelspec": {
   "display_name": "Python 3",
   "language": "python",
   "name": "python3"
  },
  "language_info": {
   "codemirror_mode": {
    "name": "ipython",
    "version": 3
   },
   "file_extension": ".py",
   "mimetype": "text/x-python",
   "name": "python",
   "nbconvert_exporter": "python",
   "pygments_lexer": "ipython3",
   "version": "3.7.1"
  }
 },
 "nbformat": 4,
 "nbformat_minor": 4
}
