{
 "cells": [
  {
   "cell_type": "markdown",
   "metadata": {},
   "source": [
    "# Raw for loop"
   ]
  },
  {
   "cell_type": "code",
   "execution_count": 3,
   "metadata": {},
   "outputs": [
    {
     "name": "stdout",
     "output_type": "stream",
     "text": [
      "x= 1\n",
      "y= 1\n",
      "y= 2\n",
      "y= 3\n",
      "y= 4\n",
      "y= 5\n",
      "BREAK\n",
      "x= 2\n",
      "y= 1\n",
      "y= 2\n",
      "y= 3\n",
      "y= 4\n",
      "y= 5\n",
      "BREAK\n",
      "x= 3\n",
      "y= 1\n",
      "y= 2\n",
      "y= 3\n",
      "y= 4\n",
      "y= 5\n",
      "BREAK\n"
     ]
    }
   ],
   "source": [
    "for x in [1,2,3]:\n",
    "    print('x=',x)\n",
    "    \n",
    "    for y in [1,2,3,4,5]:\n",
    "        print('y=',y)\n",
    "          \n",
    "    print('BREAK')"
   ]
  },
  {
   "cell_type": "markdown",
   "metadata": {},
   "source": [
    "# Raw for-else loop"
   ]
  },
  {
   "cell_type": "code",
   "execution_count": 2,
   "metadata": {},
   "outputs": [
    {
     "name": "stdout",
     "output_type": "stream",
     "text": [
      "x= 1\n",
      "y= 1\n",
      "y= 2\n",
      "y= 3\n",
      "y= 4\n",
      "y= 5\n",
      "BREAK\n",
      "x= 2\n",
      "y= 1\n",
      "y= 2\n",
      "y= 3\n",
      "y= 4\n",
      "y= 5\n",
      "BREAK\n",
      "x= 3\n",
      "y= 1\n",
      "y= 2\n",
      "y= 3\n",
      "y= 4\n",
      "y= 5\n",
      "BREAK\n"
     ]
    }
   ],
   "source": [
    "for x in [1,2,3]:\n",
    "    print('x=',x)\n",
    "    \n",
    "    for y in [1,2,3,4,5]:\n",
    "        print('y=',y)\n",
    "          \n",
    "    else:\n",
    "        print('BREAK')"
   ]
  },
  {
   "cell_type": "markdown",
   "metadata": {},
   "source": [
    "# Only <code>break</code> statement"
   ]
  },
  {
   "cell_type": "code",
   "execution_count": 1,
   "metadata": {},
   "outputs": [
    {
     "name": "stdout",
     "output_type": "stream",
     "text": [
      "1\n",
      "2\n",
      "BREAK\n",
      "1\n",
      "2\n",
      "BREAK\n",
      "1\n",
      "2\n",
      "BREAK\n"
     ]
    }
   ],
   "source": [
    "for x in [1,2,3]:\n",
    "    for y in [1,2,3,4,5]:\n",
    "        if y == 3:\n",
    "            break\n",
    "        else:\n",
    "            print(y)\n",
    "    # <----After execution of break statement, controll is re-directed here        \n",
    "    print('BREAK')"
   ]
  },
  {
   "cell_type": "markdown",
   "metadata": {},
   "source": [
    "# <code>break</code> statement and for-else loop\n",
    "### Unlike previous case, here break will even ignore the or-else statement. For-else statement will only get executed if for-loop (in this code its inner for-loop) is completely executed with all its iterations"
   ]
  },
  {
   "cell_type": "code",
   "execution_count": 2,
   "metadata": {},
   "outputs": [
    {
     "name": "stdout",
     "output_type": "stream",
     "text": [
      "1\n",
      "2\n",
      "1\n",
      "2\n",
      "1\n",
      "2\n"
     ]
    }
   ],
   "source": [
    "for x in [1,2,3]:\n",
    "    for y in [1,2,3,4,5]:\n",
    "        if y == 3:\n",
    "            break\n",
    "        else:\n",
    "            print(y)\n",
    "          \n",
    "    else:\n",
    "        print('BREAK')\n",
    "    # <----But now, controll is re-directed here "
   ]
  },
  {
   "cell_type": "markdown",
   "metadata": {},
   "source": [
    "# Only for-else loop"
   ]
  },
  {
   "cell_type": "code",
   "execution_count": 3,
   "metadata": {},
   "outputs": [
    {
     "name": "stdout",
     "output_type": "stream",
     "text": [
      "1\n",
      "2\n",
      " \n",
      "4\n",
      "5\n",
      "BREAK\n",
      "1\n",
      "2\n",
      " \n",
      "4\n",
      "5\n",
      "BREAK\n",
      "1\n",
      "2\n",
      " \n",
      "4\n",
      "5\n",
      "BREAK\n"
     ]
    }
   ],
   "source": [
    "for x in [1,2,3]:\n",
    "    for y in [1,2,3,4,5]:\n",
    "        if y == 3:\n",
    "            print(' ')\n",
    "        else:\n",
    "            print(y)\n",
    "          \n",
    "    else:\n",
    "        print('BREAK')"
   ]
  },
  {
   "cell_type": "markdown",
   "metadata": {},
   "source": [
    "# Without any <code>break</code> or for-else statement\n",
    "### Output of code above is similar to the output of code below, hence For-else statement is only effective when there is break statement within for-loop"
   ]
  },
  {
   "cell_type": "code",
   "execution_count": 4,
   "metadata": {},
   "outputs": [
    {
     "name": "stdout",
     "output_type": "stream",
     "text": [
      "1\n",
      "2\n",
      " \n",
      "4\n",
      "5\n",
      "BREAK\n",
      "1\n",
      "2\n",
      " \n",
      "4\n",
      "5\n",
      "BREAK\n",
      "1\n",
      "2\n",
      " \n",
      "4\n",
      "5\n",
      "BREAK\n"
     ]
    }
   ],
   "source": [
    "for x in [1,2,3]:\n",
    "    for y in [1,2,3,4,5]:\n",
    "        if y == 3:\n",
    "            print(' ')\n",
    "        else:\n",
    "            print(y)\n",
    "          \n",
    "    print('BREAK')"
   ]
  },
  {
   "cell_type": "markdown",
   "metadata": {},
   "source": [
    "# Example of for-else statement"
   ]
  },
  {
   "cell_type": "code",
   "execution_count": 5,
   "metadata": {},
   "outputs": [],
   "source": [
    "def count_primes(num):\n",
    "    \n",
    "    if num in [0,1]:\n",
    "        return 0\n",
    "    \n",
    "    primes = []\n",
    "    \n",
    "    x = 2\n",
    "    \n",
    "    while x <= num:\n",
    "        \n",
    "        for y in range(2,x):\n",
    "            if x%y == 0:\n",
    "                x += 1\n",
    "                break\n",
    "            else:\n",
    "                continue\n",
    "        \n",
    "        else:\n",
    "            primes.append(x)\n",
    "            x +=1\n",
    "            \n",
    "    print(primes)    \n",
    "    return len(primes)"
   ]
  },
  {
   "cell_type": "code",
   "execution_count": 6,
   "metadata": {},
   "outputs": [
    {
     "name": "stdout",
     "output_type": "stream",
     "text": [
      "[2, 3, 5, 7, 11, 13, 17, 19, 23, 29, 31, 37, 41, 43, 47, 53, 59, 61, 67, 71, 73, 79, 83, 89, 97]\n"
     ]
    },
    {
     "data": {
      "text/plain": [
       "25"
      ]
     },
     "execution_count": 6,
     "metadata": {},
     "output_type": "execute_result"
    }
   ],
   "source": [
    "count_primes(100)"
   ]
  },
  {
   "cell_type": "code",
   "execution_count": 7,
   "metadata": {},
   "outputs": [
    {
     "name": "stdout",
     "output_type": "stream",
     "text": [
      "[2, 3, 5, 7, 11, 13, 17, 19]\n"
     ]
    },
    {
     "data": {
      "text/plain": [
       "8"
      ]
     },
     "execution_count": 7,
     "metadata": {},
     "output_type": "execute_result"
    }
   ],
   "source": [
    "count_primes(20)"
   ]
  },
  {
   "cell_type": "code",
   "execution_count": 8,
   "metadata": {},
   "outputs": [
    {
     "data": {
      "text/plain": [
       "0"
      ]
     },
     "execution_count": 8,
     "metadata": {},
     "output_type": "execute_result"
    }
   ],
   "source": [
    "count_primes(1)"
   ]
  },
  {
   "cell_type": "code",
   "execution_count": 9,
   "metadata": {},
   "outputs": [
    {
     "name": "stdout",
     "output_type": "stream",
     "text": [
      "[2, 3, 5, 7, 11, 13, 17, 19, 23, 29, 31, 37, 41, 43, 47, 53, 59, 61, 67, 71, 73, 79, 83, 89, 97, 101, 103, 107, 109, 113, 127, 131, 137, 139, 149, 151, 157, 163, 167, 173, 179, 181, 191, 193, 197, 199, 211, 223, 227, 229, 233, 239, 241, 251, 257, 263, 269, 271, 277, 281, 283, 293, 307, 311, 313, 317, 331, 337, 347, 349, 353, 359, 367, 373, 379, 383, 389, 397, 401, 409, 419, 421, 431, 433, 439, 443, 449, 457, 461, 463, 467, 479, 487, 491, 499]\n"
     ]
    },
    {
     "data": {
      "text/plain": [
       "95"
      ]
     },
     "execution_count": 9,
     "metadata": {},
     "output_type": "execute_result"
    }
   ],
   "source": [
    "count_primes(500)"
   ]
  },
  {
   "cell_type": "markdown",
   "metadata": {},
   "source": [
    "# Equivalent of for-else statement"
   ]
  },
  {
   "cell_type": "code",
   "execution_count": 2,
   "metadata": {},
   "outputs": [
    {
     "name": "stdout",
     "output_type": "stream",
     "text": [
      "2\n",
      "Number 2 found!\n"
     ]
    }
   ],
   "source": [
    "# For-else statement\n",
    "\n",
    "number = int(input())\n",
    "\n",
    "for num in range(0,6):\n",
    "    if num == number:\n",
    "        print(f'Number {num} found!')\n",
    "        break\n",
    "        \n",
    "else:\n",
    "    print(f'Number {number} not in list :(')"
   ]
  },
  {
   "cell_type": "code",
   "execution_count": 4,
   "metadata": {},
   "outputs": [
    {
     "name": "stdout",
     "output_type": "stream",
     "text": [
      "7\n",
      "Number 7 not in list :(\n"
     ]
    }
   ],
   "source": [
    "# Equivalent of for-else\n",
    "\n",
    "number = int(input())\n",
    "\n",
    "found = False\n",
    "\n",
    "for num in range(0,6):\n",
    "    if num == number:\n",
    "        print(f'Number {num} found!')\n",
    "        found = True\n",
    "        break\n",
    "        \n",
    "if not found:\n",
    "    print(f'Number {number} not in list :(') "
   ]
  },
  {
   "cell_type": "code",
   "execution_count": null,
   "metadata": {},
   "outputs": [],
   "source": []
  }
 ],
 "metadata": {
  "kernelspec": {
   "display_name": "Python 3",
   "language": "python",
   "name": "python3"
  },
  "language_info": {
   "codemirror_mode": {
    "name": "ipython",
    "version": 3
   },
   "file_extension": ".py",
   "mimetype": "text/x-python",
   "name": "python",
   "nbconvert_exporter": "python",
   "pygments_lexer": "ipython3",
   "version": "3.7.1"
  }
 },
 "nbformat": 4,
 "nbformat_minor": 4
}
