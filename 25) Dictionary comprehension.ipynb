{
 "cells": [
  {
   "cell_type": "markdown",
   "metadata": {},
   "source": [
    "<p style=\"font-family: cursive; font-size: 18px; font-weight: bold;\">Example 1</p>"
   ]
  },
  {
   "cell_type": "code",
   "execution_count": 5,
   "metadata": {},
   "outputs": [
    {
     "data": {
      "text/plain": [
       "{'key 1': 'value 1',\n",
       " 'key 2': 'value 2',\n",
       " 'key 3': 'value 3',\n",
       " 'key 4': 'value 4',\n",
       " 'key 5': 'value 5',\n",
       " 'key 6': 'value 6',\n",
       " 'key 7': 'value 7',\n",
       " 'key 8': 'value 8'}"
      ]
     },
     "execution_count": 5,
     "metadata": {},
     "output_type": "execute_result"
    }
   ],
   "source": [
    "{f'key {i}' : f'value {i}' for i in range(1,9)}"
   ]
  },
  {
   "cell_type": "markdown",
   "metadata": {},
   "source": [
    "<p style=\"font-family: cursive; font-size: 18px; font-weight: bold;\">Example 2</p>"
   ]
  },
  {
   "cell_type": "code",
   "execution_count": 6,
   "metadata": {},
   "outputs": [],
   "source": [
    "nameList = ['Peter', 'Alex', 'Ana', 'Roonie', 'Lua']"
   ]
  },
  {
   "cell_type": "code",
   "execution_count": 8,
   "metadata": {},
   "outputs": [],
   "source": [
    "ageList = [17, 21, 17, 20, 15]"
   ]
  },
  {
   "cell_type": "code",
   "execution_count": 9,
   "metadata": {},
   "outputs": [],
   "source": [
    "emailList = ['loxoseb704@gridmauk.com', 'omohalaprancey@trashmail.tk', 'phamza_pa@crillix.com', 'foussama@btcmod.com', 'sana.brkat.3i@marchmovo.com'] "
   ]
  },
  {
   "cell_type": "code",
   "execution_count": 11,
   "metadata": {},
   "outputs": [],
   "source": [
    "studentsInformation = {name : {'Age':age, 'Email':email} for name, age, email in zip(nameList, ageList, emailList)}"
   ]
  },
  {
   "cell_type": "code",
   "execution_count": 13,
   "metadata": {},
   "outputs": [
    {
     "data": {
      "text/plain": [
       "{'Peter': {'Age': 17, 'Email': 'loxoseb704@gridmauk.com'},\n",
       " 'Alex': {'Age': 21, 'Email': 'omohalaprancey@trashmail.tk'},\n",
       " 'Ana': {'Age': 17, 'Email': 'phamza_pa@crillix.com'},\n",
       " 'Roonie': {'Age': 20, 'Email': 'foussama@btcmod.com'},\n",
       " 'Lua': {'Age': 15, 'Email': 'sana.brkat.3i@marchmovo.com'}}"
      ]
     },
     "execution_count": 13,
     "metadata": {},
     "output_type": "execute_result"
    }
   ],
   "source": [
    "studentsInformation"
   ]
  },
  {
   "cell_type": "code",
   "execution_count": 14,
   "metadata": {},
   "outputs": [
    {
     "data": {
      "text/plain": [
       "{'Age': 21, 'Email': 'omohalaprancey@trashmail.tk'}"
      ]
     },
     "execution_count": 14,
     "metadata": {},
     "output_type": "execute_result"
    }
   ],
   "source": [
    "studentsInformation['Alex']"
   ]
  },
  {
   "cell_type": "code",
   "execution_count": 15,
   "metadata": {},
   "outputs": [
    {
     "data": {
      "text/plain": [
       "15"
      ]
     },
     "execution_count": 15,
     "metadata": {},
     "output_type": "execute_result"
    }
   ],
   "source": [
    "studentsInformation['Lua']['Age']"
   ]
  },
  {
   "cell_type": "code",
   "execution_count": null,
   "metadata": {},
   "outputs": [],
   "source": []
  }
 ],
 "metadata": {
  "kernelspec": {
   "display_name": "Python 3",
   "language": "python",
   "name": "python3"
  },
  "language_info": {
   "codemirror_mode": {
    "name": "ipython",
    "version": 3
   },
   "file_extension": ".py",
   "mimetype": "text/x-python",
   "name": "python",
   "nbconvert_exporter": "python",
   "pygments_lexer": "ipython3",
   "version": "3.7.1"
  }
 },
 "nbformat": 4,
 "nbformat_minor": 4
}
