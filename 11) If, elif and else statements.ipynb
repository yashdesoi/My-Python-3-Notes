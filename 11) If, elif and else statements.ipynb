{
 "cells": [
  {
   "cell_type": "markdown",
   "metadata": {},
   "source": [
    "# Example 1"
   ]
  },
  {
   "cell_type": "code",
   "execution_count": 9,
   "metadata": {},
   "outputs": [
    {
     "name": "stdout",
     "output_type": "stream",
     "text": [
      "FEED ME!!\n"
     ]
    }
   ],
   "source": [
    "hungry = True\n",
    "\n",
    "if hungry:\n",
    "    print('FEED ME!!')\n",
    "\n",
    "else:\n",
    "    print(\"Don't feed me\")"
   ]
  },
  {
   "cell_type": "code",
   "execution_count": 10,
   "metadata": {},
   "outputs": [
    {
     "name": "stdout",
     "output_type": "stream",
     "text": [
      "Don't feed me\n"
     ]
    }
   ],
   "source": [
    "hungry = False\n",
    "\n",
    "if hungry:\n",
    "    print('FEED ME!!')\n",
    "    \n",
    "else:\n",
    "    print(\"Don't feed me\")"
   ]
  },
  {
   "cell_type": "markdown",
   "metadata": {},
   "source": [
    "# Example 2"
   ]
  },
  {
   "cell_type": "code",
   "execution_count": 12,
   "metadata": {},
   "outputs": [
    {
     "name": "stdout",
     "output_type": "stream",
     "text": [
      "ZERO\n"
     ]
    }
   ],
   "source": [
    "number = 0\n",
    "\n",
    "if number > 0:\n",
    "    print('positive number')\n",
    "\n",
    "elif number < 0:\n",
    "    print('negative number')\n",
    "    \n",
    "else:\n",
    "    print('ZERO')"
   ]
  },
  {
   "cell_type": "code",
   "execution_count": 13,
   "metadata": {},
   "outputs": [
    {
     "name": "stdout",
     "output_type": "stream",
     "text": [
      "positive number\n"
     ]
    }
   ],
   "source": [
    "number = 55\n",
    "\n",
    "if number > 0:\n",
    "    print('positive number')\n",
    "\n",
    "elif number < 0:\n",
    "    print('negative number')\n",
    "    \n",
    "else:\n",
    "    print('ZERO')"
   ]
  },
  {
   "cell_type": "code",
   "execution_count": 14,
   "metadata": {},
   "outputs": [
    {
     "name": "stdout",
     "output_type": "stream",
     "text": [
      "negative number\n"
     ]
    }
   ],
   "source": [
    "number = -11\n",
    "\n",
    "if number > 0:\n",
    "    print('positive number')\n",
    "\n",
    "elif number < 0:\n",
    "    print('negative number')\n",
    "    \n",
    "else:\n",
    "    print('ZERO')"
   ]
  },
  {
   "cell_type": "markdown",
   "metadata": {},
   "source": [
    "# Example 3"
   ]
  },
  {
   "cell_type": "code",
   "execution_count": 15,
   "metadata": {},
   "outputs": [
    {
     "name": "stdout",
     "output_type": "stream",
     "text": [
      "its a number\n"
     ]
    }
   ],
   "source": [
    "char = 24.053\n",
    "\n",
    "if (type(char) == int) or (type(char) == float):\n",
    "    print('its a number')\n",
    "\n",
    "elif type(char) == str:\n",
    "    print('its a string')\n",
    "    \n",
    "else:\n",
    "    print('other data-type')"
   ]
  },
  {
   "cell_type": "code",
   "execution_count": 16,
   "metadata": {},
   "outputs": [
    {
     "name": "stdout",
     "output_type": "stream",
     "text": [
      "its a number\n"
     ]
    }
   ],
   "source": [
    "char = 11\n",
    "\n",
    "if (type(char) == int) or (type(char) == float):\n",
    "    print('its a number')\n",
    "\n",
    "elif type(char) == str:\n",
    "    print('its a string')\n",
    "    \n",
    "else:\n",
    "    print('other data-type')"
   ]
  },
  {
   "cell_type": "code",
   "execution_count": 17,
   "metadata": {},
   "outputs": [
    {
     "name": "stdout",
     "output_type": "stream",
     "text": [
      "its a string\n"
     ]
    }
   ],
   "source": [
    "char = 'fourteen'\n",
    "\n",
    "if (type(char) == int) or (type(char) == float):\n",
    "    print('its a number')\n",
    "\n",
    "elif type(char) == str:\n",
    "    print('its a string')\n",
    "    \n",
    "else:\n",
    "    print('other data-type')"
   ]
  },
  {
   "cell_type": "code",
   "execution_count": 18,
   "metadata": {},
   "outputs": [
    {
     "name": "stdout",
     "output_type": "stream",
     "text": [
      "other data-type\n"
     ]
    }
   ],
   "source": [
    "char = [1, 2, '15']\n",
    "\n",
    "if (type(char) == int) or (type(char) == float):\n",
    "    print('its a number')\n",
    "\n",
    "elif type(char) == str:\n",
    "    print('its a string')\n",
    "    \n",
    "else:\n",
    "    print('other data-type')"
   ]
  },
  {
   "cell_type": "markdown",
   "metadata": {},
   "source": [
    "Built-in function <code>isinstance()</code>"
   ]
  },
  {
   "cell_type": "code",
   "execution_count": 1,
   "metadata": {},
   "outputs": [
    {
     "name": "stdout",
     "output_type": "stream",
     "text": [
      "its a string\n"
     ]
    }
   ],
   "source": [
    "char = 'fourteen'\n",
    "\n",
    "if isinstance(char,int) or isinstance(char,float):\n",
    "    print('its a number')\n",
    "\n",
    "elif isinstance(char,str):\n",
    "    print('its a string')\n",
    "    \n",
    "else:\n",
    "    print('other data-type')"
   ]
  },
  {
   "cell_type": "markdown",
   "metadata": {},
   "source": [
    "# Example 4 - Important example to understand control-flow"
   ]
  },
  {
   "cell_type": "code",
   "execution_count": 5,
   "metadata": {},
   "outputs": [
    {
     "name": "stdout",
     "output_type": "stream",
     "text": [
      "Jack\n"
     ]
    }
   ],
   "source": [
    "#Lets see what will be the output when both 'if' and 'elif' will be true if num=10\n",
    "\n",
    "num = 10\n",
    "\n",
    "if num>5 and num<=10: #here num=10 will give true\n",
    "    print('Jack')\n",
    "    \n",
    "elif num>=10 and num<20: #here also num=10 will give true\n",
    "    print('Elvis')\n",
    "    \n",
    "else:\n",
    "    print('Boomer')"
   ]
  },
  {
   "cell_type": "code",
   "execution_count": 6,
   "metadata": {},
   "outputs": [
    {
     "name": "stdout",
     "output_type": "stream",
     "text": [
      "Jack\n",
      "Elvis\n"
     ]
    }
   ],
   "source": [
    "num = 10\n",
    "\n",
    "if num>5 and num<=10:\n",
    "    print('Jack')\n",
    "    \n",
    "if num>=10 and num<20:\n",
    "    print('Elvis')"
   ]
  },
  {
   "cell_type": "code",
   "execution_count": 7,
   "metadata": {},
   "outputs": [
    {
     "name": "stdout",
     "output_type": "stream",
     "text": [
      "Jack\n",
      "Elvis\n"
     ]
    }
   ],
   "source": [
    "num = 10\n",
    "\n",
    "if num>5 and num<=10:\n",
    "    print('Jack')\n",
    "    \n",
    "if num>=10 and num<20:\n",
    "    print('Elvis')\n",
    "\n",
    "else:                #This 'else' is coupled with 2nd 'if'\n",
    "    print('Boomer')  "
   ]
  },
  {
   "cell_type": "code",
   "execution_count": 8,
   "metadata": {},
   "outputs": [
    {
     "name": "stdout",
     "output_type": "stream",
     "text": [
      "Jack\n",
      "Boomer\n"
     ]
    }
   ],
   "source": [
    "num = 7\n",
    "\n",
    "if num>5 and num<=10:\n",
    "    print('Jack')\n",
    "    \n",
    "if num>=10 and num<20:\n",
    "    print('Elvis')\n",
    "\n",
    "else:                #This 'else' is coupled with 2nd 'if'\n",
    "    print('Boomer')  "
   ]
  },
  {
   "cell_type": "markdown",
   "metadata": {},
   "source": [
    "# Example 5 - Important example to understand control-flow"
   ]
  },
  {
   "cell_type": "code",
   "execution_count": 1,
   "metadata": {},
   "outputs": [
    {
     "name": "stdout",
     "output_type": "stream",
     "text": [
      "Sammy\n",
      "David\n"
     ]
    }
   ],
   "source": [
    "if True:\n",
    "    print('Sammy')\n",
    "elif True:\n",
    "    print('Chunk')\n",
    "else:\n",
    "    print('Keith')\n",
    "    \n",
    "if True:\n",
    "    print('David')"
   ]
  },
  {
   "cell_type": "code",
   "execution_count": 2,
   "metadata": {},
   "outputs": [
    {
     "name": "stdout",
     "output_type": "stream",
     "text": [
      "Chunk\n",
      "David\n"
     ]
    }
   ],
   "source": [
    "if False:\n",
    "    print('Sammy')\n",
    "elif True:\n",
    "    print('Chunk')\n",
    "else:\n",
    "    print('Keith')\n",
    "    \n",
    "if True:\n",
    "    print('David')"
   ]
  },
  {
   "cell_type": "code",
   "execution_count": 3,
   "metadata": {},
   "outputs": [
    {
     "name": "stdout",
     "output_type": "stream",
     "text": [
      "Keith\n",
      "David\n"
     ]
    }
   ],
   "source": [
    "if False:\n",
    "    print('Sammy')\n",
    "elif False:\n",
    "    print('Chunk')\n",
    "else:\n",
    "    print('Keith')\n",
    "    \n",
    "if True:\n",
    "    print('David')"
   ]
  },
  {
   "cell_type": "code",
   "execution_count": 4,
   "metadata": {},
   "outputs": [
    {
     "name": "stdout",
     "output_type": "stream",
     "text": [
      "Sammy\n",
      "Jammie\n"
     ]
    }
   ],
   "source": [
    "if True:\n",
    "    print('Sammy')\n",
    "elif True:\n",
    "    print('Chunk')\n",
    "else:\n",
    "    print('Keith')\n",
    "    \n",
    "print('Jammie')"
   ]
  },
  {
   "cell_type": "code",
   "execution_count": 6,
   "metadata": {},
   "outputs": [
    {
     "name": "stdout",
     "output_type": "stream",
     "text": [
      "Sammy\n"
     ]
    }
   ],
   "source": [
    "if True:\n",
    "    print('Sammy')\n",
    "elif True:\n",
    "    print('Chunk')\n",
    "else:\n",
    "    print('Keith')\n",
    "    \n",
    "\n",
    "    print('Jammie')"
   ]
  },
  {
   "cell_type": "markdown",
   "metadata": {},
   "source": [
    "# Condition statements using object"
   ]
  },
  {
   "cell_type": "markdown",
   "metadata": {},
   "source": [
    "#### Strings"
   ]
  },
  {
   "cell_type": "code",
   "execution_count": 5,
   "metadata": {},
   "outputs": [
    {
     "name": "stdout",
     "output_type": "stream",
     "text": [
      "Hello World\n"
     ]
    }
   ],
   "source": [
    "if 'str':\n",
    "    print('Hello World')\n",
    "else:\n",
    "    print('Get Lost')"
   ]
  },
  {
   "cell_type": "code",
   "execution_count": 2,
   "metadata": {},
   "outputs": [
    {
     "name": "stdout",
     "output_type": "stream",
     "text": [
      "Get Lost\n"
     ]
    }
   ],
   "source": [
    "if '':\n",
    "    print('Hello World')\n",
    "else:\n",
    "    print('Get Lost')"
   ]
  },
  {
   "cell_type": "markdown",
   "metadata": {},
   "source": [
    "#### Numbers"
   ]
  },
  {
   "cell_type": "code",
   "execution_count": 6,
   "metadata": {},
   "outputs": [
    {
     "name": "stdout",
     "output_type": "stream",
     "text": [
      "Hello World\n"
     ]
    }
   ],
   "source": [
    "if 24.65:\n",
    "    print('Hello World')\n",
    "else:\n",
    "    print('Get Lost')"
   ]
  },
  {
   "cell_type": "code",
   "execution_count": 7,
   "metadata": {},
   "outputs": [
    {
     "name": "stdout",
     "output_type": "stream",
     "text": [
      "Get Lost\n"
     ]
    }
   ],
   "source": [
    "if 0:\n",
    "    print('Hello World')\n",
    "else:\n",
    "    print('Get Lost')"
   ]
  },
  {
   "cell_type": "code",
   "execution_count": 9,
   "metadata": {},
   "outputs": [],
   "source": [
    "zero = 0\n",
    "one = 1\n",
    "two = 2"
   ]
  },
  {
   "cell_type": "code",
   "execution_count": 10,
   "metadata": {},
   "outputs": [],
   "source": [
    "if zero:\n",
    "    print('TRUE')"
   ]
  },
  {
   "cell_type": "code",
   "execution_count": 11,
   "metadata": {},
   "outputs": [
    {
     "name": "stdout",
     "output_type": "stream",
     "text": [
      "TRUE\n"
     ]
    }
   ],
   "source": [
    "if one:\n",
    "    print('TRUE')"
   ]
  },
  {
   "cell_type": "code",
   "execution_count": 12,
   "metadata": {},
   "outputs": [
    {
     "name": "stdout",
     "output_type": "stream",
     "text": [
      "TRUE\n"
     ]
    }
   ],
   "source": [
    "if two:\n",
    "    print('TRUE')"
   ]
  },
  {
   "cell_type": "markdown",
   "metadata": {},
   "source": [
    "#### Lists"
   ]
  },
  {
   "cell_type": "code",
   "execution_count": 8,
   "metadata": {},
   "outputs": [
    {
     "name": "stdout",
     "output_type": "stream",
     "text": [
      "Hello World\n"
     ]
    }
   ],
   "source": [
    "if [0,1,2,3,4,5]:\n",
    "    print('Hello World')\n",
    "else:\n",
    "    print('Get Lost')"
   ]
  },
  {
   "cell_type": "code",
   "execution_count": 1,
   "metadata": {},
   "outputs": [
    {
     "name": "stdout",
     "output_type": "stream",
     "text": [
      "Get Lost\n"
     ]
    }
   ],
   "source": [
    "if []:\n",
    "    print('Hello World')\n",
    "else:\n",
    "    print('Get Lost')"
   ]
  },
  {
   "cell_type": "markdown",
   "metadata": {},
   "source": [
    "#### None"
   ]
  },
  {
   "cell_type": "code",
   "execution_count": 4,
   "metadata": {},
   "outputs": [
    {
     "name": "stdout",
     "output_type": "stream",
     "text": [
      "Get Lost\n"
     ]
    }
   ],
   "source": [
    "if None:\n",
    "    print('Hello World')\n",
    "else:\n",
    "    print('Get Lost')"
   ]
  },
  {
   "cell_type": "code",
   "execution_count": null,
   "metadata": {},
   "outputs": [],
   "source": []
  }
 ],
 "metadata": {
  "kernelspec": {
   "display_name": "Python 3",
   "language": "python",
   "name": "python3"
  },
  "language_info": {
   "codemirror_mode": {
    "name": "ipython",
    "version": 3
   },
   "file_extension": ".py",
   "mimetype": "text/x-python",
   "name": "python",
   "nbconvert_exporter": "python",
   "pygments_lexer": "ipython3",
   "version": "3.7.1"
  }
 },
 "nbformat": 4,
 "nbformat_minor": 4
}
